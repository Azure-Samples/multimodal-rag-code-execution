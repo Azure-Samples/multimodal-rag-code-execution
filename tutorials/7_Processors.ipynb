{
 "cells": [
  {
   "cell_type": "code",
   "execution_count": 1,
   "metadata": {},
   "outputs": [],
   "source": [
    "%load_ext autoreload\n",
    "%autoreload 2\n",
    "\n",
    "\n",
    "import sys\n",
    "sys.path.append('..\\\\code')\n",
    "\n",
    "\n",
    "import os\n",
    "from dotenv import load_dotenv\n",
    "load_dotenv()\n",
    "\n",
    "from IPython.display import display, Markdown, HTML\n",
    "from PIL import Image\n",
    "from doc_utils import *\n",
    "from processor import *\n",
    "\n",
    "\n",
    "def show_img(img_path, width = None):\n",
    "    if width is not None:\n",
    "        display(HTML(f'<img src=\"{img_path}\" width={width}>'))\n",
    "    else:\n",
    "        display(Image.open(img_path))\n",
    "\n",
    "\n"
   ]
  },
  {
   "cell_type": "markdown",
   "metadata": {},
   "source": [
    "### Ingest PDF Document with Document Intelligence"
   ]
  },
  {
   "cell_type": "code",
   "execution_count": null,
   "metadata": {},
   "outputs": [],
   "source": [
    "doc_path = r\"sample_data\\1_London_Brochure.pdf\"\n",
    "pdf1 = PdfProcessor(doc_path=doc_path, ingestion_directory = f\"./mm_docx_analysis_doc_int_3\", index_name = 'mm_docx_analysis_doc_int_3', processing_mode='document-intelligence', delete_existing_output_dir=True, num_threads=1)\n",
    "pdf1.ingest_document()"
   ]
  },
  {
   "cell_type": "markdown",
   "metadata": {},
   "source": [
    "### Ingest PDF Document with GPT-4-Vision"
   ]
  },
  {
   "cell_type": "code",
   "execution_count": null,
   "metadata": {},
   "outputs": [],
   "source": [
    "pdf2 = PdfProcessor(doc_path=doc_path, ingestion_directory = f\"./mm_docx_analysis_doc_int_4\", index_name = 'mm_docx_analysis_doc_int_4', processing_mode='GPT-4-Vision', delete_existing_output_dir=True, num_threads=1)\n",
    "pdf2.ingest_document()"
   ]
  },
  {
   "cell_type": "markdown",
   "metadata": {},
   "source": [
    "### Ingest Xlsx Document with OpenPyxl"
   ]
  },
  {
   "cell_type": "code",
   "execution_count": null,
   "metadata": {},
   "outputs": [],
   "source": [
    "doc_path = r\"sample_data/11_work_orders.xlsx\"\n",
    "xlsx = XlsxProcessor(doc_path, './mm_doc_analysis_xlsx', 'mm_doc_analysis_xlsx', delete_existing_output_dir=True, num_threads=1)\n",
    "xlsx.ingest_document()"
   ]
  },
  {
   "cell_type": "markdown",
   "metadata": {},
   "source": [
    "### Ingest Docx Document with Python-Docx"
   ]
  },
  {
   "cell_type": "code",
   "execution_count": null,
   "metadata": {},
   "outputs": [],
   "source": [
    "doc_path = r\"sample_data/1_London_Brochure.docx\"\n",
    "docx1 = DocxProcessor(doc_path, './mm_doc_analysis_docx_1', 'mm_doc_analysis_docx_1', delete_existing_output_dir=True, num_threads=1, processing_mode = 'py-docx')\n",
    "docx1.ingest_document()"
   ]
  },
  {
   "cell_type": "markdown",
   "metadata": {},
   "source": [
    "### Ingest Docx Document with Document Intelligence"
   ]
  },
  {
   "cell_type": "code",
   "execution_count": null,
   "metadata": {},
   "outputs": [],
   "source": [
    "doc_path = r\"sample_data/1_London_Brochure.docx\"\n",
    "docx2 = DocxProcessor(doc_path, './mm_doc_analysis_docx_2', 'mm_doc_analysis_docx_2', delete_existing_output_dir=True, num_threads=1, processing_mode = 'document-intelligence')\n",
    "docx2.ingest_document()"
   ]
  }
 ],
 "metadata": {
  "kernelspec": {
   "display_name": "mmdoc",
   "language": "python",
   "name": "python3"
  },
  "language_info": {
   "codemirror_mode": {
    "name": "ipython",
    "version": 3
   },
   "file_extension": ".py",
   "mimetype": "text/x-python",
   "name": "python",
   "nbconvert_exporter": "python",
   "pygments_lexer": "ipython3",
   "version": "3.10.13"
  }
 },
 "nbformat": 4,
 "nbformat_minor": 2
}
