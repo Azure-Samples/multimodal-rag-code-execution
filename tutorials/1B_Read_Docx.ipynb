{
 "cells": [
  {
   "cell_type": "markdown",
   "metadata": {},
   "source": [
    "# Read MS Word Documents\n",
    "\n",
    "Read MS Word Docx Documents with Python and the `python-docx` library, and extract text, images, and tables. "
   ]
  },
  {
   "cell_type": "markdown",
   "metadata": {},
   "source": [
    "### Install the Required Libraries"
   ]
  },
  {
   "cell_type": "code",
   "execution_count": null,
   "metadata": {},
   "outputs": [],
   "source": [
    "%pip install python-docx pandas\n"
   ]
  },
  {
   "cell_type": "markdown",
   "metadata": {},
   "source": [
    "### Python Imports"
   ]
  },
  {
   "cell_type": "code",
   "execution_count": 13,
   "metadata": {},
   "outputs": [],
   "source": [
    "import sys\n",
    "sys.path.append('..\\\\code')\n",
    "\n",
    "import os\n",
    "from dotenv import load_dotenv\n",
    "load_dotenv()\n",
    "\n",
    "from docx import Document\n",
    "import pandas as pd\n",
    "from docx.shared import Inches\n",
    "from docx.image.image import Image\n",
    "\n",
    "from IPython.display import display, Markdown, HTML\n",
    "from PIL import Image\n",
    "from doc_utils import *\n",
    "from utils.bcolors import bcolors as bc  \n",
    "\n",
    "\n",
    "def show_img(img_path, width = None):\n",
    "    if width is not None:\n",
    "        display(HTML(f'<img src=\"{img_path}\" width={width}>'))\n",
    "    else:\n",
    "        display(Image.open(img_path))"
   ]
  },
  {
   "cell_type": "markdown",
   "metadata": {},
   "source": [
    "### Code Definitions\n",
    "\n",
    "Defining the function that will read in the docx file and return the text, images and tables as a list of strings, list of images and list of pandas dataframes respectively."
   ]
  },
  {
   "cell_type": "code",
   "execution_count": 15,
   "metadata": {},
   "outputs": [],
   "source": [
    "\n",
    "def docx_extract(doc_path, images_folder='extracted_images'):\n",
    "    doc = Document(doc_path)\n",
    "    all_text = []\n",
    "    tables = []\n",
    "    images = []\n",
    "    image_count = 0\n",
    "    \n",
    "    # Ensure the images_folder exists\n",
    "    if not os.path.exists(images_folder):\n",
    "        os.makedirs(images_folder)\n",
    "    \n",
    "    # Extract all text\n",
    "    for para in doc.paragraphs:\n",
    "        all_text.append(para.text)\n",
    "    \n",
    "    # Extract all tables\n",
    "    for table in doc.tables:\n",
    "        headers = [cell.text for cell in table.rows[0].cells]\n",
    "        data = []\n",
    "        for row in table.rows[1:]:  # Skip header row\n",
    "            data.append([cell.text for cell in row.cells])\n",
    "        df = pd.DataFrame(data, columns=headers)\n",
    "        tables.append(df)\n",
    "    \n",
    "    # Extract all images\n",
    "    for rel in doc.part.rels.values():\n",
    "        if \"image\" in rel.target_ref:\n",
    "            img = rel.target_part.blob\n",
    "            image_path = os.path.join(images_folder, f'image{image_count}.jpg')\n",
    "            with open(image_path, 'wb') as img_file:\n",
    "                img_file.write(img)\n",
    "            image_count += 1\n",
    "            images.append(image_path)\n",
    "    \n",
    "    concatenated_text = '\\n'.join(all_text)\n",
    "    \n",
    "    return concatenated_text, tables, images\n"
   ]
  },
  {
   "cell_type": "code",
   "execution_count": 16,
   "metadata": {},
   "outputs": [
    {
     "name": "stdout",
     "output_type": "stream",
     "text": [
      "\u001b[94mText Snippet:\n",
      "\u001b[92mMargie’s Travel Presents…\n",
      "London\n",
      "London is the capital and most populous city of England and the Uni\u001b[0m\n",
      "\n",
      "\n",
      "Extracted 1 tables.\n",
      "Extracted 2 images.\n"
     ]
    }
   ],
   "source": [
    "doc_path = 'sample_data/1_London_Brochure.docx'\n",
    "concatenated_text, tables, images = docx_extract(doc_path)\n",
    "\n",
    "# You can print the concatenated text, the number of tables, and images extracted\n",
    "print(f\"{bc.OKBLUE}Text Snippet:\\n{bc.OKGREEN}{concatenated_text[:100]}{bc.ENDC}\\n\\n\")\n",
    "print(f\"Extracted {len(tables)} tables.\")\n",
    "print(f\"Extracted {len(images)} images.\")"
   ]
  },
  {
   "cell_type": "code",
   "execution_count": 20,
   "metadata": {},
   "outputs": [
    {
     "data": {
      "text/html": [
       "<img src=\"extracted_images\\image0.jpg\" width=500>"
      ],
      "text/plain": [
       "<IPython.core.display.HTML object>"
      ]
     },
     "metadata": {},
     "output_type": "display_data"
    }
   ],
   "source": [
    "show_img(images[0], width=500)"
   ]
  },
  {
   "cell_type": "code",
   "execution_count": 21,
   "metadata": {},
   "outputs": [
    {
     "data": {
      "text/html": [
       "<div>\n",
       "<style scoped>\n",
       "    .dataframe tbody tr th:only-of-type {\n",
       "        vertical-align: middle;\n",
       "    }\n",
       "\n",
       "    .dataframe tbody tr th {\n",
       "        vertical-align: top;\n",
       "    }\n",
       "\n",
       "    .dataframe thead th {\n",
       "        text-align: right;\n",
       "    }\n",
       "</style>\n",
       "<table border=\"1\" class=\"dataframe\">\n",
       "  <thead>\n",
       "    <tr style=\"text-align: right;\">\n",
       "      <th></th>\n",
       "      <th>Category</th>\n",
       "      <th>Information</th>\n",
       "    </tr>\n",
       "  </thead>\n",
       "  <tbody>\n",
       "    <tr>\n",
       "      <th>0</th>\n",
       "      <td>Country</td>\n",
       "      <td>United Kingdom</td>\n",
       "    </tr>\n",
       "    <tr>\n",
       "      <th>1</th>\n",
       "      <td>Capital Of</td>\n",
       "      <td>England</td>\n",
       "    </tr>\n",
       "    <tr>\n",
       "      <th>2</th>\n",
       "      <td>Currency</td>\n",
       "      <td>Pound Sterling (GBP)</td>\n",
       "    </tr>\n",
       "    <tr>\n",
       "      <th>3</th>\n",
       "      <td>Population (2021 census)</td>\n",
       "      <td>Approximately 8.8 million</td>\n",
       "    </tr>\n",
       "    <tr>\n",
       "      <th>4</th>\n",
       "      <td>Famous For</td>\n",
       "      <td>Historical landmarks, museums, cultural diversity</td>\n",
       "    </tr>\n",
       "  </tbody>\n",
       "</table>\n",
       "</div>"
      ],
      "text/plain": [
       "                   Category                                        Information\n",
       "0                   Country                                     United Kingdom\n",
       "1                Capital Of                                            England\n",
       "2                  Currency                               Pound Sterling (GBP)\n",
       "3  Population (2021 census)                          Approximately 8.8 million\n",
       "4                Famous For  Historical landmarks, museums, cultural diversity"
      ]
     },
     "execution_count": 21,
     "metadata": {},
     "output_type": "execute_result"
    }
   ],
   "source": [
    "tables[0].head()"
   ]
  },
  {
   "cell_type": "code",
   "execution_count": null,
   "metadata": {},
   "outputs": [],
   "source": []
  }
 ],
 "metadata": {
  "kernelspec": {
   "display_name": "mmdoc",
   "language": "python",
   "name": "python3"
  },
  "language_info": {
   "codemirror_mode": {
    "name": "ipython",
    "version": 3
   },
   "file_extension": ".py",
   "mimetype": "text/x-python",
   "name": "python",
   "nbconvert_exporter": "python",
   "pygments_lexer": "ipython3",
   "version": "3.10.13"
  }
 },
 "nbformat": 4,
 "nbformat_minor": 2
}
