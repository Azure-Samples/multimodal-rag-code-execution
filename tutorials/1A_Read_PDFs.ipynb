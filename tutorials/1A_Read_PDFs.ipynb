{
 "cells": [
  {
   "cell_type": "markdown",
   "metadata": {},
   "source": [
    "# Reading PDF Documents in Python\n",
    "\n",
    "In this notebook we will introduce the concepts of opening and reading PDF documents using the Python library PyMuPDF. This library can extract text, images and tables from digital PDFs. However, from print PDFs, such as scanned PDFs or PDFs which have vector graphics in them (most Powerpoint presentations), this library capabilities is limited.\n"
   ]
  },
  {
   "cell_type": "markdown",
   "metadata": {},
   "source": [
    "### Python Imports\n"
   ]
  },
  {
   "cell_type": "code",
   "execution_count": 5,
   "metadata": {},
   "outputs": [
    {
     "name": "stdout",
     "output_type": "stream",
     "text": [
      "The autoreload extension is already loaded. To reload it, use:\n",
      "  %reload_ext autoreload\n"
     ]
    }
   ],
   "source": [
    "%load_ext autoreload\n",
    "%autoreload 2\n",
    "\n",
    "\n",
    "import sys\n",
    "sys.path.append('..\\\\code')\n",
    "\n",
    "\n",
    "import os\n",
    "from dotenv import load_dotenv\n",
    "load_dotenv()\n",
    "\n",
    "from IPython.display import display, Markdown, HTML\n",
    "from PIL import Image\n",
    "from doc_utils import *\n",
    "\n",
    "\n",
    "def show_img(img_path, width = None):\n",
    "    if width is not None:\n",
    "        display(HTML(f'<img src=\"{img_path}\" width={width}>'))\n",
    "    else:\n",
    "        display(Image.open(img_path))\n"
   ]
  },
  {
   "cell_type": "markdown",
   "metadata": {},
   "source": [
    "### Make sure we have the OpenAI Models information\n",
    "\n",
    "We will need the GPT-4-Turbo and GPT-4-Vision models for this notebook.\n",
    "\n",
    "When running the below cell, the values should reflect the OpenAI reource you have created in "
   ]
  },
  {
   "cell_type": "code",
   "execution_count": null,
   "metadata": {},
   "outputs": [],
   "source": [
    "model_info = {\n",
    "        'AZURE_OPENAI_RESOURCE': os.environ.get('AZURE_OPENAI_RESOURCE'),\n",
    "        'AZURE_OPENAI_KEY': os.environ.get('AZURE_OPENAI_KEY'),\n",
    "        'AZURE_OPENAI_MODEL_VISION': os.environ.get('AZURE_OPENAI_MODEL_VISION'),\n",
    "        'AZURE_OPENAI_MODEL': os.environ.get('AZURE_OPENAI_MODEL'),\n",
    "}\n",
    "\n",
    "model_info\n"
   ]
  },
  {
   "cell_type": "markdown",
   "metadata": {},
   "source": [
    "## Read a Digital PDF Document\n",
    "\n",
    "Open a digital PDF Document with PyMuPDF, and save its pages as high-resolution PNG files. \n",
    "\n"
   ]
  },
  {
   "cell_type": "code",
   "execution_count": 7,
   "metadata": {},
   "outputs": [
    {
     "name": "stdout",
     "output_type": "stream",
     "text": [
      "PDF File 1_London_Brochure.pdf has 2 pages.\n"
     ]
    }
   ],
   "source": [
    "import fitz  # PyMuPDF\n",
    "\n",
    "# Create a directory to store the outputs\n",
    "work_dir = \"sample_data/pdf_outputs\"\n",
    "os.makedirs(work_dir, exist_ok=True)\n",
    "\n",
    "# Load a sample PDF document\n",
    "\n",
    "def read_pdf(pdf_doc):\n",
    "    doc = fitz.open(pdf_doc)\n",
    "    print(f\"PDF File {os.path.basename(pdf_doc)} has {len(doc)} pages.\")\n",
    "    return doc\n",
    "\n",
    "pdf_doc = \"sample_data/1_London_Brochure.pdf\"\n",
    "doc = read_pdf(pdf_doc)"
   ]
  },
  {
   "cell_type": "markdown",
   "metadata": {},
   "source": [
    "#### Extract Pages as PNG Files\n",
    "\n",
    "Extract the pages and store them as a PNG file. Please check them the output in the directory `work_dir`."
   ]
  },
  {
   "cell_type": "code",
   "execution_count": 8,
   "metadata": {},
   "outputs": [
    {
     "name": "stdout",
     "output_type": "stream",
     "text": [
      "Page 0 saved as sample_data/pdf_outputs/page_0.png\n",
      "Page 1 saved as sample_data/pdf_outputs/page_1.png\n"
     ]
    }
   ],
   "source": [
    "def nb_extract_pages_as_png_files(doc):\n",
    "    png_files = []\n",
    "    for page in doc:\n",
    "        page_num = page.number\n",
    "        img_path = f\"{work_dir}/page_{page_num}.png\"\n",
    "        page_pix = page.get_pixmap(dpi=300)\n",
    "        page_pix.save(img_path)\n",
    "        print(f\"Page {page_num} saved as {img_path}\")\n",
    "        png_files.append(img_path)\n",
    "    return png_files\n",
    "\n",
    "nb_extract_pages_as_png_files(doc)        \n"
   ]
  },
  {
   "cell_type": "markdown",
   "metadata": {},
   "source": [
    "##### Show Extracted Images"
   ]
  },
  {
   "cell_type": "code",
   "execution_count": 9,
   "metadata": {},
   "outputs": [
    {
     "data": {
      "text/html": [
       "<img src=\"sample_data/pdf_outputs/page_0.png\" width=300>"
      ],
      "text/plain": [
       "<IPython.core.display.HTML object>"
      ]
     },
     "metadata": {},
     "output_type": "display_data"
    },
    {
     "data": {
      "text/html": [
       "<img src=\"sample_data/pdf_outputs/page_1.png\" width=300>"
      ],
      "text/plain": [
       "<IPython.core.display.HTML object>"
      ]
     },
     "metadata": {},
     "output_type": "display_data"
    }
   ],
   "source": [
    "show_img('sample_data/pdf_outputs/page_0.png', width=300)\n",
    "show_img('sample_data/pdf_outputs/page_1.png', width=300)"
   ]
  },
  {
   "cell_type": "markdown",
   "metadata": {},
   "source": [
    "#### Extract Text\n",
    "\n",
    "Extract text from the pages and store them as text files. Please check them the output in the directory `work_dir`."
   ]
  },
  {
   "cell_type": "code",
   "execution_count": 10,
   "metadata": {},
   "outputs": [
    {
     "name": "stdout",
     "output_type": "stream",
     "text": [
      "Page 0 text saved to sample_data/pdf_outputs\\page_0.txt\n",
      "Page 1 text saved to sample_data/pdf_outputs\\page_1.txt\n",
      "\n",
      "\n",
      "Snippet from First Page Text:\n",
      "\n",
      "Margie’s Travel Presents… \n",
      "London \n",
      "London is the capital and \n",
      "most populous city of \n",
      "England and the United \n",
      "Kingdom. Standing on the \n",
      "River Thames in the south \n",
      "east of the island of Great \n",
      "Britain, London has been \n",
      "a major settlement for two \n",
      "millennia. It was founded \n",
      "by the Romans, who \n",
      "named it Londinium. \n",
      "London's ancient core, the \n",
      "City of London, largely \n",
      "retains its 1.12-square- \n",
      "mile medieval boundaries. \n",
      "Since at least the 19th century, London has also referred to the metropolis around this core, \n",
      "historically split between Middlesex, Essex, Surrey, Kent, and Hertfordshire, which today largely \n",
      "makes up Greater London, governed by the Mayor of London and the London Assembly. \n",
      " \n",
      " \n",
      "Mostly popular for: \n",
      "Leisure, Outdoors, Historical, Arts \n",
      "& Culture \n",
      "Best time to visit: \n",
      "Jun-Aug \n",
      "Averag Precipitation: 1.9 in \n",
      "Average Temperature: 56-67°F \n",
      " \n",
      " \n",
      " \n",
      " \n",
      "London Hotels \n",
      "Margie’s Travel offers the following accommodation options in London: \n",
      "The Buckingham Hotel \n",
      "Comfortable hotel close to major sights like Buckingham Palace, Regent’s Park, and Trafalgar \n",
      "Square. \n",
      "The City Hotel \n",
      "Luxury rooms in the city, within walking distance of Tower Bridge and the Tower of London.. \n",
      "The Kensington Hotel \n",
      "Budget accommodation near Earl’s Court. \n",
      "To book your trip to London, visit www.margiestravel.com \n",
      " \n",
      " \n",
      "\n"
     ]
    }
   ],
   "source": [
    "def nb_extract_text(doc):\n",
    "    txt_files = []\n",
    "\n",
    "    for page in doc:\n",
    "        page_num = page.number\n",
    "        text = page.get_text()\n",
    "\n",
    "        text_filename = os.path.join(work_dir, f\"page_{page_num}.txt\")\n",
    "        txt_files.append(text_filename)\n",
    "        with open(text_filename, 'w', encoding='utf-8') as file:\n",
    "            file.write(text)\n",
    "\n",
    "        print(f\"Page {page_num} text saved to {text_filename}\")\n",
    "\n",
    "    print(f\"\\n\\nSnippet from First Page Text:\\n\\n{read_asset_file(txt_files[0])[0]}\")\n",
    "\n",
    "    return txt_files\n",
    "\n",
    "txt_files = nb_extract_text(doc)"
   ]
  },
  {
   "cell_type": "markdown",
   "metadata": {},
   "source": [
    "#### Post-Process the Text\n",
    "\n",
    "Post-process the extracted text from the PDF using GPT-4. This will help to clean up the text and make it more readable, as well as enhance accuracy of search and RAG."
   ]
  },
  {
   "cell_type": "code",
   "execution_count": 11,
   "metadata": {},
   "outputs": [
    {
     "name": "stdout",
     "output_type": "stream",
     "text": [
      "## Margie’s Travel Presents: London\n",
      "\n",
      "London is the capital and most populous city of England and the United Kingdom. Standing on the River Thames in the southeast of the island of Great Britain, London has been a major settlement for two millennia. It was founded by the Romans, who named it Londinium. London's ancient core, the City of London, largely retains its 1.12-square-mile medieval boundaries. Since at least the 19th century, London has also referred to the metropolis around this core, historically split between Middlesex, Essex, Surrey, Kent, and Hertfordshire, which today largely makes up Greater London, governed by the Mayor of London and the London Assembly.\n",
      "\n",
      "### Mostly popular for:\n",
      "- Leisure\n",
      "- Outdoors\n",
      "- Historical\n",
      "- Arts & Culture\n",
      "\n",
      "### Best time to visit:\n",
      "Jun-Aug\n",
      "\n",
      "### Average Precipitation:\n",
      "1.9 in\n",
      "\n",
      "### Average Temperature:\n",
      "56-67°F\n",
      "\n",
      "### London Hotels\n",
      "Margie’s Travel offers the following accommodation options in London:\n",
      "\n",
      "- **The Buckingham Hotel**\n",
      "  Comfortable hotel close to major sights like Buckingham Palace, Regent’s Park, and Trafalgar Square.\n",
      "\n",
      "- **The City Hotel**\n",
      "  Luxury rooms in the city, within walking distance of Tower Bridge and the Tower of London.\n",
      "\n",
      "- **The Kensington Hotel**\n",
      "  Budget accommodation near Earl’s Court.\n",
      "\n",
      "To book your trip to London, visit [www.margiestravel.com](http://www.margiestravel.com)\n"
     ]
    }
   ],
   "source": [
    "process_extracted_text_prompt = \"\"\"\n",
    "The Extracted Text below is extracted with OCR, and might have tables in them. The number of tables is unknown. Please reformat all text and re-arrange it. Do not add text from your side, use the Extracted Text verbatim word-for-word. If you detect tables in the Extracted Text, please output them in Markdown format. The objective here to make the Extracted Text more readable and understandable. Do **NOT** any comments, details, explanations or justifications from your part.\n",
    "\n",
    "Extracted Text:\n",
    "## START OF EXTRACTED TEXT\n",
    "{text}\n",
    "## END OF EXTRACTED TEXT\n",
    "\n",
    "If a table is present in the text, a Markdown version of the table might be available below. Use it as your guidance to reconstruct the \"Extracted Text\":\n",
    "{markdown}\n",
    "\n",
    "\n",
    "\"\"\"\n",
    "\n",
    "def nb_post_process_text(text_file):\n",
    "    p = process_extracted_text_prompt.format(text=read_asset_file(text_file)[0], markdown = \"No Markdown Table Available\")\n",
    "\n",
    "    output = ask_LLM(p, model_info=model_info)\n",
    "    print(output)\n",
    "\n",
    "nb_post_process_text(txt_files[0])"
   ]
  },
  {
   "cell_type": "markdown",
   "metadata": {},
   "source": [
    "#### Extract Embedded Images\n",
    "\n",
    "In PDF files, one can find images embedded in pages. Below, we extract these images and save them. Please check them the output in the directory `work_dir`."
   ]
  },
  {
   "cell_type": "code",
   "execution_count": 12,
   "metadata": {},
   "outputs": [
    {
     "name": "stdout",
     "output_type": "stream",
     "text": [
      "Image found in page 0 saved as sample_data/pdf_outputs\\page_0_image_1.png\n",
      "Image found in page 0 saved as sample_data/pdf_outputs\\page_0_image_2.png\n"
     ]
    }
   ],
   "source": [
    "def nb_extract_images(doc):\n",
    "    for page in doc:\n",
    "        for img_index, img in enumerate(page.get_images()):\n",
    "            page_number = page.number\n",
    "            xref = img[0]\n",
    "            base_image = doc.extract_image(xref)\n",
    "            pix = fitz.Pixmap(doc, xref)\n",
    "            pix = fitz.Pixmap(fitz.csRGB, pix)                \n",
    "            image_filename = os.path.join(work_dir, f'page_{page_number}_image_{img_index+1}.png')\n",
    "            pix.save(image_filename, 'PNG')\n",
    "            print(f\"Image found in page {page_number} saved as {image_filename}\")\n",
    "\n",
    "nb_extract_images(doc)            "
   ]
  },
  {
   "cell_type": "code",
   "execution_count": 13,
   "metadata": {},
   "outputs": [
    {
     "data": {
      "text/html": [
       "<img src=\"sample_data/pdf_outputs/page_0_image_1.png\" width=500>"
      ],
      "text/plain": [
       "<IPython.core.display.HTML object>"
      ]
     },
     "metadata": {},
     "output_type": "display_data"
    }
   ],
   "source": [
    "show_img('sample_data/pdf_outputs/page_0_image_1.png', width=500)"
   ]
  },
  {
   "cell_type": "markdown",
   "metadata": {},
   "source": [
    "#### Extract Tables\n",
    "\n",
    "In PDF files, one can find embedded tables. Below, we extract those tables using PyMuPDF. "
   ]
  },
  {
   "cell_type": "code",
   "execution_count": 14,
   "metadata": {},
   "outputs": [
    {
     "name": "stdout",
     "output_type": "stream",
     "text": [
      "5 table(s) on 1\n"
     ]
    },
    {
     "data": {
      "text/html": [
       "<div>\n",
       "<style scoped>\n",
       "    .dataframe tbody tr th:only-of-type {\n",
       "        vertical-align: middle;\n",
       "    }\n",
       "\n",
       "    .dataframe tbody tr th {\n",
       "        vertical-align: top;\n",
       "    }\n",
       "\n",
       "    .dataframe thead th {\n",
       "        text-align: right;\n",
       "    }\n",
       "</style>\n",
       "<table border=\"1\" class=\"dataframe\">\n",
       "  <thead>\n",
       "    <tr style=\"text-align: right;\">\n",
       "      <th></th>\n",
       "      <th>Category</th>\n",
       "      <th>Information</th>\n",
       "    </tr>\n",
       "  </thead>\n",
       "  <tbody>\n",
       "    <tr>\n",
       "      <th>0</th>\n",
       "      <td>Country</td>\n",
       "      <td>United Kingdom</td>\n",
       "    </tr>\n",
       "    <tr>\n",
       "      <th>1</th>\n",
       "      <td>Capital Of</td>\n",
       "      <td>England</td>\n",
       "    </tr>\n",
       "    <tr>\n",
       "      <th>2</th>\n",
       "      <td>Currency</td>\n",
       "      <td>Pound Sterling (GBP)</td>\n",
       "    </tr>\n",
       "    <tr>\n",
       "      <th>3</th>\n",
       "      <td>Population (2021 census)</td>\n",
       "      <td>Approximately 8.8 million</td>\n",
       "    </tr>\n",
       "    <tr>\n",
       "      <th>4</th>\n",
       "      <td>Famous For</td>\n",
       "      <td>Historical landmarks, museums, cultural diversity</td>\n",
       "    </tr>\n",
       "  </tbody>\n",
       "</table>\n",
       "</div>"
      ],
      "text/plain": [
       "                   Category                                        Information\n",
       "0                   Country                                     United Kingdom\n",
       "1                Capital Of                                            England\n",
       "2                  Currency                               Pound Sterling (GBP)\n",
       "3  Population (2021 census)                          Approximately 8.8 million\n",
       "4                Famous For  Historical landmarks, museums, cultural diversity"
      ]
     },
     "metadata": {},
     "output_type": "display_data"
    }
   ],
   "source": [
    "def nb_extract_tables(doc):\n",
    "    for page in doc:\n",
    "        tables = page.find_tables()\n",
    "        page_number = page.number\n",
    "\n",
    "        for table in tables:\n",
    "            df = table.to_pandas()\n",
    "            print(f\"{len(df)} table(s) on {page_number}\")\n",
    "            display(df.head())\n",
    "\n",
    "nb_extract_tables(doc)        "
   ]
  },
  {
   "cell_type": "markdown",
   "metadata": {},
   "source": [
    "## Read a Non-Digital PDF Document\n",
    "\n",
    "Open a non-digital PDF Document with PyMuPDF, like a scanned print PDF or a Powerpoint presentation with lots of vector graphics, and try to extract text, images and tables.\n",
    "\n"
   ]
  },
  {
   "cell_type": "code",
   "execution_count": 15,
   "metadata": {},
   "outputs": [
    {
     "name": "stdout",
     "output_type": "stream",
     "text": [
      "PDF File 1_slide_1.pdf has 1 pages.\n"
     ]
    }
   ],
   "source": [
    "import fitz  # PyMuPDF\n",
    "\n",
    "# Create a directory to store the outputs\n",
    "work_dir = \"sample_data/pdf_outputs_print\"\n",
    "os.makedirs(work_dir, exist_ok=True)\n",
    "\n",
    "# Load a sample PDF document\n",
    "\n",
    "def read_pdf(pdf_doc):\n",
    "    doc = fitz.open(pdf_doc)\n",
    "    print(f\"PDF File {os.path.basename(pdf_doc)} has {len(doc)} pages.\")\n",
    "    return doc\n",
    "\n",
    "pdf_doc = \"sample_data/1_slide_1.pdf\"\n",
    "doc = read_pdf(pdf_doc)"
   ]
  },
  {
   "cell_type": "code",
   "execution_count": 16,
   "metadata": {},
   "outputs": [
    {
     "name": "stdout",
     "output_type": "stream",
     "text": [
      "Page 0 text saved to sample_data/pdf_outputs_print\\page_0.txt\n",
      "\n",
      "\n",
      "Snippet from First Page Text:\n",
      "\n",
      "Infrastructure is forecasted to be one of the fastest-growing \n",
      "segments of private markets\n",
      "4\n",
      "729\n",
      "1,190\n",
      "2,541\n",
      "2017\n",
      "2022\n",
      "2027\n",
      "Energy\n",
      "Telecom \n",
      "& digital\n",
      "Transport\n",
      "Water\n",
      "23\n",
      "7\n",
      "40\n",
      "5\n",
      "Investment\n",
      "Needs\n",
      "2022-2040 cumulative infrastructure investment & needs, $T\n",
      "16% \n",
      "CAGR\n",
      "Note: For footnoted information, refer to slide 11.\n",
      "10% \n",
      "CAGR\n",
      "Industry infrastructure AUM1\n",
      "$75T global infrastructure funding need2\n",
      "Clients allocating more to infra in new market regime3\n",
      "Infrastructure fares well in inflationary environments4\n",
      "43%\n",
      "37%\n",
      "28%\n",
      "22%\n",
      "22%\n",
      "18%\n",
      "39%\n",
      "45%\n",
      "57%\n",
      "50%\n",
      "43%\n",
      "52%\n",
      "18%\n",
      "18%\n",
      "15%\n",
      "28%\n",
      "35%\n",
      "30%\n",
      "Private Debt\n",
      "Infrastructure\n",
      "Private Equity\n",
      "Hedge Funds\n",
      "Venture Capital\n",
      "Real Estate\n",
      "More capital\n",
      "Same amount of capital\n",
      "Less capital\n",
      "Global Direct \n",
      "Infrastructure\n",
      "Global Direct \n",
      "Real Estate\n",
      "Global Equities\n",
      "Global Fixed \n",
      "Income\n",
      "17%\n",
      "16%\n",
      "15%\n",
      "0%\n",
      "Global Direct \n",
      "Infrastructure\n",
      "Global Direct \n",
      "Real Estate\n",
      "Global Equities\n",
      "Global Fixed \n",
      "Income\n",
      "23%\n",
      "8%\n",
      "2%\n",
      "8%\n",
      "High growth / high inflation\n",
      "Low growth / high inflation\n",
      "20-year total returns (ann’d)\n",
      "\n"
     ]
    },
    {
     "data": {
      "text/plain": [
       "['sample_data/pdf_outputs_print\\\\page_0.txt']"
      ]
     },
     "execution_count": 16,
     "metadata": {},
     "output_type": "execute_result"
    }
   ],
   "source": [
    "nb_extract_text(doc)"
   ]
  },
  {
   "cell_type": "code",
   "execution_count": 17,
   "metadata": {},
   "outputs": [
    {
     "name": "stdout",
     "output_type": "stream",
     "text": [
      "Infrastructure is forecasted to be one of the fastest-growing segments of private markets.\n",
      "\n",
      "Investment Needs:\n",
      "2022-2040 cumulative infrastructure investment & needs, $T\n",
      "- Energy: 23\n",
      "- Telecom & digital: 7\n",
      "- Transport: 40\n",
      "- Water: 5\n",
      "\n",
      "Industry infrastructure AUM1:\n",
      "- 2017: 729\n",
      "- 2022: 1,190\n",
      "- 2027: 2,541\n",
      "\n",
      "$75T global infrastructure funding need2\n",
      "\n",
      "Clients allocating more to infra in new market regime3:\n",
      "- 16% CAGR\n",
      "- Infrastructure fares well in inflationary environments4\n",
      "\n",
      "Allocation of Capital by Clients:\n",
      "- More capital: Private Debt (43%), Infrastructure (37%), Private Equity (28%), Hedge Funds (22%), Venture Capital (22%), Real Estate (18%)\n",
      "- Same amount of capital: Private Debt (39%), Infrastructure (45%), Private Equity (57%), Hedge Funds (50%), Venture Capital (43%), Real Estate (52%)\n",
      "- Less capital: Private Debt (18%), Infrastructure (18%), Private Equity (15%), Hedge Funds (28%), Venture Capital (35%), Real Estate (30%)\n",
      "\n",
      "20-year total returns (ann’d) in different market conditions:\n",
      "- High growth / high inflation: Global Direct Infrastructure (17%), Global Direct Real Estate (16%), Global Equities (15%), Global Fixed Income (0%)\n",
      "- Low growth / high inflation: Global Direct Infrastructure (23%), Global Direct Real Estate (8%), Global Equities (2%), Global Fixed Income (8%)\n",
      "\n",
      "Note: For footnoted information, refer to slide 11.\n"
     ]
    }
   ],
   "source": [
    "nb_post_process_text('sample_data/pdf_outputs_print/page_0.txt')"
   ]
  },
  {
   "cell_type": "code",
   "execution_count": 18,
   "metadata": {},
   "outputs": [
    {
     "name": "stdout",
     "output_type": "stream",
     "text": [
      "Image found in page 0 saved as sample_data/pdf_outputs_print\\page_0_image_1.png\n"
     ]
    },
    {
     "data": {
      "image/jpeg": "[encoded data removed]",
      "image/png": "[encoded data removed]",
      "text/plain": [
       "<PIL.PngImagePlugin.PngImageFile image mode=RGB size=388x102>"
      ]
     },
     "metadata": {},
     "output_type": "display_data"
    }
   ],
   "source": [
    "nb_extract_images(doc)\n",
    "show_img('sample_data/pdf_outputs_print\\page_0_image_1.png')"
   ]
  },
  {
   "cell_type": "code",
   "execution_count": 19,
   "metadata": {},
   "outputs": [
    {
     "name": "stdout",
     "output_type": "stream",
     "text": [
      "1 table(s) on 0\n"
     ]
    },
    {
     "data": {
      "text/html": [
       "<div>\n",
       "<style scoped>\n",
       "    .dataframe tbody tr th:only-of-type {\n",
       "        vertical-align: middle;\n",
       "    }\n",
       "\n",
       "    .dataframe tbody tr th {\n",
       "        vertical-align: top;\n",
       "    }\n",
       "\n",
       "    .dataframe thead th {\n",
       "        text-align: right;\n",
       "    }\n",
       "</style>\n",
       "<table border=\"1\" class=\"dataframe\">\n",
       "  <thead>\n",
       "    <tr style=\"text-align: right;\">\n",
       "      <th></th>\n",
       "      <th>Infrastructure is forecasted to be one of the fastest-growing\\nsegments of private markets\\nIndustry infrastructure AUM1 $75T global infrastructure funding need2\\n2022-2040 cumulative infrastructure investment &amp; needs, $T\\nInvestment 40\\n16%\\nCAGR 2,541 Needs\\n10%\\n23\\nCAGR\\n1,190\\n729\\n7\\n5\\n2017 2022 2027 Energy Telecom Transport Water\\n&amp; digital\\nClients allocating more to infra in new market regime3 Infrastructure fares well in inflationary environments4\\nHigh growth / high inflation\\nPrivate Debt 43% 39% 18%\\n17% 16% 15% (ann’d)\\nInfrastructure 37% 45% 18%\\n0%\\nPrivate Equity 28% 57% 15% returns\\nGlobal Direct Global Direct Global Equities Global Fixed\\nInfrastructure Real Estate Income\\nHedge Funds 22% 50% 28%\\ntotal\\nLow growth / high inflation\\nVenture Capital 22% 43% 35% 23%\\n20-year\\nReal Estate 18% 52% 30% 8% 8%\\n2%\\nMore capital Same amount of capital Less capital\\nGlobal Direct Global Direct Global Equities Global Fixed\\nInfrastructure Real Estate Income\\nNote: For footnoted information, refer to slide 11.</th>\n",
       "    </tr>\n",
       "  </thead>\n",
       "  <tbody>\n",
       "    <tr>\n",
       "      <th>0</th>\n",
       "      <td>4</td>\n",
       "    </tr>\n",
       "  </tbody>\n",
       "</table>\n",
       "</div>"
      ],
      "text/plain": [
       "  Infrastructure is forecasted to be one of the fastest-growing\\nsegments of private markets\\nIndustry infrastructure AUM1 $75T global infrastructure funding need2\\n2022-2040 cumulative infrastructure investment & needs, $T\\nInvestment 40\\n16%\\nCAGR 2,541 Needs\\n10%\\n23\\nCAGR\\n1,190\\n729\\n7\\n5\\n2017 2022 2027 Energy Telecom Transport Water\\n& digital\\nClients allocating more to infra in new market regime3 Infrastructure fares well in inflationary environments4\\nHigh growth / high inflation\\nPrivate Debt 43% 39% 18%\\n17% 16% 15% (ann’d)\\nInfrastructure 37% 45% 18%\\n0%\\nPrivate Equity 28% 57% 15% returns\\nGlobal Direct Global Direct Global Equities Global Fixed\\nInfrastructure Real Estate Income\\nHedge Funds 22% 50% 28%\\ntotal\\nLow growth / high inflation\\nVenture Capital 22% 43% 35% 23%\\n20-year\\nReal Estate 18% 52% 30% 8% 8%\\n2%\\nMore capital Same amount of capital Less capital\\nGlobal Direct Global Direct Global Equities Global Fixed\\nInfrastructure Real Estate Income\\nNote: For footnoted information, refer to slide 11.\n",
       "0                                                  4                                                                                                                                                                                                                                                                                                                                                                                                                                                                                                                                                                                                                                                                                                                                                                                                                                                                                                                                                                                                                        "
      ]
     },
     "metadata": {},
     "output_type": "display_data"
    },
    {
     "name": "stdout",
     "output_type": "stream",
     "text": [
      "1 table(s) on 0\n"
     ]
    },
    {
     "data": {
      "text/html": [
       "<div>\n",
       "<style scoped>\n",
       "    .dataframe tbody tr th:only-of-type {\n",
       "        vertical-align: middle;\n",
       "    }\n",
       "\n",
       "    .dataframe tbody tr th {\n",
       "        vertical-align: top;\n",
       "    }\n",
       "\n",
       "    .dataframe thead th {\n",
       "        text-align: right;\n",
       "    }\n",
       "</style>\n",
       "<table border=\"1\" class=\"dataframe\">\n",
       "  <thead>\n",
       "    <tr style=\"text-align: right;\">\n",
       "      <th></th>\n",
       "      <th>16%\\nCAGR 2,541\\n10%\\nCAGR\\n1,190\\n729</th>\n",
       "    </tr>\n",
       "  </thead>\n",
       "  <tbody>\n",
       "    <tr>\n",
       "      <th>0</th>\n",
       "      <td></td>\n",
       "    </tr>\n",
       "  </tbody>\n",
       "</table>\n",
       "</div>"
      ],
      "text/plain": [
       "  16%\\nCAGR 2,541\\n10%\\nCAGR\\n1,190\\n729\n",
       "0                                       "
      ]
     },
     "metadata": {},
     "output_type": "display_data"
    },
    {
     "name": "stdout",
     "output_type": "stream",
     "text": [
      "4 table(s) on 0\n"
     ]
    },
    {
     "data": {
      "text/html": [
       "<div>\n",
       "<style scoped>\n",
       "    .dataframe tbody tr th:only-of-type {\n",
       "        vertical-align: middle;\n",
       "    }\n",
       "\n",
       "    .dataframe tbody tr th {\n",
       "        vertical-align: top;\n",
       "    }\n",
       "\n",
       "    .dataframe thead th {\n",
       "        text-align: right;\n",
       "    }\n",
       "</style>\n",
       "<table border=\"1\" class=\"dataframe\">\n",
       "  <thead>\n",
       "    <tr style=\"text-align: right;\">\n",
       "      <th></th>\n",
       "      <th>16%\\nCAGR 2,5\\n10%\\nCAGR</th>\n",
       "      <th>Col1</th>\n",
       "      <th>Col2</th>\n",
       "      <th>Col3</th>\n",
       "    </tr>\n",
       "  </thead>\n",
       "  <tbody>\n",
       "    <tr>\n",
       "      <th>0</th>\n",
       "      <td>None</td>\n",
       "      <td>10%\\nCAGR</td>\n",
       "      <td>None</td>\n",
       "      <td>None</td>\n",
       "    </tr>\n",
       "    <tr>\n",
       "      <th>1</th>\n",
       "      <td>None</td>\n",
       "      <td>None</td>\n",
       "      <td>None</td>\n",
       "      <td></td>\n",
       "    </tr>\n",
       "    <tr>\n",
       "      <th>2</th>\n",
       "      <td>None</td>\n",
       "      <td></td>\n",
       "      <td>1,190</td>\n",
       "      <td>None</td>\n",
       "    </tr>\n",
       "    <tr>\n",
       "      <th>3</th>\n",
       "      <td>None</td>\n",
       "      <td>None</td>\n",
       "      <td></td>\n",
       "      <td>None</td>\n",
       "    </tr>\n",
       "  </tbody>\n",
       "</table>\n",
       "</div>"
      ],
      "text/plain": [
       "  16%\\nCAGR 2,5\\n10%\\nCAGR       Col1   Col2  Col3\n",
       "0                     None  10%\\nCAGR   None  None\n",
       "1                     None       None   None      \n",
       "2                     None             1,190  None\n",
       "3                     None       None         None"
      ]
     },
     "metadata": {},
     "output_type": "display_data"
    },
    {
     "name": "stdout",
     "output_type": "stream",
     "text": [
      "1 table(s) on 0\n"
     ]
    },
    {
     "data": {
      "text/html": [
       "<div>\n",
       "<style scoped>\n",
       "    .dataframe tbody tr th:only-of-type {\n",
       "        vertical-align: middle;\n",
       "    }\n",
       "\n",
       "    .dataframe tbody tr th {\n",
       "        vertical-align: top;\n",
       "    }\n",
       "\n",
       "    .dataframe thead th {\n",
       "        text-align: right;\n",
       "    }\n",
       "</style>\n",
       "<table border=\"1\" class=\"dataframe\">\n",
       "  <thead>\n",
       "    <tr style=\"text-align: right;\">\n",
       "      <th></th>\n",
       "      <th>Col0</th>\n",
       "    </tr>\n",
       "  </thead>\n",
       "  <tbody>\n",
       "    <tr>\n",
       "      <th>0</th>\n",
       "      <td></td>\n",
       "    </tr>\n",
       "  </tbody>\n",
       "</table>\n",
       "</div>"
      ],
      "text/plain": [
       "  Col0\n",
       "0     "
      ]
     },
     "metadata": {},
     "output_type": "display_data"
    },
    {
     "name": "stdout",
     "output_type": "stream",
     "text": [
      "1 table(s) on 0\n"
     ]
    },
    {
     "data": {
      "text/html": [
       "<div>\n",
       "<style scoped>\n",
       "    .dataframe tbody tr th:only-of-type {\n",
       "        vertical-align: middle;\n",
       "    }\n",
       "\n",
       "    .dataframe tbody tr th {\n",
       "        vertical-align: top;\n",
       "    }\n",
       "\n",
       "    .dataframe thead th {\n",
       "        text-align: right;\n",
       "    }\n",
       "</style>\n",
       "<table border=\"1\" class=\"dataframe\">\n",
       "  <thead>\n",
       "    <tr style=\"text-align: right;\">\n",
       "      <th></th>\n",
       "      <th>Col0</th>\n",
       "    </tr>\n",
       "  </thead>\n",
       "  <tbody>\n",
       "    <tr>\n",
       "      <th>0</th>\n",
       "      <td></td>\n",
       "    </tr>\n",
       "  </tbody>\n",
       "</table>\n",
       "</div>"
      ],
      "text/plain": [
       "  Col0\n",
       "0     "
      ]
     },
     "metadata": {},
     "output_type": "display_data"
    },
    {
     "name": "stdout",
     "output_type": "stream",
     "text": [
      "6 table(s) on 0\n"
     ]
    },
    {
     "data": {
      "text/html": [
       "<div>\n",
       "<style scoped>\n",
       "    .dataframe tbody tr th:only-of-type {\n",
       "        vertical-align: middle;\n",
       "    }\n",
       "\n",
       "    .dataframe tbody tr th {\n",
       "        vertical-align: top;\n",
       "    }\n",
       "\n",
       "    .dataframe thead th {\n",
       "        text-align: right;\n",
       "    }\n",
       "</style>\n",
       "<table border=\"1\" class=\"dataframe\">\n",
       "  <thead>\n",
       "    <tr style=\"text-align: right;\">\n",
       "      <th></th>\n",
       "      <th>43% 39% 18%</th>\n",
       "      <th>Col1</th>\n",
       "      <th>Col2</th>\n",
       "      <th>Col3</th>\n",
       "      <th>Col4</th>\n",
       "    </tr>\n",
       "  </thead>\n",
       "  <tbody>\n",
       "    <tr>\n",
       "      <th>0</th>\n",
       "      <td>37%</td>\n",
       "      <td>None</td>\n",
       "      <td>45%</td>\n",
       "      <td>None</td>\n",
       "      <td>18%</td>\n",
       "    </tr>\n",
       "    <tr>\n",
       "      <th>1</th>\n",
       "      <td></td>\n",
       "      <td>None</td>\n",
       "      <td>None</td>\n",
       "      <td>None</td>\n",
       "      <td>None</td>\n",
       "    </tr>\n",
       "    <tr>\n",
       "      <th>2</th>\n",
       "      <td>28% 57% 15%</td>\n",
       "      <td>None</td>\n",
       "      <td>None</td>\n",
       "      <td>None</td>\n",
       "      <td>None</td>\n",
       "    </tr>\n",
       "    <tr>\n",
       "      <th>3</th>\n",
       "      <td>22% 50% 28%</td>\n",
       "      <td>None</td>\n",
       "      <td>None</td>\n",
       "      <td>None</td>\n",
       "      <td>None</td>\n",
       "    </tr>\n",
       "    <tr>\n",
       "      <th>4</th>\n",
       "      <td>22% 43% 35%</td>\n",
       "      <td>None</td>\n",
       "      <td>None</td>\n",
       "      <td>None</td>\n",
       "      <td>None</td>\n",
       "    </tr>\n",
       "  </tbody>\n",
       "</table>\n",
       "</div>"
      ],
      "text/plain": [
       "   43% 39% 18%  Col1  Col2  Col3  Col4\n",
       "0          37%  None   45%  None   18%\n",
       "1               None  None  None  None\n",
       "2  28% 57% 15%  None  None  None  None\n",
       "3  22% 50% 28%  None  None  None  None\n",
       "4  22% 43% 35%  None  None  None  None"
      ]
     },
     "metadata": {},
     "output_type": "display_data"
    },
    {
     "name": "stdout",
     "output_type": "stream",
     "text": [
      "0 table(s) on 0\n"
     ]
    },
    {
     "data": {
      "text/html": [
       "<div>\n",
       "<style scoped>\n",
       "    .dataframe tbody tr th:only-of-type {\n",
       "        vertical-align: middle;\n",
       "    }\n",
       "\n",
       "    .dataframe tbody tr th {\n",
       "        vertical-align: top;\n",
       "    }\n",
       "\n",
       "    .dataframe thead th {\n",
       "        text-align: right;\n",
       "    }\n",
       "</style>\n",
       "<table border=\"1\" class=\"dataframe\">\n",
       "  <thead>\n",
       "    <tr style=\"text-align: right;\">\n",
       "      <th></th>\n",
       "      <th>Col0</th>\n",
       "      <th>Col1</th>\n",
       "    </tr>\n",
       "  </thead>\n",
       "  <tbody>\n",
       "  </tbody>\n",
       "</table>\n",
       "</div>"
      ],
      "text/plain": [
       "Empty DataFrame\n",
       "Columns: [Col0, Col1]\n",
       "Index: []"
      ]
     },
     "metadata": {},
     "output_type": "display_data"
    },
    {
     "name": "stdout",
     "output_type": "stream",
     "text": [
      "0 table(s) on 0\n"
     ]
    },
    {
     "data": {
      "text/html": [
       "<div>\n",
       "<style scoped>\n",
       "    .dataframe tbody tr th:only-of-type {\n",
       "        vertical-align: middle;\n",
       "    }\n",
       "\n",
       "    .dataframe tbody tr th {\n",
       "        vertical-align: top;\n",
       "    }\n",
       "\n",
       "    .dataframe thead th {\n",
       "        text-align: right;\n",
       "    }\n",
       "</style>\n",
       "<table border=\"1\" class=\"dataframe\">\n",
       "  <thead>\n",
       "    <tr style=\"text-align: right;\">\n",
       "      <th></th>\n",
       "      <th>Col0</th>\n",
       "      <th>2%</th>\n",
       "      <th>Col2</th>\n",
       "    </tr>\n",
       "  </thead>\n",
       "  <tbody>\n",
       "  </tbody>\n",
       "</table>\n",
       "</div>"
      ],
      "text/plain": [
       "Empty DataFrame\n",
       "Columns: [Col0, 2%, Col2]\n",
       "Index: []"
      ]
     },
     "metadata": {},
     "output_type": "display_data"
    }
   ],
   "source": [
    "nb_extract_tables(doc)"
   ]
  },
  {
   "cell_type": "markdown",
   "metadata": {},
   "source": [
    "### Exercise\n",
    "\n",
    "Try reading the file `1_slide_2.pdf` and extract the text, images and tables from it."
   ]
  }
 ],
 "metadata": {
  "kernelspec": {
   "display_name": "mmdoc",
   "language": "python",
   "name": "python3"
  },
  "language_info": {
   "codemirror_mode": {
    "name": "ipython",
    "version": 3
   },
   "file_extension": ".py",
   "mimetype": "text/x-python",
   "name": "python",
   "nbconvert_exporter": "python",
   "pygments_lexer": "ipython3",
   "version": "3.10.13"
  }
 },
 "nbformat": 4,
 "nbformat_minor": 2
}
