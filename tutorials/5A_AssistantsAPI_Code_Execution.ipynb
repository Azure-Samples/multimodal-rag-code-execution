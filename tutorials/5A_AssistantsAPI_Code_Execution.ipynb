{
 "cells": [
  {
   "cell_type": "markdown",
   "metadata": {},
   "source": [
    "# Code Execution with Assistants API\n",
    "\n",
    "In this notebook we will introduce the concepts of code execution with Code Interpreters, such as Assistants API and Taskweaver. We will experiment with different prompts here with Assistants API, and we will see how we can get these CIs to generate and execute code for us. \n"
   ]
  },
  {
   "cell_type": "markdown",
   "metadata": {},
   "source": [
    "### Python Imports\n"
   ]
  },
  {
   "cell_type": "code",
   "execution_count": 1,
   "metadata": {},
   "outputs": [],
   "source": [
    "%load_ext autoreload\n",
    "%autoreload 2\n",
    "\n",
    "\n",
    "import sys\n",
    "sys.path.append('..\\\\code')\n",
    "\n",
    "\n",
    "import os\n",
    "from dotenv import load_dotenv\n",
    "load_dotenv()\n",
    "\n",
    "from IPython.display import display, Markdown, HTML\n",
    "from PIL import Image\n",
    "import webbrowser\n",
    "from doc_utils import *\n",
    "\n",
    "\n",
    "def show_img(img_path, width = None):\n",
    "    if width is not None:\n",
    "        display(HTML(f'<img src=\"{img_path}\" width={width}>'))\n",
    "    else:\n",
    "        display(Image.open(img_path))\n"
   ]
  },
  {
   "cell_type": "markdown",
   "metadata": {},
   "source": [
    "### Make sure we have the OpenAI Models information\n",
    "\n",
    "We will need the GPT-4-Turbo for this notebook. \n",
    "\n",
    "When running the below cell, the values should reflect the OpenAI reource you have created in the `.env` file.\n"
   ]
  },
  {
   "cell_type": "code",
   "execution_count": 2,
   "metadata": {},
   "outputs": [
    {
     "data": {
      "text/plain": [
       "{'AZURE_OPENAI_RESOURCE': 'oai-tst-sweden',\n",
       " 'AZURE_OPENAI_KEY': '3b32428e172a42329d8b7b1ef042ec1c',\n",
       " 'AZURE_OPENAI_MODEL_VISION': 'gpt4v',\n",
       " 'AZURE_OPENAI_MODEL': 'gpt-4'}"
      ]
     },
     "execution_count": 2,
     "metadata": {},
     "output_type": "execute_result"
    }
   ],
   "source": [
    "model_info = {\n",
    "        'AZURE_OPENAI_RESOURCE': os.environ.get('AZURE_OPENAI_RESOURCE'),\n",
    "        'AZURE_OPENAI_KEY': os.environ.get('AZURE_OPENAI_KEY'),\n",
    "        'AZURE_OPENAI_MODEL_VISION': os.environ.get('AZURE_OPENAI_MODEL_VISION'),\n",
    "        'AZURE_OPENAI_MODEL': os.environ.get('AZURE_OPENAI_MODEL'),\n",
    "}\n",
    "\n",
    "oai_client = AzureOpenAI(\n",
    "    azure_endpoint = OPENAI_API_BASE, \n",
    "    api_key= AZURE_OPENAI_KEY,  \n",
    "    api_version= AZURE_OPENAI_API_VERSION,\n",
    ")\n",
    "\n",
    "oai_emb_client = AzureOpenAI(\n",
    "    azure_endpoint = AZURE_OPENAI_EMBEDDING_API_BASE, \n",
    "    api_key= AZURE_OPENAI_EMBEDDING_MODEL_RESOURCE_KEY,  \n",
    "    api_version= AZURE_OPENAI_EMBEDDING_MODEL_API_VERSION,\n",
    ")\n",
    "\n",
    "model_info"
   ]
  },
  {
   "cell_type": "markdown",
   "metadata": {},
   "source": [
    "\n",
    "## Assistants API\n",
    "\n",
    "In this section, we will use Assistants API to solve a specific problem. Assistants API can generate and run code in a safe environment to produce a solution.\n",
    "\n",
    "The first step is to create the Assistant."
   ]
  },
  {
   "cell_type": "code",
   "execution_count": 3,
   "metadata": {},
   "outputs": [
    {
     "name": "stdout",
     "output_type": "stream",
     "text": [
      "\n",
      "\u001b[92mAssistant ID: \u001b[94masst_KTzEmXgJ1O2sTOurbbz911CS\u001b[0m\n",
      "\n",
      "\u001b[92mThread ID: \u001b[94mthread_JYc3yj0AQmjcRVGYE6MWyzox\u001b[0m\n"
     ]
    }
   ],
   "source": [
    "name = \"Navigator Assistant\"\n",
    "instructions = \"You are a Navigator assistant. You are helping me navigate through earth geographies and providing me with accurate GPS coordinates.\"\n",
    "\n",
    "\n",
    "assistant, thread = create_assistant(oai_client, name=name, instructions=instructions)    \n",
    "\n",
    "logc(f'Assistant ID', assistant.id)\n",
    "logc(f'Thread ID', thread.id)"
   ]
  },
  {
   "cell_type": "markdown",
   "metadata": {},
   "source": [
    "### Assistant and Thread Retrieval\n",
    "\n",
    "Between runs, or even if the app or kernel are restarted, the same assistants and threads can be retrieved since these IDs are stored on the cloud."
   ]
  },
  {
   "cell_type": "code",
   "execution_count": 4,
   "metadata": {},
   "outputs": [
    {
     "name": "stdout",
     "output_type": "stream",
     "text": [
      "\n",
      "\u001b[92mAssistant ID: \u001b[94masst_KTzEmXgJ1O2sTOurbbz911CS\u001b[0m\n"
     ]
    }
   ],
   "source": [
    "## My Assistant ID is asst_81XUJpzkZNl3JFCq4ElYlcna\n",
    "\n",
    "assistant = retrieve_assistant(assistant.id)\n",
    "logc(f'Assistant ID', assistant.id)"
   ]
  },
  {
   "cell_type": "code",
   "execution_count": 26,
   "metadata": {},
   "outputs": [
    {
     "name": "stdout",
     "output_type": "stream",
     "text": [
      "\n",
      "\u001b[92mThread ID: \u001b[94mthread_JYc3yj0AQmjcRVGYE6MWyzox\u001b[0m\n"
     ]
    }
   ],
   "source": [
    "## My Thread ID is thread_3Aa0tZdepeK1v0Y3zcsvRuXq\n",
    "\n",
    "thread = retrieve_thread(thread.id)\n",
    "logc(f'Thread ID', thread.id)"
   ]
  },
  {
   "cell_type": "markdown",
   "metadata": {},
   "source": [
    "### Defining Code\n",
    "\n",
    "Below we define the code for the assistant to help us with the navigation."
   ]
  },
  {
   "cell_type": "code",
   "execution_count": null,
   "metadata": {},
   "outputs": [],
   "source": [
    "def ask_assistant(query, assistant, thread, client = oai_client):\n",
    "    messages = query_assistant(query, assistant, thread, client = oai_client)\n",
    "    response, files = process_assistants_api_response(messages, client = oai_client)\n",
    "    print(f\"Assistants API generated {len(files)} files for this answer.\\n\")\n",
    "    logc(f'Assistant Response', response)\n",
    "    return response, files"
   ]
  },
  {
   "cell_type": "markdown",
   "metadata": {},
   "source": [
    "#### Asking the Assistant\n",
    "\n",
    "Asking the Assistant some geography questions to showcase capabilities."
   ]
  },
  {
   "cell_type": "code",
   "execution_count": 6,
   "metadata": {},
   "outputs": [
    {
     "name": "stdout",
     "output_type": "stream",
     "text": [
      "Assistants API generated 0 files for this answer.\n",
      "\n",
      "\n",
      "\u001b[92mAssistant Response: \u001b[94mThe Eiffel Tower is located in Paris, France. The precise GPS coordinates are approximately 48.8584° N latitude and 2.2945° E longitude.\u001b[0m\n"
     ]
    }
   ],
   "source": [
    "query = \"Where is the Eiffel Tower located? Give me the precise GPS coordinates.\"\n",
    "response, files = ask_assistant(query, assistant, thread, client = oai_client)"
   ]
  },
  {
   "cell_type": "code",
   "execution_count": 7,
   "metadata": {},
   "outputs": [
    {
     "name": "stdout",
     "output_type": "stream",
     "text": [
      "Assistants API generated 0 files for this answer.\n",
      "\n",
      "\n",
      "\u001b[92mAssistant Response: \u001b[94mThe Burj Khalifa is located in Dubai, United Arab Emirates. The precise GPS coordinates are approximately 25.1972° N, 55.2744° E.\u001b[0m\n"
     ]
    }
   ],
   "source": [
    "query = \"Where is the Burj Khalifa located? Give me the precise GPS coordinates.\"\n",
    "response, files = ask_assistant(query, assistant, thread, client = oai_client)"
   ]
  },
  {
   "cell_type": "code",
   "execution_count": 9,
   "metadata": {},
   "outputs": [
    {
     "name": "stdout",
     "output_type": "stream",
     "text": [
      "Assistants API generated 0 files for this answer.\n",
      "\n",
      "\n",
      "\u001b[92mAssistant Response: \u001b[94mMount Kilimanjaro is located in Tanzania, East Africa. The precise GPS coordinates for its highest peak, Uhuru Peak, are approximately 3.0758° S latitude and 37.3533° E longitude.\u001b[0m\n"
     ]
    }
   ],
   "source": [
    "query = \"Where is Mount Kilimanjaro? Give me the precise GPS coordinates.\"\n",
    "response, files = ask_assistant(query, assistant, thread, client = oai_client)"
   ]
  },
  {
   "cell_type": "code",
   "execution_count": 21,
   "metadata": {},
   "outputs": [
    {
     "name": "stdout",
     "output_type": "stream",
     "text": [
      "Assistants API generated 4 files for this answer.\n",
      "\n",
      "\n",
      "\u001b[92mAssistant Response: \u001b[94mThe exact distances between the landmarks are as follows:\n",
      "\n",
      "- Distance between the Eiffel Tower and Burj Khalifa: approximately 5258.34 km\n",
      "- Distance between the Burj Khalifa and Mount Kilimanjaro: approximately 3678.40 km\n",
      "- Distance between Mount Kilimanjaro and the Eiffel Tower: approximately 6675.99 km\n",
      "\n",
      "To verify the validity of the calculations, you can download the Python script file that contains the code used to perform these calculations. Here is the link to download the code file:\n",
      "\n",
      "[Download the distance calculations code (Python script)](../downloads\\distance_calculations.py)\u001b[0m\n"
     ]
    }
   ],
   "source": [
    "query = \"Give me the exact distance betwen the landmarks. If the question requires calculations, make sure to break down your methodology step by step in the final answer, walk the user through your process, and show intermediate calculation results. Please provide as a file the code that you have generated and executed so that the user can check the validity of the code.\"\n",
    "\n",
    "response, files = ask_assistant(query, assistant, thread, client = oai_client)\n"
   ]
  },
  {
   "cell_type": "code",
   "execution_count": 24,
   "metadata": {},
   "outputs": [
    {
     "data": {
      "text/markdown": [
       "```python\n",
       "\n",
       "import geopy.distance\n",
       "\n",
       "# Coordinates for the landmarks\n",
       "eiffel_tower_coords = (48.8584, 2.2945)\n",
       "burj_khalifa_coords = (25.1972, 55.2744)\n",
       "kilimanjaro_coords = (-3.0758, 37.3533)\n",
       "\n",
       "# Function to calculate the great-circle distance between two points\n",
       "def calculate_distance(coord1, coord2):\n",
       "    return geopy.distance.distance(coord1, coord2).kilometers\n",
       "\n",
       "# Calculate distances between the landmarks\n",
       "distance_eiffel_burj = calculate_distance(eiffel_tower_coords, burj_khalifa_coords)\n",
       "distance_burj_kilimanjaro = calculate_distance(burj_khalifa_coords, kilimanjaro_coords)\n",
       "distance_kilimanjaro_eiffel = calculate_distance(kilimanjaro_coords, eiffel_tower_coords)\n",
       "\n",
       "# The calculated distances (in kilometers)\n",
       "print(f\"Distance between Eiffel Tower and Burj Khalifa: {distance_eiffel_burj:.2f} km\")\n",
       "print(f\"Distance between Burj Khalifa and Mount Kilimanjaro: {distance_burj_kilimanjaro:.2f} km\")\n",
       "print(f\"Distance between Mount Kilimanjaro and Eiffel Tower: {distance_kilimanjaro_eiffel:.2f} km\")\n",
       "\n",
       "```"
      ],
      "text/plain": [
       "<IPython.core.display.Markdown object>"
      ]
     },
     "metadata": {},
     "output_type": "display_data"
    }
   ],
   "source": [
    "for f in files:\n",
    "    if (f['type'] == 'file') and (f['asset'].endswith('.py')):\n",
    "        display(Markdown(\"```python\\n\" + read_asset_file(f['asset'])[0] + \"\\n```\"))"
   ]
  },
  {
   "cell_type": "code",
   "execution_count": 20,
   "metadata": {},
   "outputs": [
    {
     "name": "stdout",
     "output_type": "stream",
     "text": [
      "Assistants API generated 3 files for this answer.\n",
      "\n",
      "\n",
      "\u001b[92mAssistant Response: \u001b[94mI have drawn the map again with the Eiffel Tower, Burj Khalifa, and Mount Kilimanjaro marked on it. This time, I included labels on the lines between the landmarks that indicate the distances between them. You can view and interact with the map by downloading it from the link provided below:\n",
      "\n",
      "[Download the map with distances between landmarks](../downloads\\map_with_distances.html)\u001b[0m\n"
     ]
    }
   ],
   "source": [
    "query = \"Please draw a map with the 3 landmarks on it. And mark the distance between them with links.\"\n",
    "response, files = ask_assistant(query, assistant, thread, client = oai_client)\n",
    "\n",
    "\n",
    "for f in files:\n",
    "    if (f['type'] == 'file') and (f['asset'].endswith('.html')):\n",
    "        webbrowser.open(f['asset'])"
   ]
  }
 ],
 "metadata": {
  "kernelspec": {
   "display_name": "mmdoc",
   "language": "python",
   "name": "python3"
  },
  "language_info": {
   "codemirror_mode": {
    "name": "ipython",
    "version": 3
   },
   "file_extension": ".py",
   "mimetype": "text/x-python",
   "name": "python",
   "nbconvert_exporter": "python",
   "pygments_lexer": "ipython3",
   "version": "3.10.13"
  }
 },
 "nbformat": 4,
 "nbformat_minor": 2
}
