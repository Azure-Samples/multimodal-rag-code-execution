{
 "cells": [
  {
   "cell_type": "markdown",
   "metadata": {},
   "source": [
    "# Read Audio Files\n",
    "\n",
    "Read WAV or MP3 Files with Python and transcribe to text."
   ]
  },
  {
   "cell_type": "markdown",
   "metadata": {},
   "source": [
    "### Install the Required Libraries"
   ]
  },
  {
   "cell_type": "code",
   "execution_count": null,
   "metadata": {},
   "outputs": [],
   "source": [
    "%pip install azure-cognitiveservices-speech\n",
    "%pip install openai"
   ]
  },
  {
   "cell_type": "markdown",
   "metadata": {},
   "source": [
    "### Python Imports"
   ]
  },
  {
   "cell_type": "code",
   "execution_count": 1,
   "metadata": {},
   "outputs": [
    {
     "data": {
      "text/plain": [
       "True"
      ]
     },
     "execution_count": 1,
     "metadata": {},
     "output_type": "execute_result"
    }
   ],
   "source": [
    "import azure.cognitiveservices.speech as speech_sdk\n",
    "import sys\n",
    "import time\n",
    "import os\n",
    "from dotenv import load_dotenv\n",
    "from openai import AzureOpenAI\n",
    "\n",
    "sys.path.append('..\\\\code')\n",
    "\n",
    "load_dotenv(override=True)\n"
   ]
  },
  {
   "cell_type": "markdown",
   "metadata": {},
   "source": [
    "### Make sure we have the Azure Speech information\n",
    "\n",
    "We will need the Speech APIKEY, REGION and LANGUAGE for this notebook.\n",
    "\n",
    "When running the below cell, the values should reflect the Azure Speech reource you have created in "
   ]
  },
  {
   "cell_type": "code",
   "execution_count": null,
   "metadata": {},
   "outputs": [],
   "source": [
    "speech_info = {\n",
    "        'SPEECH_APIKEY': os.environ.get('SPEECH_APIKEY'),\n",
    "        'SPEECH_REGION': os.environ.get('SPEECH_REGION'),\n",
    "        'SPEECH_LANGUAGE': os.environ.get('SPEECH_LANGUAGE'),\n",
    "}\n",
    "\n",
    "speech_info"
   ]
  },
  {
   "cell_type": "code",
   "execution_count": null,
   "metadata": {},
   "outputs": [],
   "source": [
    "model_info = {\n",
    "        'AZURE_OPENAI_MODEL_WHISPER': os.environ.get('AZURE_OPENAI_MODEL_WHISPER'),\n",
    "        'AZURE_OPENAI_KEY': os.environ.get('AZURE_OPENAI_KEY'),\n",
    "        'AZURE_OPENAI_MODEL_WHISPER': os.environ.get('AZURE_OPENAI_MODEL_WHISPER'),\n",
    "        'AZURE_OPENAI_ENDPOINT_WHISPER': os.environ.get('AZURE_OPENAI_ENDPOINT_WHISPER'),\n",
    "        'AZURE_OPENAI_VERSION_WHISPER': os.environ.get('AZURE_OPENAI_VERSION_WHISPER'),\n",
    "}\n",
    "\n",
    "model_info"
   ]
  },
  {
   "cell_type": "markdown",
   "metadata": {},
   "source": [
    "### Code Definitions\n",
    "\n",
    "Defining the functions that will read in the audio file and return the transcription."
   ]
  },
  {
   "cell_type": "code",
   "execution_count": 4,
   "metadata": {},
   "outputs": [],
   "source": [
    "# Configure the Azure Speech Service\n",
    "def config_speech_service():\n",
    "    try:\n",
    "        speech_config = speech_sdk.SpeechConfig(\n",
    "            subscription=speech_info['SPEECH_APIKEY'], \n",
    "            region=speech_info['SPEECH_REGION'], \n",
    "            speech_recognition_language=speech_info['SPEECH_LANGUAGE'])\n",
    "\n",
    "        # Set parameters\n",
    "        speech_config.set_property(speech_sdk.PropertyId.SpeechServiceConnection_InitialSilenceTimeoutMs, \"5000\")\n",
    "        speech_config.set_property(speech_sdk.PropertyId.Speech_SegmentationSilenceTimeoutMs, \"2000\")\n",
    "        speech_config.set_property(speech_sdk.PropertyId.SpeechServiceConnection_EndSilenceTimeoutMs, \"5000\")\n",
    "    \n",
    "    except Exception as ex:\n",
    "        print(ex)\n",
    "\n",
    "    return speech_config\n",
    "\n",
    "# Execute the transcription from file with Azure Speech service \n",
    "def speech_recognize_continuous_from_file(speech_config, filename):\n",
    "    # Performs continuous speech recognition with input from an audio file\"\"\"\n",
    "    audio_config = speech_sdk.AudioConfig(filename=filename)\n",
    "\n",
    "    speech_recognizer = speech_sdk.SpeechRecognizer(speech_config, audio_config)\n",
    "\n",
    "    done = False\n",
    "    transcription = []\n",
    "\n",
    "    # Callback that signals to stop continuous recognition upon receiving an event `evt`\n",
    "    def stop_cb(evt: speech_sdk.SessionEventArgs):\n",
    "        print('CLOSING')\n",
    "        nonlocal done\n",
    "        done = True\n",
    "    \n",
    "    # Callback that signals the recognition has been canceled\n",
    "    def speech_recognizer_recognition_canceled_cb(evt: speech_sdk.SessionEventArgs):\n",
    "        print('Canceled event')\n",
    "\n",
    "    # Callback that signals the recognition session has been stopped\n",
    "    def speech_recognizer_session_stopped_cb(evt: speech_sdk.SessionEventArgs):\n",
    "        print('SessionStopped event')\n",
    "\n",
    "    # Callback while transcribing\n",
    "    def speech_recognizer_recognizing_cb(evt: speech_sdk.SpeechRecognitionEventArgs):\n",
    "        print('Transcribing: ', evt.result.text)\n",
    "\n",
    "    # Callback when a sentence has finished\n",
    "    def speech_recognizer_transcribed_cb(evt: speech_sdk.SpeechRecognitionEventArgs):\n",
    "        print('TRANSCRIBED:')\n",
    "        if evt.result.reason == speech_sdk.ResultReason.RecognizedSpeech:\n",
    "            print(f'\\tText: {evt.result.text}')\n",
    "            transcription.append(evt.result.text)\n",
    "        elif evt.result.reason == speech_sdk.ResultReason.NoMatch:\n",
    "            print(f'\\tNOMATCH: Speech could not be TRANSCRIBED: {evt.result.no_match_details}')\n",
    "            stop_cb(evt)\n",
    "\n",
    "    # Callback that signal the session has started\n",
    "    def speech_recognizer_session_started_cb(evt: speech_sdk.SessionEventArgs):\n",
    "        print('SessionStarted event')\n",
    "\n",
    "    # Connect callbacks to the events fired by the speech recognizer\n",
    "    speech_recognizer.recognizing.connect(speech_recognizer_recognizing_cb)\n",
    "    speech_recognizer.recognized.connect(speech_recognizer_transcribed_cb)\n",
    "    speech_recognizer.session_started.connect(speech_recognizer_session_started_cb)\n",
    "    speech_recognizer.session_stopped.connect(speech_recognizer_session_stopped_cb)\n",
    "    speech_recognizer.canceled.connect(speech_recognizer_recognition_canceled_cb)\n",
    "    # stop transcribing on either session stopped or canceled events\n",
    "    speech_recognizer.session_stopped.connect(stop_cb)\n",
    "    speech_recognizer.canceled.connect(stop_cb)\n",
    "\n",
    "    # Start continuous speech recognition\n",
    "    speech_recognizer.start_continuous_recognition()\n",
    "    while not done:\n",
    "        time.sleep(.5)\n",
    "            \n",
    "    final_text = \"\"\n",
    "    for text in transcription:\n",
    "        final_text += text + \" \\n\"\n",
    "    #print(f'TRANSCRIPTION: [{final_text}]')\n",
    "\n",
    "    speech_recognizer.stop_continuous_recognition()\n",
    "\n",
    "    return transcription\n",
    "\n",
    "def config_whisper():\n",
    "    whisper_client = AzureOpenAI(\n",
    "        api_key=model_info['AZURE_OPENAI_KEY'],  \n",
    "        api_version=model_info['AZURE_OPENAI_VERSION_WHISPER'],\n",
    "        base_url=f\"{model_info['AZURE_OPENAI_ENDPOINT_WHISPER']}/openai/deployments/{model_info['AZURE_OPENAI_MODEL_WHISPER']}\"\n",
    "    )\n",
    "\n",
    "    return whisper_client\n",
    "\n",
    "\n",
    "def transcribe_with_whisper(whisper_client, filename):\n",
    "    try:\n",
    "        transcript = whisper_client.audio.transcriptions.create(\n",
    "            file=open(filename, \"rb\"), \n",
    "            model=model_info['AZURE_OPENAI_MODEL_WHISPER']\n",
    "            )\n",
    "        return transcript\n",
    "    \n",
    "    except Exception as ex:\n",
    "        return ex"
   ]
  },
  {
   "cell_type": "markdown",
   "metadata": {},
   "source": [
    "### Read Audio File\n",
    "\n",
    "Read the audio file and print the transcription out."
   ]
  },
  {
   "cell_type": "code",
   "execution_count": 6,
   "metadata": {},
   "outputs": [
    {
     "name": "stdout",
     "output_type": "stream",
     "text": [
      "SessionStarted event\n",
      "Transcribing:  hi i just had an\n",
      "Transcribing:  hi i just had an accident\n",
      "Transcribing:  hi i just had an accident and wanted to\n",
      "Transcribing:  hi i just had an accident and wanted to report it\n",
      "Transcribing:  hi i just had an accident and wanted to report it hi\n",
      "Transcribing:  hi i just had an accident and wanted to report it hi OK\n",
      "Transcribing:  hi i just had an accident and wanted to report it hi OK i hope you're fine\n",
      "Transcribing:  hi i just had an accident and wanted to report it hi OK i hope you're fine what\n",
      "Transcribing:  hi i just had an accident and wanted to report it hi OK i hope you're fine what happened\n",
      "Transcribing:  hi i just had an accident and wanted to report it hi OK i hope you're fine what happened i\n",
      "Transcribing:  hi i just had an accident and wanted to report it hi OK i hope you're fine what happened i was\n",
      "Transcribing:  hi i just had an accident and wanted to report it hi OK i hope you're fine what happened i was driving\n",
      "Transcribing:  hi i just had an accident and wanted to report it hi OK i hope you're fine what happened i was driving on\n",
      "Transcribing:  hi i just had an accident and wanted to report it hi OK i hope you're fine what happened i was driving on comina\n",
      "Transcribing:  hi i just had an accident and wanted to report it hi OK i hope you're fine what happened i was driving on comina road\n",
      "Transcribing:  hi i just had an accident and wanted to report it hi OK i hope you're fine what happened i was driving on comina road and\n",
      "Transcribing:  hi i just had an accident and wanted to report it hi OK i hope you're fine what happened i was driving on comina road and i hit\n",
      "Transcribing:  hi i just had an accident and wanted to report it hi OK i hope you're fine what happened i was driving on comina road and i hit another car\n",
      "Transcribing:  hi i just had an accident and wanted to report it hi OK i hope you're fine what happened i was driving on comina road and i hit another car are you all right\n",
      "Transcribing:  hi i just had an accident and wanted to report it hi OK i hope you're fine what happened i was driving on comina road and i hit another car are you all right yes\n",
      "Transcribing:  hi i just had an accident and wanted to report it hi OK i hope you're fine what happened i was driving on comina road and i hit another car are you all right yes just\n",
      "Transcribing:  hi i just had an accident and wanted to report it hi OK i hope you're fine what happened i was driving on comina road and i hit another car are you all right yes just a bit nervous\n",
      "Transcribing:  hi i just had an accident and wanted to report it hi OK i hope you're fine what happened i was driving on comina road and i hit another car are you all right yes just a bit nervous that's\n",
      "Transcribing:  hi i just had an accident and wanted to report it hi OK i hope you're fine what happened i was driving on comina road and i hit another car are you all right yes just a bit nervous that's normal\n",
      "Transcribing:  hi i just had an accident and wanted to report it hi OK i hope you're fine what happened i was driving on comina road and i hit another car are you all right yes just a bit nervous that's normal can you\n",
      "Transcribing:  hi i just had an accident and wanted to report it hi OK i hope you're fine what happened i was driving on comina road and i hit another car are you all right yes just a bit nervous that's normal can you tell me\n",
      "Transcribing:  hi i just had an accident and wanted to report it hi OK i hope you're fine what happened i was driving on comina road and i hit another car are you all right yes just a bit nervous that's normal can you tell me your full name\n",
      "Transcribing:  hi i just had an accident and wanted to report it hi OK i hope you're fine what happened i was driving on comina road and i hit another car are you all right yes just a bit nervous that's normal can you tell me your full name sure\n",
      "Transcribing:  hi i just had an accident and wanted to report it hi OK i hope you're fine what happened i was driving on comina road and i hit another car are you all right yes just a bit nervous that's normal can you tell me your full name sure my\n",
      "Transcribing:  hi i just had an accident and wanted to report it hi OK i hope you're fine what happened i was driving on comina road and i hit another car are you all right yes just a bit nervous that's normal can you tell me your full name sure my name is\n",
      "Transcribing:  hi i just had an accident and wanted to report it hi OK i hope you're fine what happened i was driving on comina road and i hit another car are you all right yes just a bit nervous that's normal can you tell me your full name sure my name is alv\n",
      "Transcribing:  hi i just had an accident and wanted to report it hi OK i hope you're fine what happened i was driving on comina road and i hit another car are you all right yes just a bit nervous that's normal can you tell me your full name sure my name is alvaro\n",
      "Transcribing:  hi i just had an accident and wanted to report it hi OK i hope you're fine what happened i was driving on comina road and i hit another car are you all right yes just a bit nervous that's normal can you tell me your full name sure my name is alvaro gome\n",
      "Transcribing:  hi i just had an accident and wanted to report it hi OK i hope you're fine what happened i was driving on comina road and i hit another car are you all right yes just a bit nervous that's normal can you tell me your full name sure my name is alvaro gomez rodriguez\n",
      "Transcribing:  hi i just had an accident and wanted to report it hi OK i hope you're fine what happened i was driving on comina road and i hit another car are you all right yes just a bit nervous that's normal can you tell me your full name sure my name is alvaro gomez rodriguez do you know\n",
      "Transcribing:  hi i just had an accident and wanted to report it hi OK i hope you're fine what happened i was driving on comina road and i hit another car are you all right yes just a bit nervous that's normal can you tell me your full name sure my name is alvaro gomez rodriguez do you know what\n",
      "Transcribing:  hi i just had an accident and wanted to report it hi OK i hope you're fine what happened i was driving on comina road and i hit another car are you all right yes just a bit nervous that's normal can you tell me your full name sure my name is alvaro gomez rodriguez do you know what caused\n",
      "Transcribing:  hi i just had an accident and wanted to report it hi OK i hope you're fine what happened i was driving on comina road and i hit another car are you all right yes just a bit nervous that's normal can you tell me your full name sure my name is alvaro gomez rodriguez do you know what caused the\n",
      "Transcribing:  hi i just had an accident and wanted to report it hi OK i hope you're fine what happened i was driving on comina road and i hit another car are you all right yes just a bit nervous that's normal can you tell me your full name sure my name is alvaro gomez rodriguez do you know what caused the accident\n",
      "Transcribing:  hi i just had an accident and wanted to report it hi OK i hope you're fine what happened i was driving on comina road and i hit another car are you all right yes just a bit nervous that's normal can you tell me your full name sure my name is alvaro gomez rodriguez do you know what caused the accident i think\n",
      "Transcribing:  hi i just had an accident and wanted to report it hi OK i hope you're fine what happened i was driving on comina road and i hit another car are you all right yes just a bit nervous that's normal can you tell me your full name sure my name is alvaro gomez rodriguez do you know what caused the accident i think i\n",
      "Transcribing:  hi i just had an accident and wanted to report it hi OK i hope you're fine what happened i was driving on comina road and i hit another car are you all right yes just a bit nervous that's normal can you tell me your full name sure my name is alvaro gomez rodriguez do you know what caused the accident i think i hit a\n",
      "Transcribing:  hi i just had an accident and wanted to report it hi OK i hope you're fine what happened i was driving on comina road and i hit another car are you all right yes just a bit nervous that's normal can you tell me your full name sure my name is alvaro gomez rodriguez do you know what caused the accident i think i hit a car\n",
      "Transcribing:  hi i just had an accident and wanted to report it hi OK i hope you're fine what happened i was driving on comina road and i hit another car are you all right yes just a bit nervous that's normal can you tell me your full name sure my name is alvaro gomez rodriguez do you know what caused the accident i think i hit a car OK\n",
      "Transcribing:  hi i just had an accident and wanted to report it hi OK i hope you're fine what happened i was driving on comina road and i hit another car are you all right yes just a bit nervous that's normal can you tell me your full name sure my name is alvaro gomez rodriguez do you know what caused the accident i think i hit a car OK where\n",
      "Transcribing:  hi i just had an accident and wanted to report it hi OK i hope you're fine what happened i was driving on comina road and i hit another car are you all right yes just a bit nervous that's normal can you tell me your full name sure my name is alvaro gomez rodriguez do you know what caused the accident i think i hit a car OK where did the\n",
      "Transcribing:  hi i just had an accident and wanted to report it hi OK i hope you're fine what happened i was driving on comina road and i hit another car are you all right yes just a bit nervous that's normal can you tell me your full name sure my name is alvaro gomez rodriguez do you know what caused the accident i think i hit a car OK where did the acc\n",
      "Transcribing:  hi i just had an accident and wanted to report it hi OK i hope you're fine what happened i was driving on comina road and i hit another car are you all right yes just a bit nervous that's normal can you tell me your full name sure my name is alvaro gomez rodriguez do you know what caused the accident i think i hit a car OK where did the accident occur\n",
      "TRANSCRIBED:\n",
      "\tText: Hi. I just had an accident and wanted to report it. Hi. OK. I hope you're fine. What happened? I was driving on Comina Road and I hit another car. Are you all right? Yes, just a bit nervous. That's normal. Can you tell me your full name? Sure. My name is Alvaro Gomez Rodriguez. Do you know what caused the accident? I think I hit a car. OK. Where did the accident occur?\n",
      "Transcribing:  uncle mena rd\n",
      "Transcribing:  uncle mena rd passed\n",
      "Transcribing:  uncle mena rd passed exit\n",
      "Transcribing:  uncle mena rd passed exit 17\n",
      "Transcribing:  uncle mena rd passed exit 17 has\n",
      "Transcribing:  uncle mena rd passed exit 17 has anyone\n",
      "Transcribing:  uncle mena rd passed exit 17 has anyone else\n",
      "Transcribing:  uncle mena rd passed exit 17 has anyone else been injured\n",
      "Transcribing:  uncle mena rd passed exit 17 has anyone else been injured i\n",
      "Transcribing:  uncle mena rd passed exit 17 has anyone else been injured i don't think so\n",
      "Transcribing:  uncle mena rd passed exit 17 has anyone else been injured i don't think so but\n",
      "Transcribing:  uncle mena rd passed exit 17 has anyone else been injured i don't think so but i'm\n",
      "Transcribing:  uncle mena rd passed exit 17 has anyone else been injured i don't think so but i'm not sure\n",
      "Transcribing:  uncle mena rd passed exit 17 has anyone else been injured i don't think so but i'm not sure OK\n",
      "Transcribing:  uncle mena rd passed exit 17 has anyone else been injured i don't think so but i'm not sure OK we'll\n",
      "Transcribing:  uncle mena rd passed exit 17 has anyone else been injured i don't think so but i'm not sure OK we'll investigate\n",
      "Transcribing:  uncle mena rd passed exit 17 has anyone else been injured i don't think so but i'm not sure OK we'll investigate can you\n",
      "Transcribing:  uncle mena rd passed exit 17 has anyone else been injured i don't think so but i'm not sure OK we'll investigate can you give me\n",
      "Transcribing:  uncle mena rd passed exit 17 has anyone else been injured i don't think so but i'm not sure OK we'll investigate can you give me the\n",
      "Transcribing:  uncle mena rd passed exit 17 has anyone else been injured i don't think so but i'm not sure OK we'll investigate can you give me the other\n",
      "Transcribing:  uncle mena rd passed exit 17 has anyone else been injured i don't think so but i'm not sure OK we'll investigate can you give me the other driver\n",
      "Transcribing:  uncle mena rd passed exit 17 has anyone else been injured i don't think so but i'm not sure OK we'll investigate can you give me the other driver's information\n",
      "Transcribing:  uncle mena rd passed exit 17 has anyone else been injured i don't think so but i'm not sure OK we'll investigate can you give me the other driver's information yes\n",
      "Transcribing:  uncle mena rd passed exit 17 has anyone else been injured i don't think so but i'm not sure OK we'll investigate can you give me the other driver's information yes his\n",
      "Transcribing:  uncle mena rd passed exit 17 has anyone else been injured i don't think so but i'm not sure OK we'll investigate can you give me the other driver's information yes his name\n",
      "Transcribing:  uncle mena rd passed exit 17 has anyone else been injured i don't think so but i'm not sure OK we'll investigate can you give me the other driver's information yes his name is\n",
      "Transcribing:  uncle mena rd passed exit 17 has anyone else been injured i don't think so but i'm not sure OK we'll investigate can you give me the other driver's information yes his name is juan del\n",
      "Transcribing:  uncle mena rd passed exit 17 has anyone else been injured i don't think so but i'm not sure OK we'll investigate can you give me the other driver's information yes his name is juan delgado rivera\n",
      "Transcribing:  uncle mena rd passed exit 17 has anyone else been injured i don't think so but i'm not sure OK we'll investigate can you give me the other driver's information yes his name is juan delgado rivera OK\n",
      "Transcribing:  uncle mena rd passed exit 17 has anyone else been injured i don't think so but i'm not sure OK we'll investigate can you give me the other driver's information yes his name is juan delgado rivera OK one moment\n",
      "Transcribing:  uncle mena rd passed exit 17 has anyone else been injured i don't think so but i'm not sure OK we'll investigate can you give me the other driver's information yes his name is juan delgado rivera OK one moment please\n",
      "Transcribing:  uncle mena rd passed exit 17 has anyone else been injured i don't think so but i'm not sure OK we'll investigate can you give me the other driver's information yes his name is juan delgado rivera OK one moment please can you\n",
      "Transcribing:  uncle mena rd passed exit 17 has anyone else been injured i don't think so but i'm not sure OK we'll investigate can you give me the other driver's information yes his name is juan delgado rivera OK one moment please can you tell me\n",
      "Transcribing:  uncle mena rd passed exit 17 has anyone else been injured i don't think so but i'm not sure OK we'll investigate can you give me the other driver's information yes his name is juan delgado rivera OK one moment please can you tell me your ID\n",
      "Transcribing:  uncle mena rd passed exit 17 has anyone else been injured i don't think so but i'm not sure OK we'll investigate can you give me the other driver's information yes his name is juan delgado rivera OK one moment please can you tell me your ID please\n",
      "Transcribing:  uncle mena rd passed exit 17 has anyone else been injured i don't think so but i'm not sure OK we'll investigate can you give me the other driver's information yes his name is juan delgado rivera OK one moment please can you tell me your ID please yes\n",
      "Transcribing:  uncle mena rd passed exit 17 has anyone else been injured i don't think so but i'm not sure OK we'll investigate can you give me the other driver's information yes his name is juan delgado rivera OK one moment please can you tell me your ID please yes it's\n",
      "Transcribing:  uncle mena rd passed exit 17 has anyone else been injured i don't think so but i'm not sure OK we'll investigate can you give me the other driver's information yes his name is juan delgado rivera OK one moment please can you tell me your ID please yes it's 1/2\n",
      "Transcribing:  uncle mena rd passed exit 17 has anyone else been injured i don't think so but i'm not sure OK we'll investigate can you give me the other driver's information yes his name is juan delgado rivera OK one moment please can you tell me your ID please yes it's 123\n",
      "Transcribing:  uncle mena rd passed exit 17 has anyone else been injured i don't think so but i'm not sure OK we'll investigate can you give me the other driver's information yes his name is juan delgado rivera OK one moment please can you tell me your ID please yes it's 1234\n",
      "Transcribing:  uncle mena rd passed exit 17 has anyone else been injured i don't think so but i'm not sure OK we'll investigate can you give me the other driver's information yes his name is juan delgado rivera OK one moment please can you tell me your ID please yes it's 12345\n",
      "Transcribing:  uncle mena rd passed exit 17 has anyone else been injured i don't think so but i'm not sure OK we'll investigate can you give me the other driver's information yes his name is juan delgado rivera OK one moment please can you tell me your ID please yes it's 123456\n",
      "Transcribing:  uncle mena rd passed exit 17 has anyone else been injured i don't think so but i'm not sure OK we'll investigate can you give me the other driver's information yes his name is juan delgado rivera OK one moment please can you tell me your ID please yes it's 123-4567\n",
      "Transcribing:  uncle mena rd passed exit 17 has anyone else been injured i don't think so but i'm not sure OK we'll investigate can you give me the other driver's information yes his name is juan delgado rivera OK one moment please can you tell me your ID please yes it's 12345678 F\n",
      "Transcribing:  uncle mena rd passed exit 17 has anyone else been injured i don't think so but i'm not sure OK we'll investigate can you give me the other driver's information yes his name is juan delgado rivera OK one moment please can you tell me your ID please yes it's 12345678 F OK\n",
      "Transcribing:  uncle mena rd passed exit 17 has anyone else been injured i don't think so but i'm not sure OK we'll investigate can you give me the other driver's information yes his name is juan delgado rivera OK one moment please can you tell me your ID please yes it's 12345678 F OK what\n",
      "Transcribing:  uncle mena rd passed exit 17 has anyone else been injured i don't think so but i'm not sure OK we'll investigate can you give me the other driver's information yes his name is juan delgado rivera OK one moment please can you tell me your ID please yes it's 12345678 F OK what damages\n",
      "Transcribing:  uncle mena rd passed exit 17 has anyone else been injured i don't think so but i'm not sure OK we'll investigate can you give me the other driver's information yes his name is juan delgado rivera OK one moment please can you tell me your ID please yes it's 12345678 F OK what damages has the\n",
      "Transcribing:  uncle mena rd passed exit 17 has anyone else been injured i don't think so but i'm not sure OK we'll investigate can you give me the other driver's information yes his name is juan delgado rivera OK one moment please can you tell me your ID please yes it's 12345678 F OK what damages has the car suffered\n",
      "Transcribing:  uncle mena rd passed exit 17 has anyone else been injured i don't think so but i'm not sure OK we'll investigate can you give me the other driver's information yes his name is juan delgado rivera OK one moment please can you tell me your ID please yes it's 12345678 F OK what damages has the car suffered the right front\n",
      "Transcribing:  uncle mena rd passed exit 17 has anyone else been injured i don't think so but i'm not sure OK we'll investigate can you give me the other driver's information yes his name is juan delgado rivera OK one moment please can you tell me your ID please yes it's 12345678 F OK what damages has the car suffered the right front headlight\n",
      "Transcribing:  uncle mena rd passed exit 17 has anyone else been injured i don't think so but i'm not sure OK we'll investigate can you give me the other driver's information yes his name is juan delgado rivera OK one moment please can you tell me your ID please yes it's 12345678 F OK what damages has the car suffered the right front headlight is broken\n",
      "Transcribing:  uncle mena rd passed exit 17 has anyone else been injured i don't think so but i'm not sure OK we'll investigate can you give me the other driver's information yes his name is juan delgado rivera OK one moment please can you tell me your ID please yes it's 12345678 F OK what damages has the car suffered the right front headlight is broken and\n",
      "Transcribing:  uncle mena rd passed exit 17 has anyone else been injured i don't think so but i'm not sure OK we'll investigate can you give me the other driver's information yes his name is juan delgado rivera OK one moment please can you tell me your ID please yes it's 12345678 F OK what damages has the car suffered the right front headlight is broken and a tire\n",
      "Transcribing:  uncle mena rd passed exit 17 has anyone else been injured i don't think so but i'm not sure OK we'll investigate can you give me the other driver's information yes his name is juan delgado rivera OK one moment please can you tell me your ID please yes it's 12345678 F OK what damages has the car suffered the right front headlight is broken and a tire is punctured\n",
      "Transcribing:  uncle mena rd passed exit 17 has anyone else been injured i don't think so but i'm not sure OK we'll investigate can you give me the other driver's information yes his name is juan delgado rivera OK one moment please can you tell me your ID please yes it's 12345678 F OK what damages has the car suffered the right front headlight is broken and a tire is punctured can you\n",
      "Transcribing:  uncle mena rd passed exit 17 has anyone else been injured i don't think so but i'm not sure OK we'll investigate can you give me the other driver's information yes his name is juan delgado rivera OK one moment please can you tell me your ID please yes it's 12345678 F OK what damages has the car suffered the right front headlight is broken and a tire is punctured can you drive the car\n",
      "Transcribing:  uncle mena rd passed exit 17 has anyone else been injured i don't think so but i'm not sure OK we'll investigate can you give me the other driver's information yes his name is juan delgado rivera OK one moment please can you tell me your ID please yes it's 12345678 F OK what damages has the car suffered the right front headlight is broken and a tire is punctured can you drive the car i don't know\n",
      "Transcribing:  uncle mena rd passed exit 17 has anyone else been injured i don't think so but i'm not sure OK we'll investigate can you give me the other driver's information yes his name is juan delgado rivera OK one moment please can you tell me your ID please yes it's 12345678 F OK what damages has the car suffered the right front headlight is broken and a tire is punctured can you drive the car i don't know isn't the\n",
      "Transcribing:  uncle mena rd passed exit 17 has anyone else been injured i don't think so but i'm not sure OK we'll investigate can you give me the other driver's information yes his name is juan delgado rivera OK one moment please can you tell me your ID please yes it's 12345678 F OK what damages has the car suffered the right front headlight is broken and a tire is punctured can you drive the car i don't know isn't the tow truck\n",
      "Transcribing:  uncle mena rd passed exit 17 has anyone else been injured i don't think so but i'm not sure OK we'll investigate can you give me the other driver's information yes his name is juan delgado rivera OK one moment please can you tell me your ID please yes it's 12345678 F OK what damages has the car suffered the right front headlight is broken and a tire is punctured can you drive the car i don't know isn't the tow truck coming\n",
      "Transcribing:  uncle mena rd passed exit 17 has anyone else been injured i don't think so but i'm not sure OK we'll investigate can you give me the other driver's information yes his name is juan delgado rivera OK one moment please can you tell me your ID please yes it's 12345678 F OK what damages has the car suffered the right front headlight is broken and a tire is punctured can you drive the car i don't know isn't the tow truck coming to pick it up\n",
      "Transcribing:  uncle mena rd passed exit 17 has anyone else been injured i don't think so but i'm not sure OK we'll investigate can you give me the other driver's information yes his name is juan delgado rivera OK one moment please can you tell me your ID please yes it's 12345678 F OK what damages has the car suffered the right front headlight is broken and a tire is punctured can you drive the car i don't know isn't the tow truck coming to pick it up OK\n",
      "Transcribing:  uncle mena rd passed exit 17 has anyone else been injured i don't think so but i'm not sure OK we'll investigate can you give me the other driver's information yes his name is juan delgado rivera OK one moment please can you tell me your ID please yes it's 12345678 F OK what damages has the car suffered the right front headlight is broken and a tire is punctured can you drive the car i don't know isn't the tow truck coming to pick it up OK we\n",
      "Transcribing:  uncle mena rd passed exit 17 has anyone else been injured i don't think so but i'm not sure OK we'll investigate can you give me the other driver's information yes his name is juan delgado rivera OK one moment please can you tell me your ID please yes it's 12345678 F OK what damages has the car suffered the right front headlight is broken and a tire is punctured can you drive the car i don't know isn't the tow truck coming to pick it up OK we'll need to\n",
      "Transcribing:  uncle mena rd passed exit 17 has anyone else been injured i don't think so but i'm not sure OK we'll investigate can you give me the other driver's information yes his name is juan delgado rivera OK one moment please can you tell me your ID please yes it's 12345678 F OK what damages has the car suffered the right front headlight is broken and a tire is punctured can you drive the car i don't know isn't the tow truck coming to pick it up OK we'll need to inspect\n",
      "Transcribing:  uncle mena rd passed exit 17 has anyone else been injured i don't think so but i'm not sure OK we'll investigate can you give me the other driver's information yes his name is juan delgado rivera OK one moment please can you tell me your ID please yes it's 12345678 F OK what damages has the car suffered the right front headlight is broken and a tire is punctured can you drive the car i don't know isn't the tow truck coming to pick it up OK we'll need to inspect the car\n",
      "Transcribing:  uncle mena rd passed exit 17 has anyone else been injured i don't think so but i'm not sure OK we'll investigate can you give me the other driver's information yes his name is juan delgado rivera OK one moment please can you tell me your ID please yes it's 12345678 F OK what damages has the car suffered the right front headlight is broken and a tire is punctured can you drive the car i don't know isn't the tow truck coming to pick it up OK we'll need to inspect the car i'll file\n",
      "Transcribing:  uncle mena rd passed exit 17 has anyone else been injured i don't think so but i'm not sure OK we'll investigate can you give me the other driver's information yes his name is juan delgado rivera OK one moment please can you tell me your ID please yes it's 12345678 F OK what damages has the car suffered the right front headlight is broken and a tire is punctured can you drive the car i don't know isn't the tow truck coming to pick it up OK we'll need to inspect the car i'll file the\n",
      "Transcribing:  uncle mena rd passed exit 17 has anyone else been injured i don't think so but i'm not sure OK we'll investigate can you give me the other driver's information yes his name is juan delgado rivera OK one moment please can you tell me your ID please yes it's 12345678 F OK what damages has the car suffered the right front headlight is broken and a tire is punctured can you drive the car i don't know isn't the tow truck coming to pick it up OK we'll need to inspect the car i'll file the report\n",
      "Transcribing:  uncle mena rd passed exit 17 has anyone else been injured i don't think so but i'm not sure OK we'll investigate can you give me the other driver's information yes his name is juan delgado rivera OK one moment please can you tell me your ID please yes it's 12345678 F OK what damages has the car suffered the right front headlight is broken and a tire is punctured can you drive the car i don't know isn't the tow truck coming to pick it up OK we'll need to inspect the car i'll file the report to\n",
      "Transcribing:  uncle mena rd passed exit 17 has anyone else been injured i don't think so but i'm not sure OK we'll investigate can you give me the other driver's information yes his name is juan delgado rivera OK one moment please can you tell me your ID please yes it's 12345678 F OK what damages has the car suffered the right front headlight is broken and a tire is punctured can you drive the car i don't know isn't the tow truck coming to pick it up OK we'll need to inspect the car i'll file the report to proceed\n",
      "Transcribing:  uncle mena rd passed exit 17 has anyone else been injured i don't think so but i'm not sure OK we'll investigate can you give me the other driver's information yes his name is juan delgado rivera OK one moment please can you tell me your ID please yes it's 12345678 F OK what damages has the car suffered the right front headlight is broken and a tire is punctured can you drive the car i don't know isn't the tow truck coming to pick it up OK we'll need to inspect the car i'll file the report to proceed with\n",
      "Transcribing:  uncle mena rd passed exit 17 has anyone else been injured i don't think so but i'm not sure OK we'll investigate can you give me the other driver's information yes his name is juan delgado rivera OK one moment please can you tell me your ID please yes it's 12345678 F OK what damages has the car suffered the right front headlight is broken and a tire is punctured can you drive the car i don't know isn't the tow truck coming to pick it up OK we'll need to inspect the car i'll file the report to proceed with the ins\n",
      "Transcribing:  uncle mena rd passed exit 17 has anyone else been injured i don't think so but i'm not sure OK we'll investigate can you give me the other driver's information yes his name is juan delgado rivera OK one moment please can you tell me your ID please yes it's 12345678 F OK what damages has the car suffered the right front headlight is broken and a tire is punctured can you drive the car i don't know isn't the tow truck coming to pick it up OK we'll need to inspect the car i'll file the report to proceed with the inspection\n",
      "Transcribing:  uncle mena rd passed exit 17 has anyone else been injured i don't think so but i'm not sure OK we'll investigate can you give me the other driver's information yes his name is juan delgado rivera OK one moment please can you tell me your ID please yes it's 12345678 F OK what damages has the car suffered the right front headlight is broken and a tire is punctured can you drive the car i don't know isn't the tow truck coming to pick it up OK we'll need to inspect the car i'll file the report to proceed with the inspection and\n",
      "Transcribing:  uncle mena rd passed exit 17 has anyone else been injured i don't think so but i'm not sure OK we'll investigate can you give me the other driver's information yes his name is juan delgado rivera OK one moment please can you tell me your ID please yes it's 12345678 F OK what damages has the car suffered the right front headlight is broken and a tire is punctured can you drive the car i don't know isn't the tow truck coming to pick it up OK we'll need to inspect the car i'll file the report to proceed with the inspection and repair\n",
      "Transcribing:  uncle mena rd passed exit 17 has anyone else been injured i don't think so but i'm not sure OK we'll investigate can you give me the other driver's information yes his name is juan delgado rivera OK one moment please can you tell me your ID please yes it's 12345678 F OK what damages has the car suffered the right front headlight is broken and a tire is punctured can you drive the car i don't know isn't the tow truck coming to pick it up OK we'll need to inspect the car i'll file the report to proceed with the inspection and repair request\n",
      "TRANSCRIBED:\n",
      "\tText: Uncle MENA Rd. Passed exit 17. Has anyone else been injured? I don't think so, but I'm not sure. OK, we'll investigate. Can you give me the other driver's information? Yes. His name is Juan Delgado Rivera. OK, One moment, please. Can you tell me your ID, please? Yes, It's 12345678 F OK. What damages has the car suffered? The right front headlight is broken and a tire is punctured. Can you drive the car? I don't know. Isn't the tow truck coming to pick it up? OK, we'll need to inspect the car. I'll file the report to proceed with the inspection and repair request.\n",
      "Transcribing:  perfect\n",
      "Transcribing:  perfect thank\n",
      "Transcribing:  perfect thank you\n",
      "Transcribing:  perfect thank you very much\n",
      "Transcribing:  perfect thank you very much for your help\n",
      "TRANSCRIBED:\n",
      "\tText: Perfect. Thank you very much for your help.\n",
      "Canceled event\n",
      "CLOSING\n",
      "SessionStopped event\n",
      "CLOSING\n"
     ]
    },
    {
     "data": {
      "text/plain": [
       "[\"Hi. I just had an accident and wanted to report it. Hi. OK. I hope you're fine. What happened? I was driving on Comina Road and I hit another car. Are you all right? Yes, just a bit nervous. That's normal. Can you tell me your full name? Sure. My name is Alvaro Gomez Rodriguez. Do you know what caused the accident? I think I hit a car. OK. Where did the accident occur?\",\n",
       " \"Uncle MENA Rd. Passed exit 17. Has anyone else been injured? I don't think so, but I'm not sure. OK, we'll investigate. Can you give me the other driver's information? Yes. His name is Juan Delgado Rivera. OK, One moment, please. Can you tell me your ID, please? Yes, It's 12345678 F OK. What damages has the car suffered? The right front headlight is broken and a tire is punctured. Can you drive the car? I don't know. Isn't the tow truck coming to pick it up? OK, we'll need to inspect the car. I'll file the report to proceed with the inspection and repair request.\",\n",
       " 'Perfect. Thank you very much for your help.']"
      ]
     },
     "metadata": {},
     "output_type": "display_data"
    }
   ],
   "source": [
    "# Usage with Azure Speech service\n",
    "speech_config=config_speech_service()\n",
    "#file_path = 'sample_data/sample_audio_parte_accidente.wav'\n",
    "#file_path = 'sample_data/The_National_Park.wav'\n",
    "#file_path = 'sample_data/CNVSample049.wav'\n",
    "file_path = 'sample_data/call_recording_en.wav'\n",
    "transcript = speech_recognize_continuous_from_file(speech_config, file_path)\n",
    "display(transcript)\n"
   ]
  },
  {
   "cell_type": "code",
   "execution_count": 7,
   "metadata": {},
   "outputs": [
    {
     "data": {
      "text/plain": [
       "Transcription(text=\"Hi, I just had an accident and wanted to report it. Hi, ok, I hope you're fine. What happened? I was driving on Comino Road and I hit another car. Are you alright? Yes, just a bit nervous. That's normal. Can you tell me your full name? Sure, my name is Alvaro Gomez Rodriguez. Do you know what caused the accident? I think I hit a car. Ok, where did the accident occur? On Comino Road, past exit 17. Has anyone else been injured? I don't think so, but I'm not sure. Ok, we'll investigate. Can you give me the other driver's information? Yes, his name is Juan Delgado Rivera. Ok, one moment, please. Can you tell me your ID, please? Yes, it's 12345678F. Ok. What damages has the car suffered? The right front headlight is broken and a tyre is punctured. Can you drive the car? I don't know. Isn't the tow truck coming to pick it up? Ok, we'll need to inspect the car. I'll file the report to proceed with the inspection and repair request. Perfect. Thank you very much for your help.\")"
      ]
     },
     "metadata": {},
     "output_type": "display_data"
    }
   ],
   "source": [
    "# Usage with Whisper\n",
    "whisper_client = config_whisper()\n",
    "#file_path = 'sample_data/CNVSample049.wav'\n",
    "file_path = 'sample_data/call_recording_en.wav'\n",
    "transcript = transcribe_with_whisper(whisper_client, file_path)\n",
    "display(transcript)"
   ]
  }
 ],
 "metadata": {
  "kernelspec": {
   "display_name": "mmdoc",
   "language": "python",
   "name": "python3"
  },
  "language_info": {
   "codemirror_mode": {
    "name": "ipython",
    "version": 3
   },
   "file_extension": ".py",
   "mimetype": "text/x-python",
   "name": "python",
   "nbconvert_exporter": "python",
   "pygments_lexer": "ipython3",
   "version": "3.11.5"
  }
 },
 "nbformat": 4,
 "nbformat_minor": 2
}
