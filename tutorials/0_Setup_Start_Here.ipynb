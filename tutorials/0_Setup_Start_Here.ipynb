{
 "cells": [
  {
   "cell_type": "markdown",
   "metadata": {},
   "source": [
    "# Conda Environment"
   ]
  },
  {
   "cell_type": "markdown",
   "metadata": {},
   "source": [
    "### Build your Conda Environment\n",
    "\n",
    "To create a new conda environment:\n",
    "\n",
    "`conda create -n mmdoc python=3.11`\n",
    "\n",
    "After successfully creating the conda environment, activate it:\n",
    "\n",
    "`conda activate mmdoc`\n",
    "\n",
    "Then install the requirements for this project. The file `requirements.txt` is found at the root folder of this project:\n",
    "\n",
    "`pip install -r requirements.txt`"
   ]
  },
  {
   "cell_type": "markdown",
   "metadata": {},
   "source": [
    "# OpenAI Resource Setup"
   ]
  },
  {
   "cell_type": "markdown",
   "metadata": {},
   "source": [
    "### Deployed Models\n",
    "\n",
    "Please create an OpenAI resource, preferably in Sweden Central since it's one of the few regions which has the GPT-4-Turbo, GPT-4-Vision, and the Ada-Embedding-002 models available in the same region. \n",
    "\n",
    "Make sure to use the same deployment names for the models as below:\n",
    "\n",
    "1. `text-embedding-ada-002` for the embedding model\n",
    "1. `gpt-4` for the GPT-4-Turbo model\n",
    "1. `gpt4v` for the Vision model\n",
    "\n",
    "\n",
    "<br/>\n",
    "<br/>"
   ]
  },
  {
   "cell_type": "markdown",
   "metadata": {},
   "source": [
    "![Image Description](../images/models.png)\n",
    "\n",
    "\n",
    "<br/>\n",
    "<br/>"
   ]
  },
  {
   "cell_type": "markdown",
   "metadata": {},
   "source": [
    "### Collect OpenAI Resource Information\n",
    "\n",
    "Collect endpoint and key of the OpenAI Resource and save them somewhere secure.\n",
    "\n",
    "<br/>\n",
    "<br/>\n",
    "\n"
   ]
  },
  {
   "cell_type": "markdown",
   "metadata": {},
   "source": [
    "### Content Safety Resource (optional)\n",
    "\n",
    "Create a Content Safety Resource and assign this resource to all 3 OpenAI models created above. This is optional and for development purposes so that the data we work with do not randomly activate the safety filters. \n",
    "\n",
    "Configure all the filters to High to minimize interference.\n",
    "\n",
    "<br/>\n",
    "<br/>\n",
    "\n",
    "\n",
    "![Image Description](../images/safety.png)\n",
    "\n",
    "\n",
    "<br/>\n",
    "<br/>"
   ]
  },
  {
   "cell_type": "markdown",
   "metadata": {},
   "source": [
    "# Populate the .env File\n",
    "\n",
    "Rename the `.env.sample` file in the root project folder to `.env`. \n",
    "\n",
    "Fill in the first 3 sections with the collected OpenAI endpoint and key information from above. If you had named the models as above, you do not need to change the first section. \n",
    "\n",
    "\n",
    "<br/>\n",
    "\n",
    "\n",
    "![image.png](../images/env.png)"
   ]
  },
  {
   "cell_type": "markdown",
   "metadata": {},
   "source": []
  }
 ],
 "metadata": {
  "kernelspec": {
   "display_name": "mmdoc",
   "language": "python",
   "name": "python3"
  },
  "language_info": {
   "codemirror_mode": {
    "name": "ipython",
    "version": 3
   },
   "file_extension": ".py",
   "mimetype": "text/x-python",
   "name": "python",
   "nbconvert_exporter": "python",
   "pygments_lexer": "ipython3",
   "version": "3.10.13"
  }
 },
 "nbformat": 4,
 "nbformat_minor": 2
}
