{
 "cells": [
  {
   "cell_type": "markdown",
   "metadata": {},
   "source": [
    "# Prompt Optimizer\n",
    "\n",
    "In this notebook we are building a prompt optimizer based upon the research whitepaper:  Principled Instructions Are All You Need for Questioning LLaMA-1/2, GPT-3.5/4  download from here https://arxiv.org/pdf/2312.16171.pdf\n"
   ]
  },
  {
   "cell_type": "code",
   "execution_count": 10,
   "metadata": {},
   "outputs": [
    {
     "name": "stdout",
     "output_type": "stream",
     "text": [
      "Requirement already satisfied: openai in c:\\users\\amantara\\appdata\\local\\miniconda3\\envs\\adia_ped\\lib\\site-packages (1.14.2)\n",
      "Requirement already satisfied: anyio<5,>=3.5.0 in c:\\users\\amantara\\appdata\\local\\miniconda3\\envs\\adia_ped\\lib\\site-packages (from openai) (3.7.1)\n",
      "Requirement already satisfied: distro<2,>=1.7.0 in c:\\users\\amantara\\appdata\\local\\miniconda3\\envs\\adia_ped\\lib\\site-packages (from openai) (1.9.0)\n",
      "Requirement already satisfied: httpx<1,>=0.23.0 in c:\\users\\amantara\\appdata\\local\\miniconda3\\envs\\adia_ped\\lib\\site-packages (from openai) (0.24.1)\n",
      "Requirement already satisfied: pydantic<3,>=1.9.0 in c:\\users\\amantara\\appdata\\local\\miniconda3\\envs\\adia_ped\\lib\\site-packages (from openai) (2.6.1)\n",
      "Requirement already satisfied: sniffio in c:\\users\\amantara\\appdata\\local\\miniconda3\\envs\\adia_ped\\lib\\site-packages (from openai) (1.3.0)\n",
      "Requirement already satisfied: tqdm>4 in c:\\users\\amantara\\appdata\\local\\miniconda3\\envs\\adia_ped\\lib\\site-packages (from openai) (4.66.2)\n",
      "Requirement already satisfied: typing-extensions<5,>=4.7 in c:\\users\\amantara\\appdata\\local\\miniconda3\\envs\\adia_ped\\lib\\site-packages (from openai) (4.9.0)\n",
      "Requirement already satisfied: idna>=2.8 in c:\\users\\amantara\\appdata\\local\\miniconda3\\envs\\adia_ped\\lib\\site-packages (from anyio<5,>=3.5.0->openai) (3.6)\n",
      "Requirement already satisfied: exceptiongroup in c:\\users\\amantara\\appdata\\local\\miniconda3\\envs\\adia_ped\\lib\\site-packages (from anyio<5,>=3.5.0->openai) (1.2.0)\n",
      "Requirement already satisfied: certifi in c:\\users\\amantara\\appdata\\local\\miniconda3\\envs\\adia_ped\\lib\\site-packages (from httpx<1,>=0.23.0->openai) (2024.2.2)\n",
      "Requirement already satisfied: httpcore<0.18.0,>=0.15.0 in c:\\users\\amantara\\appdata\\local\\miniconda3\\envs\\adia_ped\\lib\\site-packages (from httpx<1,>=0.23.0->openai) (0.17.3)\n",
      "Requirement already satisfied: annotated-types>=0.4.0 in c:\\users\\amantara\\appdata\\local\\miniconda3\\envs\\adia_ped\\lib\\site-packages (from pydantic<3,>=1.9.0->openai) (0.6.0)\n",
      "Requirement already satisfied: pydantic-core==2.16.2 in c:\\users\\amantara\\appdata\\local\\miniconda3\\envs\\adia_ped\\lib\\site-packages (from pydantic<3,>=1.9.0->openai) (2.16.2)\n",
      "Requirement already satisfied: colorama in c:\\users\\amantara\\appdata\\local\\miniconda3\\envs\\adia_ped\\lib\\site-packages (from tqdm>4->openai) (0.4.6)\n",
      "Requirement already satisfied: h11<0.15,>=0.13 in c:\\users\\amantara\\appdata\\local\\miniconda3\\envs\\adia_ped\\lib\\site-packages (from httpcore<0.18.0,>=0.15.0->httpx<1,>=0.23.0->openai) (0.14.0)\n",
      "Note: you may need to restart the kernel to use updated packages.\n"
     ]
    }
   ],
   "source": [
    "# if needed, install and/or upgrade to the latest version of the OpenAI Python library\n",
    "%pip install --upgrade openai"
   ]
  },
  {
   "cell_type": "code",
   "execution_count": 11,
   "metadata": {},
   "outputs": [
    {
     "data": {
      "text/plain": [
       "True"
      ]
     },
     "execution_count": 11,
     "metadata": {},
     "output_type": "execute_result"
    }
   ],
   "source": [
    "# import os module & the OpenAI Python library for calling the OpenAI API\n",
    "import os\n",
    "from openai import AzureOpenAI\n",
    "import json\n",
    "from dotenv import load_dotenv\n",
    "load_dotenv()"
   ]
  },
  {
   "cell_type": "markdown",
   "metadata": {},
   "source": [
    "# Setup Parameters"
   ]
  },
  {
   "cell_type": "code",
   "execution_count": 12,
   "metadata": {},
   "outputs": [],
   "source": [
    "# Expecting an .env file with the following content:\n",
    "# OPENAI_API_KEY=your_openai_api_key_here\n",
    "# AZURE_OPENAI_ENDPOINT =\"https://your_open_ai_resource_name.openai.azure.com/\"\n",
    "\n"
   ]
  },
  {
   "cell_type": "code",
   "execution_count": 16,
   "metadata": {},
   "outputs": [],
   "source": [
    "\n",
    "# System prompt for reviewing user prompts, adapted for the conversational format\n",
    "reviwer_system_prompt = \"\"\"\n",
    "##Objective##:\n",
    "To review user prompts critically, ensuring they align with the 26 key principles for effective interaction with Large Language Models (LLMs), and to provide constructive feedback for improvement.\n",
    "\n",
    "##Instructions for the Assistant##\n",
    "#Directness and Conciseness: Confirm the user prompt is straightforward, avoiding unnecessary politeness or filler words.\n",
    "#Intended Audience: Ensure the user prompt clearly identifies who the audience is, tailoring the complexity and style accordingly.\n",
    "#Simplifying Complex Tasks: Check if complex tasks are broken down into simpler, sequential prompts.\n",
    "#Affirmative Directives: Assess the use of clear, action-oriented language, avoiding negative constructions.\n",
    "#Clarity in Requests: Verify if the prompt asks for explanations in simple terms, suitable for laypersons or specific age groups.\n",
    "#Incentive Mention: Note if the prompt includes unnecessary incentives, which are not applicable here.\n",
    "#Example-Driven: Ensure the prompt encourages or includes specific examples or few-shot learning approaches.\n",
    "#Structured Formatting: Check for clear, structured formatting, including instructional headers and separation of sections.\n",
    "#Directive Phrasing: Confirm the use of explicit directives like “Your task is” to guide the LLM's response.\n",
    "#Consequence Awareness: Look for language indicating awareness of the importance of accuracy and the potential consequences of misinformation.\n",
    "#Natural, Human-Like Responses: Assess whether the prompt requests responses in a natural, conversational manner.\n",
    "#Step-by-Step Guidance: Ensure the prompt encourages thinking or explaining processes step by step.\n",
    "#Bias Avoidance: Check for explicit instructions to avoid bias and rely on stereotypes.\n",
    "#Detail Elicitation: Confirm if the prompt is open-ended, allowing the LLM to ask follow-up questions for clarification.\n",
    "#Learning and Testing: Verify if the prompt encourages an educational approach, including learning checks or tests.\n",
    "#Role Assignment: Assess whether the prompt assigns a specific role or perspective to the LLM.\n",
    "#Use of Delimiters: Check for the use of delimiters for clarity in separating sections or ideas.\n",
    "#Keyword Repetition: Look for intentional repetition of key words or phrases for emphasis.\n",
    "#Combining CoT with Few-Shot: Ensure the prompt integrates a Chain-of-Thought approach with example-driven or few-shot learning for complex tasks.\n",
    "#Output Primers: Confirm if the prompt concludes with an output primer, setting up the expected format or beginning of the response.\n",
    "#Detailed Writing Requests: Assess if the prompt asks for detailed, comprehensive coverage on a topic.\n",
    "#Style Preservation: Ensure the prompt asks for stylistic consistency when revising or responding to user inputs.\n",
    "#Complex Coding Requests: Note if the prompt properly guides the creation of multi-file coding solutions or complex coding tasks.\n",
    "#Content Initiation: Verify if the prompt effectively sets the stage or beginning for creative or continuation tasks.\n",
    "#Clear Requirements: Ensure the prompt clearly outlines all requirements, including format, style, and specific content expectations.\n",
    "#Style Mimicry: Check if the prompt asks for mimicry of a provided sample's style or language for text generation tasks.\n",
    "\n",
    "##Feedback and Recommendations##\n",
    "\n",
    "#Provide specific, actionable feedback for each principle, noting where the user prompt excels and where it falls short.\n",
    "#Offer suggestions for improvement, ensuring the user understands how to align their prompt better with these principles.\n",
    "#YOU MUST ALWAYS GENERATE AN IMPROVED VERSION OF THE PROMPT AND SUGGEST IT TO THE USER\n",
    "##Final Evaluation##\n",
    "\n",
    "Give an overall evaluation of the prompt's effectiveness and adherence to the 26 principles.\n",
    "Encourage the user to refine their prompting skills based on the feedback.\n",
    "\n",
    "\"\"\"\n",
    "\n",
    "\n",
    "prompt_to_review = \"\"\"\n",
    "Develop an executive summary that encapsulates the potential investment in a point-of-care testing company within the in-vitro diagnostics market. The summary should:\n",
    "\n",
    "Present an overview of the company's business model, product offerings, market reach, and financial highlights without specifying exact sales figures or margins.\n",
    "Give an account of the company's historical background, current ownership, and ongoing bid process, mentioning interest from other equity firms without naming them.\n",
    "Formulate an investment thesis that emphasizes the company's market position, growth strategy, and business model strengths, such as recurring revenue streams and proprietary technology.\n",
    "List key investment considerations and due diligence items that an investor should evaluate, focusing on market share, product portfolio, and technological innovation.\n",
    "Conclude with a preliminary valuation outlook and recommendations for proceeding with an investment procedure, without including specific multiples or revenue projections.\"\n",
    "One-shot Example for LLM Output:\n",
    "\n",
    "\"The executive summary should highlight an investment opportunity in a dynamic IVD company with a strong presence in point-of-care testing. The company, leveraging a recurring revenue model, has established significant market access in Europe and plans for global expansion. Originally part of a larger pharmaceutical entity, it is now in the midst of a strategic acquisition process. The investment thesis should underscore the firm's solid market standing, the potential for growth via technological advancements, and its strategic plans for market expansion. Considerations for investment should cover market analysis, risk assessment, and evaluation of proprietary technologies. The summary concludes with a recommendation for investment proceedings based on a positive valuation outlook, considering the company's robust business model and future potential.\"\n",
    "\"\"\"\n",
    "messages =[\n",
    "    {\n",
    "        \"role\": \"system\",\n",
    "        \"content\": reviwer_system_prompt\n",
    "    },\n",
    "    {\n",
    "        \"role\": \"user\",\n",
    "        \"content\": prompt_to_review\n",
    "    }\n",
    "]\n",
    "   \n",
    "\n"
   ]
  },
  {
   "cell_type": "code",
   "execution_count": 17,
   "metadata": {},
   "outputs": [
    {
     "name": "stdout",
     "output_type": "stream",
     "text": [
      "assistant: The submitted user prompt demonstrates strengths in certain principles but could be improved in others. Here is a breakdown based on the 26 principles of effective interaction:\n",
      "\n",
      "### Strengths:\n",
      "1. **Directness and Conciseness:** The prompt is direct and devoid of fluff or unnecessary politeness.\n",
      "2. **Intended Audience:** The audience is implicitly investment-oriented.\n",
      "3. **Structured Formatting:** The prompt is structured, using a list format to present requirements.\n",
      "4. **Directive Phrasing:** The tasks are presented with clear directives.\n",
      "5. **Natural, Human-Like Responses:** The sample response is professional, which aligns with the expected tone.\n",
      "6. **Detail Elicitation:** The prompt allows room for supplementary questions that can aid in detailing the executive summary.\n",
      "7. **Learning and Testing:** Although not directly stated, the executive summary serves as an educational overview for an investor.\n",
      "8. **Output Primers:** The provided one-shot example acts as an output primer.\n",
      "9. **Clear Requirements:** The requirements for the summary are well-defined.\n",
      "10. **Style Preservation:** The style of an executive summary is maintained in the sample response.\n",
      "\n",
      "### Areas for Improvement:\n",
      "1. **Simplifying Complex Tasks:** The task could be broken down further into more digestible sub-tasks.\n",
      "2. **Affirmative Directives:** The prompt could employ more active language in the task directives.\n",
      "3. **Clarity in Requests:** Some elements like \"historical background\" and \"current ownership\" need clarification for their relevance in the summary.\n",
      "4. **Incentive Mention:** N/A – Incentive mentions do not apply to this prompt.\n",
      "5. **Example-Driven:** It should encourage the inclusion of more examples related to the diagnostics industry.\n",
      "6. **Step-by-Step Guidance:** The prompt could guide on how to methodically approach constructing the summary.\n",
      "7. **Bias Avoidance:** The sample response should implicitly instruct the removal of any potential bias.\n",
      "8. **Role Assignment:** The role of the assistant as an analytical reviewer could be clarified.\n",
      "9. **Use of Delimiters:** Delimiters could be used more effectively to separate sections in the example response.\n",
      "10. **Keyword Repetition:** There is scope for strategic repetition for emphasis, particularly for key investment terms.\n",
      "11. **Combining CoT with Few-Shot:** Integration of Chain-of-Thought with the example-driven approach could be improved.\n",
      "12. **Detailed Writing Requests:** The prompt's instruction for details is good, but could request more comprehensive coverage on each point.\n",
      "13. **Complex Coding Requests:** N/A – This prompt does not involve coding.\n",
      "14. **Content Initiation:** The prompt partially sets the stage but could provide a more complete context setup.\n",
      "15. **Style Mimicry:** Style mimicry is not explicitly requested, which could be useful here.\n",
      "\n",
      "### Feedback and Recommendations:\n",
      "- The prompt should enhance clarity by elaborating on the relevance of the company's historical background and ownership in the investment summary.\n",
      "- Incorporating few-shot examples specific to the in-vitro diagnostics market can enrich the context for the response.\n",
      "- There is an opportunity to guide the user through the summary creation by breaking down the task into smaller, step-by-step components.\n",
      "- A directive could be added for the LLM to role-play as an industry analyst, thus framing its delivery of information.\n",
      "- The prompt should encourage the assistant to weave in a more detailed approach, asking for a comprehensive explanation under each header.\n",
      "\n",
      "### Improved Prompt Suggestion:\n",
      "\n",
      "\"Compose an executive summary aimed at potential investors that provides insight into a leading point-of-care testing firm within the in-vitro diagnostics sector. Structure the summary to discuss:\n",
      "\n",
      "1. The company's lean and scalable business model, diversity and uniqueness of product range, extent of market influence globally, and key financial highlights to convey stability and growth potential.\n",
      "2. A brief but informative history of the company, the nature of its current ownership structure, and a general description of the ongoing acquisition interests suggestive of a competitive market position.\n",
      "3. An investment thesis accentuating the firm’s entrenched industry standing, innovative growth plan, and robust business strengths, including consistent revenue and unique technology patents.\n",
      "4. A checklist of essential investment considerations, such as market share and competitors, breadth of product portfolio, and cutting-edge technology, necessitating thorough due diligence.\n",
      "5. A concluding appraisal of the company's investment promise based on non-numeric, qualitative valuation factors and offer strategic recommendations for next steps in the investment process.\"\n",
      "\n",
      "### Final Evaluation:\n",
      "The initial prompt provides a good foundation but can be refined further for a more effective executive summary construction. The improved prompt offers additional structure, clarity, and guidance, aligning it more accurately with the principles of effective interaction with LLMs. Overall, the user is encouraged to refine their prompt, utilizing the feedback provided to enhance the quality and relevancy of future interactions with large language models.\n"
     ]
    }
   ],
   "source": [
    "\n",
    "try:\n",
    "    \n",
    "    client = AzureOpenAI(\n",
    "    api_key=os.getenv(\"AZURE_OPENAI_API_KEY\"),  \n",
    "    api_version=\"2024-02-15-preview\",\n",
    "    azure_endpoint = os.getenv(\"AZURE_OPENAI_ENDPOINT\")\n",
    "    )\n",
    "\n",
    "    deployment_name='gpt-4' #This will correspond to the custom name you chose for your deployment when you deployed a model. Use a gpt-35-turbo-instruct deployment. \n",
    "        \n",
    "    # Send a completion call to generate an answer\n",
    "    completion = client.chat.completions.create(\n",
    "        messages=messages,\n",
    "        model=deployment_name,\n",
    "        max_tokens=3000\n",
    "    )\n",
    "\n",
    "    print(f\"{completion.choices[0].message.role}: {completion.choices[0].message.content}\")\n",
    "except Exception as e:\n",
    "    # Handles all other exceptions\n",
    "    print(f\"An exception has occurred: {e}\")\n"
   ]
  }
 ],
 "metadata": {
  "kernelspec": {
   "display_name": "mmdoc",
   "language": "python",
   "name": "python3"
  },
  "language_info": {
   "codemirror_mode": {
    "name": "ipython",
    "version": 3
   },
   "file_extension": ".py",
   "mimetype": "text/x-python",
   "name": "python",
   "nbconvert_exporter": "python",
   "pygments_lexer": "ipython3",
   "version": "3.10.13"
  }
 },
 "nbformat": 4,
 "nbformat_minor": 2
}
