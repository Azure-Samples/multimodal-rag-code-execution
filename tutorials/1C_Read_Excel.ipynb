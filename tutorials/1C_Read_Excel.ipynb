{
 "cells": [
  {
   "cell_type": "markdown",
   "metadata": {},
   "source": [
    "# Read Excel Documents\n",
    "\n",
    "Read MS Excel Documents with Python and the `openpyxl` library, and extract tables. The Excel was created with merged cells to make it a little bit more complex to process."
   ]
  },
  {
   "cell_type": "markdown",
   "metadata": {},
   "source": [
    "### Install the Required Libraries"
   ]
  },
  {
   "cell_type": "code",
   "execution_count": null,
   "metadata": {},
   "outputs": [],
   "source": [
    "%pip install openpyxl pandas\n"
   ]
  },
  {
   "cell_type": "markdown",
   "metadata": {},
   "source": [
    "### Python Imports"
   ]
  },
  {
   "cell_type": "code",
   "execution_count": 2,
   "metadata": {},
   "outputs": [],
   "source": [
    "import sys\n",
    "sys.path.append('..\\\\code')\n",
    "\n",
    "import os\n",
    "from dotenv import load_dotenv\n",
    "load_dotenv()\n",
    "\n",
    "from docx import Document\n",
    "import pandas as pd\n",
    "from docx.shared import Inches\n",
    "from docx.image.image import Image\n",
    "\n",
    "from IPython.display import display, Markdown, HTML\n",
    "from PIL import Image\n",
    "from doc_utils import *\n",
    "from utils.bcolors import bcolors as bc  \n",
    "\n",
    "\n",
    "def show_img(img_path, width = None):\n",
    "    if width is not None:\n",
    "        display(HTML(f'<img src=\"{img_path}\" width={width}>'))\n",
    "    else:\n",
    "        display(Image.open(img_path))"
   ]
  },
  {
   "cell_type": "markdown",
   "metadata": {},
   "source": [
    "### Make sure we have the OpenAI Models information\n",
    "\n",
    "We will need the GPT-4-Turbo and GPT-4-Vision models for this notebook.\n",
    "\n",
    "When running the below cell, the values should reflect the OpenAI reource you have created in "
   ]
  },
  {
   "cell_type": "code",
   "execution_count": null,
   "metadata": {},
   "outputs": [],
   "source": [
    "model_info = {\n",
    "        'AZURE_OPENAI_RESOURCE': os.environ.get('AZURE_OPENAI_RESOURCE'),\n",
    "        'AZURE_OPENAI_KEY': os.environ.get('AZURE_OPENAI_KEY'),\n",
    "        'AZURE_OPENAI_MODEL_VISION': os.environ.get('AZURE_OPENAI_MODEL_VISION'),\n",
    "        'AZURE_OPENAI_MODEL': os.environ.get('AZURE_OPENAI_MODEL'),\n",
    "}\n",
    "\n",
    "model_info\n"
   ]
  },
  {
   "cell_type": "markdown",
   "metadata": {},
   "source": [
    "### Code Definitions\n",
    "\n",
    "Defining the function that will read in the docx file and return the text, images and tables as a list of strings, list of images and list of pandas dataframes respectively."
   ]
  },
  {
   "cell_type": "code",
   "execution_count": 18,
   "metadata": {},
   "outputs": [],
   "source": [
    "\n",
    "def get_excel_sheet_names(file_path):\n",
    "    \"\"\"\n",
    "    Returns a list of sheet names from the specified Excel file.\n",
    "\n",
    "    :param file_path: Path to the Excel file\n",
    "    :return: List of sheet names\n",
    "    \"\"\"\n",
    "    # Load the Excel file\n",
    "    xls = pd.ExcelFile(file_path, engine='openpyxl')\n",
    "\n",
    "    # Get the list of sheet names\n",
    "    sheet_names = xls.sheet_names\n",
    "\n",
    "    return sheet_names\n",
    "\n",
    "\n",
    "def read_excel_to_dataframes(file_path):\n",
    "    \"\"\"\n",
    "    Reads an Excel file and returns a dictionary of DataFrames.\n",
    "    Each key in the dictionary corresponds to a sheet name,\n",
    "    and each value is a DataFrame containing the data from that sheet.\n",
    "\n",
    "    :param file_path: Path to the Excel file\n",
    "    :return: Dictionary of DataFrames\n",
    "    \"\"\"\n",
    "    # Load the Excel file\n",
    "    xls = pd.ExcelFile(file_path, engine='openpyxl')\n",
    "\n",
    "    # Dictionary to hold DataFrames\n",
    "    dfs = {}\n",
    "\n",
    "    # Read each sheet into a DataFrame\n",
    "    for sheet_name in xls.sheet_names:\n",
    "        dfs[sheet_name] = pd.read_excel(xls, sheet_name, header=None)\n",
    "        # dfs[sheet_name] = dfs[sheet_name].ffill(axis=1)\n",
    "        # dfs[sheet_name] = dfs[sheet_name].ffill(axis=0)\n",
    "\n",
    "    return dfs\n"
   ]
  },
  {
   "cell_type": "markdown",
   "metadata": {},
   "source": [
    "### Read Excel\n",
    "\n",
    "Read the excel and print the dataframes out."
   ]
  },
  {
   "cell_type": "code",
   "execution_count": 19,
   "metadata": {},
   "outputs": [
    {
     "data": {
      "text/html": [
       "<div>\n",
       "<style scoped>\n",
       "    .dataframe tbody tr th:only-of-type {\n",
       "        vertical-align: middle;\n",
       "    }\n",
       "\n",
       "    .dataframe tbody tr th {\n",
       "        vertical-align: top;\n",
       "    }\n",
       "\n",
       "    .dataframe thead th {\n",
       "        text-align: right;\n",
       "    }\n",
       "</style>\n",
       "<table border=\"1\" class=\"dataframe\">\n",
       "  <thead>\n",
       "    <tr style=\"text-align: right;\">\n",
       "      <th></th>\n",
       "      <th>0</th>\n",
       "      <th>1</th>\n",
       "      <th>2</th>\n",
       "    </tr>\n",
       "  </thead>\n",
       "  <tbody>\n",
       "    <tr>\n",
       "      <th>0</th>\n",
       "      <td>NaN</td>\n",
       "      <td>Trivia QnA Round # 1</td>\n",
       "      <td>NaN</td>\n",
       "    </tr>\n",
       "    <tr>\n",
       "      <th>1</th>\n",
       "      <td>Category</td>\n",
       "      <td>Question 1</td>\n",
       "      <td>Answer 1</td>\n",
       "    </tr>\n",
       "    <tr>\n",
       "      <th>2</th>\n",
       "      <td>Science</td>\n",
       "      <td>What is the chemical symbol for gold?</td>\n",
       "      <td>Au</td>\n",
       "    </tr>\n",
       "    <tr>\n",
       "      <th>3</th>\n",
       "      <td>NaN</td>\n",
       "      <td>How many planets are in the Solar System?</td>\n",
       "      <td>8</td>\n",
       "    </tr>\n",
       "    <tr>\n",
       "      <th>4</th>\n",
       "      <td>Geography</td>\n",
       "      <td>What is the capital of Japan?</td>\n",
       "      <td>Tokyo</td>\n",
       "    </tr>\n",
       "    <tr>\n",
       "      <th>5</th>\n",
       "      <td>NaN</td>\n",
       "      <td>What is the largest desert in the world?</td>\n",
       "      <td>Sahara</td>\n",
       "    </tr>\n",
       "    <tr>\n",
       "      <th>6</th>\n",
       "      <td>History</td>\n",
       "      <td>In what year did the Titanic sink?</td>\n",
       "      <td>1912</td>\n",
       "    </tr>\n",
       "    <tr>\n",
       "      <th>7</th>\n",
       "      <td>NaN</td>\n",
       "      <td>Who was the first woman to fly solo across the...</td>\n",
       "      <td>Amelia Earhart</td>\n",
       "    </tr>\n",
       "    <tr>\n",
       "      <th>8</th>\n",
       "      <td>NaN</td>\n",
       "      <td>Trivia QnA Round # 2</td>\n",
       "      <td>NaN</td>\n",
       "    </tr>\n",
       "    <tr>\n",
       "      <th>9</th>\n",
       "      <td>Category</td>\n",
       "      <td>Question 2</td>\n",
       "      <td>Answer 2</td>\n",
       "    </tr>\n",
       "    <tr>\n",
       "      <th>10</th>\n",
       "      <td>Science</td>\n",
       "      <td>What gas do plants absorb from the atmosphere?</td>\n",
       "      <td>Carbon Dioxide</td>\n",
       "    </tr>\n",
       "    <tr>\n",
       "      <th>11</th>\n",
       "      <td>NaN</td>\n",
       "      <td>How long does Earth take to orbit the Sun?</td>\n",
       "      <td>365.25 days</td>\n",
       "    </tr>\n",
       "    <tr>\n",
       "      <th>12</th>\n",
       "      <td>Geography</td>\n",
       "      <td>What country has the longest coastline?</td>\n",
       "      <td>Canada</td>\n",
       "    </tr>\n",
       "    <tr>\n",
       "      <th>13</th>\n",
       "      <td>NaN</td>\n",
       "      <td>Largest country by area</td>\n",
       "      <td>Russia</td>\n",
       "    </tr>\n",
       "    <tr>\n",
       "      <th>14</th>\n",
       "      <td>History</td>\n",
       "      <td>Who invented the lightbulb?</td>\n",
       "      <td>Thomas Edison</td>\n",
       "    </tr>\n",
       "    <tr>\n",
       "      <th>15</th>\n",
       "      <td>NaN</td>\n",
       "      <td>The war of 1812 was between which two countries?</td>\n",
       "      <td>USA and UK</td>\n",
       "    </tr>\n",
       "  </tbody>\n",
       "</table>\n",
       "</div>"
      ],
      "text/plain": [
       "            0                                                  1  \\\n",
       "0         NaN                               Trivia QnA Round # 1   \n",
       "1    Category                                         Question 1   \n",
       "2     Science              What is the chemical symbol for gold?   \n",
       "3         NaN          How many planets are in the Solar System?   \n",
       "4   Geography                      What is the capital of Japan?   \n",
       "5         NaN           What is the largest desert in the world?   \n",
       "6     History                 In what year did the Titanic sink?   \n",
       "7         NaN  Who was the first woman to fly solo across the...   \n",
       "8         NaN                               Trivia QnA Round # 2   \n",
       "9    Category                                         Question 2   \n",
       "10    Science     What gas do plants absorb from the atmosphere?   \n",
       "11        NaN         How long does Earth take to orbit the Sun?   \n",
       "12  Geography            What country has the longest coastline?   \n",
       "13        NaN                            Largest country by area   \n",
       "14    History                        Who invented the lightbulb?   \n",
       "15        NaN   The war of 1812 was between which two countries?   \n",
       "\n",
       "                 2  \n",
       "0              NaN  \n",
       "1         Answer 1  \n",
       "2               Au  \n",
       "3                8  \n",
       "4            Tokyo  \n",
       "5           Sahara  \n",
       "6             1912  \n",
       "7   Amelia Earhart  \n",
       "8              NaN  \n",
       "9         Answer 2  \n",
       "10  Carbon Dioxide  \n",
       "11     365.25 days  \n",
       "12          Canada  \n",
       "13          Russia  \n",
       "14   Thomas Edison  \n",
       "15      USA and UK  "
      ]
     },
     "metadata": {},
     "output_type": "display_data"
    }
   ],
   "source": [
    "# Usage\n",
    "file_path = 'sample_data/1_sample_trivia.xlsx'  \n",
    "dataframes = read_excel_to_dataframes(file_path)\n",
    "\n",
    "for sheet, df in dataframes.items():\n",
    "    display(df)\n"
   ]
  },
  {
   "cell_type": "markdown",
   "metadata": {},
   "source": [
    "### Print the Tables as Markdown"
   ]
  },
  {
   "cell_type": "code",
   "execution_count": 6,
   "metadata": {},
   "outputs": [
    {
     "data": {
      "text/markdown": [
       "|    | 0         | 1                                                        | 2                    |\n",
       "|---:|:----------|:---------------------------------------------------------|:---------------------|\n",
       "|  0 | nan       | Trivia QnA Round # 1                                     | Trivia QnA Round # 1 |\n",
       "|  1 | Category  | Question 1                                               | Answer 1             |\n",
       "|  2 | Science   | What is the chemical symbol for gold?                    | Au                   |\n",
       "|  3 | Science   | How many planets are in the Solar System?                | 8                    |\n",
       "|  4 | Geography | What is the capital of Japan?                            | Tokyo                |\n",
       "|  5 | Geography | What is the largest desert in the world?                 | Sahara               |\n",
       "|  6 | History   | In what year did the Titanic sink?                       | 1912                 |\n",
       "|  7 | History   | Who was the first woman to fly solo across the Atlantic? | Amelia Earhart       |\n",
       "|  8 | History   | Trivia QnA Round # 2                                     | Trivia QnA Round # 2 |\n",
       "|  9 | Category  | Question 2                                               | Answer 2             |\n",
       "| 10 | Science   | What gas do plants absorb from the atmosphere?           | Carbon Dioxide       |\n",
       "| 11 | Science   | How long does Earth take to orbit the Sun?               | 365.25 days          |\n",
       "| 12 | Geography | What country has the longest coastline?                  | Canada               |\n",
       "| 13 | Geography | Largest country by area                                  | Russia               |\n",
       "| 14 | History   | Who invented the lightbulb?                              | Thomas Edison        |\n",
       "| 15 | History   | The war of 1812 was between which two countries?         | USA and UK           |"
      ],
      "text/plain": [
       "<IPython.core.display.Markdown object>"
      ]
     },
     "metadata": {},
     "output_type": "display_data"
    }
   ],
   "source": [
    "for sheet, df in dataframes.items():\n",
    "    display(Markdown(df.to_markdown()))\n"
   ]
  },
  {
   "cell_type": "markdown",
   "metadata": {},
   "source": [
    "### Query the Table\n",
    "\n",
    "Local RAG demo with the table extracted from the excel sheet."
   ]
  },
  {
   "cell_type": "code",
   "execution_count": 11,
   "metadata": {},
   "outputs": [
    {
     "name": "stdout",
     "output_type": "stream",
     "text": [
      "The trivia game has two rounds, as indicated by the headers \"Trivia QnA Round # 1\" and \"Trivia QnA Round # 2\" in the table.\n"
     ]
    }
   ],
   "source": [
    "prompt = \"\"\"\n",
    "\n",
    "## START OF TABLE\n",
    "{markdown}\n",
    "## END OF TABLE\n",
    "\n",
    "{query}\n",
    "\n",
    "\"\"\"\n",
    "\n",
    "def query_table(query):\n",
    "    p = prompt.format(markdown = dataframes['Sheet1'], query = query)\n",
    "    output = ask_LLM(p, model_info=model_info)\n",
    "    print(output)\n",
    "\n",
    "query_table('how many rounds does this trivia game have?')"
   ]
  },
  {
   "cell_type": "code",
   "execution_count": 12,
   "metadata": {},
   "outputs": [
    {
     "name": "stdout",
     "output_type": "stream",
     "text": [
      "According to the trivia game, Canada is known for having the longest coastline.\n"
     ]
    }
   ],
   "source": [
    "query_table('Accoring to the trivia game, What is Canada known for?')"
   ]
  },
  {
   "cell_type": "code",
   "execution_count": 13,
   "metadata": {},
   "outputs": [
    {
     "name": "stdout",
     "output_type": "stream",
     "text": [
      "There are three trivia categories used in the trivia game:\n",
      "\n",
      "1. Science\n",
      "2. Geography\n",
      "3. History\n"
     ]
    }
   ],
   "source": [
    "query_table('How many trivia categories are used in the trivia game?')"
   ]
  },
  {
   "cell_type": "code",
   "execution_count": null,
   "metadata": {},
   "outputs": [],
   "source": []
  }
 ],
 "metadata": {
  "kernelspec": {
   "display_name": "mmdoc",
   "language": "python",
   "name": "python3"
  },
  "language_info": {
   "codemirror_mode": {
    "name": "ipython",
    "version": 3
   },
   "file_extension": ".py",
   "mimetype": "text/x-python",
   "name": "python",
   "nbconvert_exporter": "python",
   "pygments_lexer": "ipython3",
   "version": "3.10.13"
  }
 },
 "nbformat": 4,
 "nbformat_minor": 2
}
