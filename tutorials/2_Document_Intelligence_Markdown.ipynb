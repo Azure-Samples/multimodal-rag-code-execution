{
 "cells": [
  {
   "cell_type": "markdown",
   "metadata": {},
   "source": [
    "# Document Intelligence with Markdown\n",
    "\n",
    "In this notebook we will experiment with Document Intelligence and its Markdown output. We will try reading documents and experiment whether Document Intelligence can manage advanced actions, such as reading multi-page tables. \n"
   ]
  },
  {
   "cell_type": "markdown",
   "metadata": {},
   "source": [
    "### Notes:\n",
    "- Getting 404 when calling document_intelligence_client.begin_analyze_document\n",
    "  - Help in finding solution - [ResourceNotFoundError (404) with DocumentIntelligenceClient · Issue #33312 · Azure/azure-sdk-for-python · GitHub](https://github.com/Azure/azure-sdk-for-python/issues/33312)\n",
    "  - **Solution:** Make sure that resource is in supported region - [Document layout analysis - Document Intelligence (formerly Form Recognizer) - Azure AI services | Microsoft Learn](https://learn.microsoft.com/en-us/azure/ai-services/document-intelligence/concept-layout?view=doc-intel-4.0.0)\n",
    "\n",
    "- Not all pages are analyzed (sample_data/2_ai_facts.pdf)\n",
    "  - For some reason only first two pages are analyzed. This is not an issue with sample_data/2_ai_facts.docx\n",
    "  - Same problem is observed in Document Intelligence Studio\n",
    "  - **Solution:** Change Document Intelligence resource pricing tier from F0 -> S0\n"
   ]
  },
  {
   "cell_type": "markdown",
   "metadata": {},
   "source": [
    "### Python Imports\n"
   ]
  },
  {
   "cell_type": "code",
   "execution_count": 1,
   "metadata": {},
   "outputs": [
    {
     "name": "stdout",
     "output_type": "stream",
     "text": [
      "The autoreload extension is already loaded. To reload it, use:\n",
      "  %reload_ext autoreload\n"
     ]
    }
   ],
   "source": [
    "%load_ext autoreload\n",
    "%autoreload 2\n",
    "\n",
    "\n",
    "import sys\n",
    "sys.path.append('..\\\\code')\n",
    "\n",
    "\n",
    "import os\n",
    "from dotenv import load_dotenv\n",
    "load_dotenv()\n",
    "\n",
    "from IPython.display import display, Markdown, HTML\n",
    "from PIL import Image\n",
    "from doc_utils import *\n",
    "\n",
    "\n",
    "def show_img(img_path, width = None):\n",
    "    if width is not None:\n",
    "        display(HTML(f'<img src=\"{img_path}\" width={width}>'))\n",
    "    else:\n",
    "        display(Image.open(img_path))\n"
   ]
  },
  {
   "cell_type": "markdown",
   "metadata": {},
   "source": [
    "### Make sure we have the OpenAI Models information\n",
    "\n",
    "We will need the GPT-4-Turbo and GPT-4-Vision models for this notebook.\n",
    "\n",
    "When running the below cell, the values should reflect the OpenAI reource you have created in the `.env` file."
   ]
  },
  {
   "cell_type": "code",
   "execution_count": 2,
   "metadata": {},
   "outputs": [],
   "source": [
    "model_info = {\n",
    "        'AZURE_OPENAI_RESOURCE': os.environ.get('AZURE_OPENAI_RESOURCE'),\n",
    "        'AZURE_OPENAI_KEY': os.environ.get('AZURE_OPENAI_KEY'),\n",
    "        'AZURE_OPENAI_MODEL_VISION': os.environ.get('AZURE_OPENAI_MODEL_VISION'),\n",
    "        'AZURE_OPENAI_MODEL': os.environ.get('AZURE_OPENAI_MODEL'),\n",
    "}"
   ]
  },
  {
   "cell_type": "markdown",
   "metadata": {},
   "source": [
    "### Experimenting with Document Intelligence"
   ]
  },
  {
   "cell_type": "markdown",
   "metadata": {},
   "source": [
    "First make sure to install the right version of Document Intelligence"
   ]
  },
  {
   "cell_type": "code",
   "execution_count": 24,
   "metadata": {},
   "outputs": [
    {
     "name": "stdout",
     "output_type": "stream",
     "text": [
      "Note: you may need to restart the kernel to use updated packages.\n"
     ]
    }
   ],
   "source": [
    "## This version corresponds to API Version 2024-02-29-preview\n",
    "## Visit: https://learn.microsoft.com/en-us/python/api/overview/azure/ai-documentintelligence-readme?view=azure-python-preview\n",
    "\n",
    "%pip install azure-ai-documentintelligence>=1.0.0b2"
   ]
  },
  {
   "cell_type": "markdown",
   "metadata": {},
   "source": [
    "Defining a helper function"
   ]
  },
  {
   "cell_type": "code",
   "execution_count": 3,
   "metadata": {},
   "outputs": [],
   "source": [
    "from azure.core.credentials import AzureKeyCredential\n",
    "from azure.ai.documentintelligence import DocumentIntelligenceClient\n",
    "from azure.ai.documentintelligence.models import AnalyzeResult\n",
    "from azure.ai.documentintelligence.models import AnalyzeDocumentRequest, ContentFormat\n",
    "\n",
    "DI_ENDPOINT = os.environ[\"DI_ENDPOINT\"]\n",
    "DI_KEY = os.environ[\"DI_KEY\"]\n",
    "\n",
    "def analyze_document(path):\n",
    "    document_intelligence_client = DocumentIntelligenceClient(endpoint=DI_ENDPOINT, credential=AzureKeyCredential(DI_KEY))\n",
    "\n",
    "    with open(path, \"rb\") as f:\n",
    "        poller = document_intelligence_client.begin_analyze_document(\n",
    "            \"prebuilt-layout\", analyze_request=f, output_content_format=ContentFormat.MARKDOWN, content_type=\"application/octet-stream\"\n",
    "        )\n",
    "    result: AnalyzeResult = poller.result()\n",
    "    \n",
    "    return result\n",
    "\n"
   ]
  },
  {
   "cell_type": "code",
   "execution_count": 4,
   "metadata": {},
   "outputs": [
    {
     "name": "stdout",
     "output_type": "stream",
     "text": [
      "PDF File 1_London_Brochure.pdf has 2 pages.\n",
      "Page 0 saved as sample_data/pdf_outputs/page_0.png\n",
      "Page 1 saved as sample_data/pdf_outputs/page_1.png\n"
     ]
    }
   ],
   "source": [
    "import fitz  # PyMuPDF\n",
    "\n",
    "# Create a directory to store the outputs\n",
    "work_dir = \"sample_data/pdf_outputs\"\n",
    "os.makedirs(work_dir, exist_ok=True)\n",
    "\n",
    "# Load a sample PDF document\n",
    "\n",
    "def read_pdf(pdf_doc):\n",
    "    doc = fitz.open(pdf_doc)\n",
    "    print(f\"PDF File {os.path.basename(pdf_doc)} has {len(doc)} pages.\")\n",
    "    return doc\n",
    "\n",
    "def nb_extract_pages_as_png_files(doc):\n",
    "    png_files = []\n",
    "    for page in doc:\n",
    "        page_num = page.number\n",
    "        img_path = f\"{work_dir}/page_{page_num}.png\"\n",
    "        page_pix = page.get_pixmap(dpi=300)\n",
    "        page_pix.save(img_path)\n",
    "        print(f\"Page {page_num} saved as {img_path}\")\n",
    "        png_files.append(img_path)\n",
    "    \n",
    "    return png_files\n",
    "\n",
    "\n",
    "pdf_doc = \"sample_data/1_London_Brochure.pdf\"\n",
    "doc = read_pdf(pdf_doc)\n",
    "png_files = nb_extract_pages_as_png_files(doc)  \n"
   ]
  },
  {
   "cell_type": "markdown",
   "metadata": {},
   "source": [
    "#### Reading in Sample Documents"
   ]
  },
  {
   "cell_type": "code",
   "execution_count": 5,
   "metadata": {},
   "outputs": [
    {
     "data": {
      "text/markdown": [
       "Margie’s Travel Presents…\n",
       "\n",
       "London\n",
       "===\n",
       "\n",
       "London is the capital and most populous city of England and the United Kingdom. Standing on the River Thames in the south east of the island of Great Britain, London has been a major settlement for two millennia. It was founded by the Romans, who named it Londinium.\n",
       "\n",
       "London's ancient core, the City of London, largely retains its 1.12-square- mile medieval boundaries.\n",
       "\n",
       "Since at least the 19th century, London has also referred to the metropolis around this core, historically split between Middlesex, Essex, Surrey, Kent, and Hertfordshire, which today largely makes up Greater London, governed by the Mayor of London and the London Assembly.\n",
       "\n",
       "\n",
       "## Mostly popular for:\n",
       "\n",
       "Leisure, Outdoors, Historical, Arts & Culture\n",
       "\n",
       "\n",
       "## Best time to visit:\n",
       "\n",
       "Jun-Aug\n",
       "\n",
       "Averag Precipitation: 1.9 in Average Temperature: 56-67°F\n",
       "\n",
       "London Hotels\n",
       "\n",
       "Margie’s Travel offers the following accommodation options in London:\n",
       "\n",
       "\n",
       "## The Buckingham Hotel\n",
       "\n",
       "Comfortable hotel close to major sights like Buckingham Palace, Regent’s Park, and Trafalgar Square.\n",
       "\n",
       "\n",
       "## The City Hotel\n",
       "\n",
       "Luxury rooms in the city, within walking distance of Tower Bridge and the Tower of London..\n",
       "\n",
       "\n",
       "## The Kensington Hotel\n",
       "\n",
       "Budget accommodation near Earl’s Court.\n",
       "\n",
       "To book your trip to London, visit www.margiestravel.com\n",
       "\n",
       "| Category | Information |\n",
       "| - | - |\n",
       "| Country | United Kingdom |\n",
       "| Capital Of | England |\n",
       "| Currency | Pound Sterling (GBP) |\n",
       "| Population (2021 census) | Approximately 8.8 million |\n",
       "| Famous For | Historical landmarks, museums, cultural diversity |\n"
      ],
      "text/plain": [
       "<IPython.core.display.Markdown object>"
      ]
     },
     "execution_count": 5,
     "metadata": {},
     "output_type": "execute_result"
    }
   ],
   "source": [
    "path = r\"sample_data/1_London_Brochure.docx\"\n",
    "london_docx_result = analyze_document(path)\n",
    "Markdown(london_docx_result['content'])"
   ]
  },
  {
   "cell_type": "code",
   "execution_count": 6,
   "metadata": {},
   "outputs": [
    {
     "data": {
      "text/markdown": [
       "<!-- PageHeader=\"Margie's Travel Presents ...\" -->\n",
       "\n",
       "London\n",
       "===\n",
       "\n",
       "London is the capital and most populous city of England and the United Kingdom. Standing on the River Thames in the south east of the island of Great Britain, London has been a major settlement for two millennia. It was founded by the Romans, who named it Londinium. London's ancient core, the City of London, largely retains its 1.12-square-\n",
       "<figure>\n",
       "\n",
       "![](figures/0)\n",
       "\n",
       "<!-- FigureContent=\"Tower Bridge\" -->\n",
       "\n",
       "</figure>\n",
       "\n",
       " mile medieval boundaries. Since at least the 19th century, London has also referred to the metropolis around this core, historically split between Middlesex, Essex, Surrey, Kent, and Hertfordshire, which today largely makes up Greater London, governed by the Mayor of London and the London Assembly.\n",
       "\n",
       "<figure>\n",
       "\n",
       "![](figures/1)\n",
       "\n",
       "<!-- FigureContent=\"Fountains in Trafalgar Square\" -->\n",
       "\n",
       "</figure>\n",
       "\n",
       "\n",
       "Mostly popular for: Leisure, Outdoors, Historical, Arts & Culture\n",
       "\n",
       "Best time to visit: Jun-Aug Averag Precipitation: 1.9 in Average Temperature: 56-67°F\n",
       "\n",
       "\n",
       "# London Hotels\n",
       "\n",
       "Margie's Travel offers the following accommodation options in London:\n",
       "\n",
       "The Buckingham Hotel Comfortable hotel close to major sights like Buckingham Palace, Regent's Park, and Trafalgar Square.\n",
       "\n",
       "The City Hotel Luxury rooms in the city, within walking distance of Tower Bridge and the Tower of London ..\n",
       "\n",
       "The Kensington Hotel Budget accommodation near Earl's Court.\n",
       "\n",
       "To book your trip to London, visit www.margiestravel.com\n",
       "\n",
       "| Category | Information |\n",
       "| - | - |\n",
       "| Country | United Kingdom |\n",
       "| Capital Of | England |\n",
       "| Currency | Pound Sterling (GBP) |\n",
       "| Population (2021 census) | Approximately 8.8 million |\n",
       "| Famous For | Historical landmarks, museums, cultural diversity |\n"
      ],
      "text/plain": [
       "<IPython.core.display.Markdown object>"
      ]
     },
     "execution_count": 6,
     "metadata": {},
     "output_type": "execute_result"
    }
   ],
   "source": [
    "path = r\"sample_data/1_London_Brochure.pdf\"\n",
    "london_pdf_result = analyze_document(path)\n",
    "Markdown(london_pdf_result['content'])"
   ]
  },
  {
   "cell_type": "markdown",
   "metadata": {},
   "source": [
    "### Figures\n",
    "\n",
    "For the same document, Figures are detected for the PDF version, and not for the Docx version"
   ]
  },
  {
   "cell_type": "code",
   "execution_count": 7,
   "metadata": {},
   "outputs": [
    {
     "data": {
      "text/plain": [
       "dict_keys(['apiVersion', 'modelId', 'stringIndexType', 'content', 'pages', 'tables', 'paragraphs', 'contentFormat', 'sections', 'figures'])"
      ]
     },
     "execution_count": 7,
     "metadata": {},
     "output_type": "execute_result"
    }
   ],
   "source": [
    "london_pdf_result.keys()"
   ]
  },
  {
   "cell_type": "code",
   "execution_count": 8,
   "metadata": {},
   "outputs": [
    {
     "data": {
      "text/plain": [
       "dict_keys(['apiVersion', 'modelId', 'stringIndexType', 'content', 'pages', 'tables', 'paragraphs', 'contentFormat', 'sections'])"
      ]
     },
     "execution_count": 8,
     "metadata": {},
     "output_type": "execute_result"
    }
   ],
   "source": [
    "london_docx_result.keys()"
   ]
  },
  {
   "cell_type": "code",
   "execution_count": 9,
   "metadata": {},
   "outputs": [
    {
     "data": {
      "text/plain": [
       "[{'boundingRegions': [{'pageNumber': 1, 'polygon': [2.7496, 2.5964, 7.1241, 2.597, 7.1249, 5.0656, 2.7505, 5.0645]}], 'spans': [{'offset': 406, 'length': 77}], 'elements': ['/paragraphs/2']},\n",
       " {'boundingRegions': [{'pageNumber': 1, 'polygon': [0.9681, 5.8269, 5.0532, 5.8263, 5.0538, 8.1167, 0.9687, 8.1169]}], 'spans': [{'offset': 784, 'length': 94}], 'elements': ['/paragraphs/3']}]"
      ]
     },
     "execution_count": 9,
     "metadata": {},
     "output_type": "execute_result"
    }
   ],
   "source": [
    "london_pdf_result['figures']"
   ]
  },
  {
   "cell_type": "code",
   "execution_count": 10,
   "metadata": {},
   "outputs": [
    {
     "name": "stdout",
     "output_type": "stream",
     "text": [
      "Cropped image will be saved under name: sample_data/pdf_outputs\\page_0_1a66dee8-61a3-4e30-48dd-929b673b632b.png\n",
      "DPI (299.9994, 299.9994)\n",
      "bbox_in_pixels [824, 778, 2137, 1519]\n"
     ]
    },
    {
     "data": {
      "text/html": [
       "<img src=\"sample_data/pdf_outputs\\page_0_1a66dee8-61a3-4e30-48dd-929b673b632b.png\" width=400>"
      ],
      "text/plain": [
       "<IPython.core.display.HTML object>"
      ]
     },
     "metadata": {},
     "output_type": "display_data"
    },
    {
     "name": "stdout",
     "output_type": "stream",
     "text": [
      "Cropped image will be saved under name: sample_data/pdf_outputs\\page_0_5e83e46a-210b-d944-e977-c920acff5d84.png\n",
      "DPI (299.9994, 299.9994)\n",
      "bbox_in_pixels [290, 1747, 1516, 2435]\n"
     ]
    },
    {
     "data": {
      "text/html": [
       "<img src=\"sample_data/pdf_outputs\\page_0_5e83e46a-210b-d944-e977-c920acff5d84.png\" width=400>"
      ],
      "text/plain": [
       "<IPython.core.display.HTML object>"
      ]
     },
     "metadata": {},
     "output_type": "display_data"
    }
   ],
   "source": [
    "from PIL import Image\n",
    "\n",
    "def get_dpi(image):\n",
    "    try:\n",
    "        dpi = image.info['dpi']\n",
    "        print(\"DPI\", dpi)\n",
    "    except KeyError:\n",
    "        dpi = (300, 300)\n",
    "    return dpi\n",
    "\n",
    "def polygon_to_bbox(polygon):\n",
    "    xs = polygon[::2]  # Extract all x coordinates\n",
    "    ys = polygon[1::2]  # Extract all y coordinates\n",
    "    left = min(xs)\n",
    "    top = min(ys)\n",
    "    right = max(xs)\n",
    "    bottom = max(ys)\n",
    "    return (left, top, right, bottom)\n",
    "\n",
    "\n",
    "def inches_to_pixels(inches, dpi):\n",
    "    dpi_x, dpi_y = dpi\n",
    "    return [int(inches[i] * dpi_x if i % 2 == 0 else inches[i] * dpi_y) for i in range(len(inches))]\n",
    "\n",
    "polygon = [2.7496, 2.5964, 7.1241, 2.597, 7.1249, 5.0656, 2.7505, 5.0645]\n",
    "\n",
    "\n",
    "def extract_figure(image_path, polygon):\n",
    "    bbox_in_inches = polygon_to_bbox(polygon)\n",
    "\n",
    "    # Load the image\n",
    "    image = Image.open(image_path)\n",
    "\n",
    "    filename = os.path.splitext(os.path.basename(image_path))[0].strip()\n",
    "    extension = os.path.splitext(os.path.basename(image_path))[1].strip()\n",
    "    crop_name = os.path.join(os.path.dirname(image_path), f\"{filename}_{generate_uuid_from_string(str(polygon))}{extension}\")\n",
    "    print(f\"Cropped image will be saved under name: {crop_name}\")\n",
    "\n",
    "    # Get DPI from the image\n",
    "    dpi = get_dpi(image)\n",
    "\n",
    "    # Convert the bounding box to pixels using the image's DPI\n",
    "    bbox_in_pixels = inches_to_pixels(bbox_in_inches, dpi)\n",
    "    print(\"bbox_in_pixels\", bbox_in_pixels)\n",
    "\n",
    "    # Crop the image\n",
    "    cropped_image = image.crop(bbox_in_pixels)\n",
    "    cropped_image.save(crop_name)  \n",
    "    show_img(crop_name, 400)\n",
    "\n",
    "for bounding in london_pdf_result['figures']:\n",
    "    polygon = bounding['boundingRegions'][0]['polygon']\n",
    "    extract_figure(png_files[0], polygon)"
   ]
  },
  {
   "cell_type": "markdown",
   "metadata": {},
   "source": [
    "### Document Intelligence with MS Word documents (docx)\n",
    "\n",
    "Another sample document .."
   ]
  },
  {
   "cell_type": "code",
   "execution_count": 11,
   "metadata": {},
   "outputs": [
    {
     "data": {
      "text/markdown": [
       "AI Facts\n",
       "===\n",
       "\n",
       "\n",
       "# Fun Facts\n",
       "\n",
       "Artificial Intelligence (AI) has evolved dramatically from its inception, leading to fascinating developments and applications that stretch the boundaries of what we once thought possible. One of the most engaging aspects of AI is its application in creative fields. For instance, AI has been used to compose music, generate unique pieces of art, and even write poetry, demonstrating its ability to learn and mimic human creativity. These applications have not only provided new tools for artists and creators but have also sparked debates about the nature of creativity and whether it is a uniquely human trait.\n",
       "\n",
       "Another fun fact about AI is its ability to play and excel in complex games, a domain once believed to be the exclusive realm of human intelligence. AI systems like DeepMind's AlphaGo have defeated world champions in games like Go, which is known for its intricate strategy and depth. These achievements are not just about winning games; they represent significant advancements in AI's problem-solving and strategic planning capabilities. The algorithms developed for these purposes have broader applications, such as solving complex logistical problems and improving decision-making processes in business and science.\n",
       "\n",
       "\n",
       "# AI Facts\n",
       "\n",
       "| Fact Category | Detail |\n",
       "| - | - |\n",
       "| Definition | AI, or Artificial Intelligence, refers to the simulation of human intelligence in machines that are programmed to think and learn like humans. |\n",
       "| First AI Concept | The concept of artificial intelligence was first theorized by Alan Turing, a British mathematician, in 1950 through the Turing Test. |\n",
       "| First AI Program | The first AI program was developed by Allen Newell and Herbert A. Simon in 1955, which was called the Logic Theorist. |\n",
       "| Machine Learning | Machine learning is a subset of AI that involves the development of algorithms allowing computers to learn from and make decisions based on data. |\n",
       "| Deep Learning | Deep learning is a subset of machine learning involving neural networks with many layers, enabling advanced pattern recognition. |\n",
       "| AI in Healthcare | AI applications in healthcare include diagnostics, personalized medicine, and robot-assisted surgery. |\n",
       "| AI in Autonomous Vehicles | AI enables autonomous vehicles to perceive their environment and make decisions, reducing the need for human intervention. |\n",
       "| Natural Language Processing (NLP) | NLP is a field of AI focused on the interaction between computers and humans through natural language. |\n",
       "| Ethics in AI | Ethical concerns in AI include privacy, bias, accountability, and the potential for job displacement. |\n",
       "| AI in Finance | AI is used in finance for algorithmic trading, fraud detection, and customer service through chatbots. |\n",
       "| Robotics | Robotics is a field related to AI, focusing on the design and manufacturing of robots that can perform tasks autonomously. |\n",
       "| AI in Gaming | AI enhances gaming experiences by enabling more complex and realistic NPC behaviors and game environments. |\n",
       "| AI in Education | AI can personalize learning experiences through adaptive learning systems and automate administrative tasks. |\n",
       "| AI in Entertainment | AI is used in entertainment for content recommendation algorithms, music composition, and visual effects. |\n",
       "| Quantum Computing and AI | Quantum computing has the potential to significantly increase the processing power available for AI tasks, leading to breakthroughs in complex problem-solving. |\n",
       "| Bias in AI | AI systems can exhibit bias if they are trained on biased data sets, leading to unfair outcomes. |\n",
       "| AI and Job Creation | While AI can automate tasks, it also creates new job opportunities in AI development, supervision, and maintenance. |\n",
       "| AI in Agriculture | AI applications in agriculture include crop monitoring, predictive analysis for yield optimization, and automated machinery. |\n",
       "| AI and Climate Change | AI can analyze large datasets to model climate change impacts and optimize energy consumption patterns. |\n",
       "| AI Art and Creativity | AI is used to generate art, music, and literature, challenging traditional notions of creativity. |\n",
       "\n",
       "\n",
       "# Some More Fun Facts\n",
       "\n",
       "AI has also made unexpected discoveries and contributions to various scientific fields. For instance, AI algorithms have identified new patterns in data that were previously overlooked by human researchers, leading to new scientific discoveries. In the realm of astronomy, AI has helped identify new exoplanets and galaxies by analyzing vast amounts of data from telescopes and space missions. Similarly, in biology, AI has accelerated the discovery of new molecules and drugs by predicting their structures and interactions more efficiently than traditional methods.\n",
       "\n",
       "The relationship between AI and animals presents another intriguing aspect. Researchers have used AI to understand animal behavior and communication better. For example, AI has been employed to decode the complex language of dolphins and to track and predict the migration patterns of birds and other wildlife. These studies not only deepen our understanding of the natural world but also demonstrate AI's potential to bridge the communication gap between humans and other species. As AI continues to evolve, its applications expand into new and unexpected territories, promising to revolutionize our understanding of the world around us and beyond.\n"
      ],
      "text/plain": [
       "<IPython.core.display.Markdown object>"
      ]
     },
     "execution_count": 11,
     "metadata": {},
     "output_type": "execute_result"
    }
   ],
   "source": [
    "path = r\"sample_data/2_ai_facts.docx\"\n",
    "docx_result = analyze_document(path)\n",
    "Markdown(docx_result['content'])"
   ]
  },
  {
   "cell_type": "code",
   "execution_count": 12,
   "metadata": {},
   "outputs": [
    {
     "name": "stdout",
     "output_type": "stream",
     "text": [
      "AI Facts\n",
      "===\n",
      "\n",
      "\n",
      "# Fun Facts\n",
      "\n",
      "Artificial Intelligence (AI) has evolved dramatically from its inception, leading to fascinating developments and applications that stretch the boundaries of what we once thought possible. One of the most engaging aspects of AI is its application in creative fields. For instance, AI has been used to compose music, generate unique pieces of art, and even write poetry, demonstrating its ability to learn and mimic human creativity. These applications have not only provided new tools for artists and creators but have also sparked debates about the nature of creativity and whether it is a uniquely human trait.\n",
      "\n",
      "Another fun fact about AI is its ability to play and excel in complex games, a domain once believed to be the exclusive realm of human intelligence. AI systems like DeepMind's AlphaGo have defeated world champions in games like Go, which is known for its intricate strategy and depth. These achievements are not just about winning games; they represent significant advancements in AI's problem-solving and strategic planning capabilities. The algorithms developed for these purposes have broader applications, such as solving complex logistical problems and improving decision-making processes in business and science.\n",
      "\n",
      "\n",
      "# AI Facts\n",
      "\n",
      "| Fact Category | Detail |\n",
      "| - | - |\n",
      "| Definition | AI, or Artificial Intelligence, refers to the simulation of human intelligence in machines that are programmed to think and learn like humans. |\n",
      "| First AI Concept | The concept of artificial intelligence was first theorized by Alan Turing, a British mathematician, in 1950 through the Turing Test. |\n",
      "| First AI Program | The first AI program was developed by Allen Newell and Herbert A. Simon in 1955, which was called the Logic Theorist. |\n",
      "| Machine Learning | Machine learning is a subset of AI that involves the development of algorithms allowing computers to learn from and make decisions based on data. |\n",
      "| Deep Learning | Deep learning is a subset of machine learning involving neural networks with many layers, enabling advanced pattern recognition. |\n",
      "| AI in Healthcare | AI applications in healthcare include diagnostics, personalized medicine, and robot-assisted surgery. |\n",
      "| AI in Autonomous Vehicles | AI enables autonomous vehicles to perceive their environment and make decisions, reducing the need for human intervention. |\n",
      "| Natural Language Processing (NLP) | NLP is a field of AI focused on the interaction between computers and humans through natural language. |\n",
      "| Ethics in AI | Ethical concerns in AI include privacy, bias, accountability, and the potential for job displacement. |\n",
      "| AI in Finance | AI is used in finance for algorithmic trading, fraud detection, and customer service through chatbots. |\n",
      "| Robotics | Robotics is a field related to AI, focusing on the design and manufacturing of robots that can perform tasks autonomously. |\n",
      "| AI in Gaming | AI enhances gaming experiences by enabling more complex and realistic NPC behaviors and game environments. |\n",
      "| AI in Education | AI can personalize learning experiences through adaptive learning systems and automate administrative tasks. |\n",
      "| AI in Entertainment | AI is used in entertainment for content recommendation algorithms, music composition, and visual effects. |\n",
      "| Quantum Computing and AI | Quantum computing has the potential to significantly increase the processing power available for AI tasks, leading to breakthroughs in complex problem-solving. |\n",
      "| Bias in AI | AI systems can exhibit bias if they are trained on biased data sets, leading to unfair outcomes. |\n",
      "| AI and Job Creation | While AI can automate tasks, it also creates new job opportunities in AI development, supervision, and maintenance. |\n",
      "| AI in Agriculture | AI applications in agriculture include crop monitoring, predictive analysis for yield optimization, and automated machinery. |\n",
      "| AI and Climate Change | AI can analyze large datasets to model climate change impacts and optimize energy consumption patterns. |\n",
      "| AI Art and Creativity | AI is used to generate art, music, and literature, challenging traditional notions of creativity. |\n",
      "\n",
      "\n",
      "# Some More Fun Facts\n",
      "\n",
      "AI has also made unexpected discoveries and contributions to various scientific fields. For instance, AI algorithms have identified new patterns in data that were previously overlooked by human researchers, leading to new scientific discoveries. In the realm of astronomy, AI has helped identify new exoplanets and galaxies by analyzing vast amounts of data from telescopes and space missions. Similarly, in biology, AI has accelerated the discovery of new molecules and drugs by predicting their structures and interactions more efficiently than traditional methods.\n",
      "\n",
      "The relationship between AI and animals presents another intriguing aspect. Researchers have used AI to understand animal behavior and communication better. For example, AI has been employed to decode the complex language of dolphins and to track and predict the migration patterns of birds and other wildlife. These studies not only deepen our understanding of the natural world but also demonstrate AI's potential to bridge the communication gap between humans and other species. As AI continues to evolve, its applications expand into new and unexpected territories, promising to revolutionize our understanding of the world around us and beyond.\n",
      "\n"
     ]
    }
   ],
   "source": [
    "print(docx_result['content'])"
   ]
  },
  {
   "cell_type": "markdown",
   "metadata": {},
   "source": [
    "### Document Intelligence with PDF Documents\n",
    "\n",
    "Notice the broken table over 3 pages, which gives 3 tables"
   ]
  },
  {
   "cell_type": "code",
   "execution_count": 13,
   "metadata": {},
   "outputs": [
    {
     "data": {
      "text/markdown": [
       "AI Facts\n",
       "===\n",
       "\n",
       "\n",
       "# Fun Facts\n",
       "\n",
       "Artificial Intelligence (AI) has evolved dramatically from its inception, leading to fascinating developments and applications that stretch the boundaries of what we once thought possible. One of the most engaging aspects of AI is its application in creative fields. For instance, AI has been used to compose music, generate unique pieces of art, and even write poetry, demonstrating its ability to learn and mimic human creativity. These applications have not only provided new tools for artists and creators but have also sparked debates about the nature of creativity and whether it is a uniquely human trait.\n",
       "\n",
       "Another fun fact about AI is its ability to play and excel in complex games, a domain once believed to be the exclusive realm of human intelligence. AI systems like DeepMind's AlphaGo have defeated world champions in games like Go, which is known for its intricate strategy and depth. These achievements are not just about winning games; they represent significant advancements in AI's problem-solving and strategic planning capabilities. The algorithms developed for these purposes have broader applications, such as solving complex logistical problems and improving decision- making processes in business and science.\n",
       "\n",
       "\n",
       "# AI Facts\n",
       "\n",
       "|||\n",
       "| - | - |\n",
       "| Fact Category | Detail |\n",
       "| Definition | AI, or Artificial Intelligence, refers to the simulation of human intelligence in machines that are programmed to think and learn like humans. |\n",
       "| First AI Concept | The concept of artificial intelligence was first theorized by Alan Turing, a British mathematician, in 1950 through the Turing Test. |\n",
       "| First AI Program | The first AI program was developed by Allen Newell and Herbert A. Simon in 1955, which was called the Logic Theorist. |\n",
       "| Machine Learning | Machine learning is a subset of AI that involves the development of algorithms allowing computers to learn from and make decisions based on data. |\n",
       "\n",
       "|||\n",
       "| - | - |\n",
       "| Deep Learning | Deep learning is a subset of machine learning involving neural networks with many layers, enabling advanced pattern recognition. |\n",
       "| AI in Healthcare | AI applications in healthcare include diagnostics, personalized medicine, and robot-assisted surgery. |\n",
       "| AI in Autonomous Vehicles | AI enables autonomous vehicles to perceive their environment and make decisions, reducing the need for human intervention. |\n",
       "| Natural Language Processing (NLP) | NLP is a field of AI focused on the interaction between computers and humans through natural language. |\n",
       "| Ethics in AI | Ethical concerns in AI include privacy, bias, accountability, and the potential for job displacement. |\n",
       "| AI in Finance | AI is used in finance for algorithmic trading, fraud detection, and customer service through chatbots. |\n",
       "| Robotics | Robotics is a field related to AI, focusing on the design and manufacturing of robots that can perform tasks autonomously. |\n",
       "| AI in Gaming | AI enhances gaming experiences by enabling more complex and realistic NPC behaviors and game environments. |\n",
       "| AI in Education | AI can personalize learning experiences through adaptive learning systems and automate administrative tasks. |\n",
       "| AI in Entertainment | AI is used in entertainment for content recommendation algorithms, music composition, and visual effects. |\n",
       "| Quantum Computing and AI | Quantum computing has the potential to significantly increase the processing power available for AI tasks, leading to breakthroughs in complex problem-solving. |\n",
       "| Bias in AI | AI systems can exhibit bias if they are trained on biased data sets, leading to unfair outcomes. |\n",
       "\n",
       "|||\n",
       "| - | - |\n",
       "| AI and Job Creation | While AI can automate tasks, it also creates new job opportunities in AI development, supervision, and maintenance. |\n",
       "| AI in Agriculture | AI applications in agriculture include crop monitoring, predictive analysis for yield optimization, and automated machinery. |\n",
       "| AI and Climate Change | AI can analyze large datasets to model climate change impacts and optimize energy consumption patterns. |\n",
       "| AI Art and Creativity | AI is used to generate art, music, and literature, challenging traditional notions of creativity. |\n",
       "\n",
       "\n",
       "# Some More Fun Facts\n",
       "\n",
       "AI has also made unexpected discoveries and contributions to various scientific fields. For instance, AI algorithms have identified new patterns in data that were previously overlooked by human researchers, leading to new scientific discoveries. In the realm of astronomy, AI has helped identify new exoplanets and galaxies by analyzing vast amounts of data from telescopes and space missions. Similarly, in biology, AI has accelerated the discovery of new molecules and drugs by predicting their structures and interactions more efficiently than traditional methods.\n",
       "\n",
       "The relationship between AI and animals presents another intriguing aspect. Researchers have used AI to understand animal behavior and communication better. For example, AI has been employed to decode the complex language of dolphins and to track and predict the migration patterns of birds and other wildlife. These studies not only deepen our understanding of the natural world but also demonstrate AI's potential to bridge the communication gap between humans and other species. As AI continues to evolve, its applications expand into new and unexpected territories, promising to revolutionize our understanding of the world around us and beyond.\n"
      ],
      "text/plain": [
       "<IPython.core.display.Markdown object>"
      ]
     },
     "execution_count": 13,
     "metadata": {},
     "output_type": "execute_result"
    }
   ],
   "source": [
    "path = r\"sample_data/2_ai_facts.pdf\"\n",
    "pdf_result = analyze_document(path)\n",
    "Markdown(pdf_result['content'])"
   ]
  },
  {
   "cell_type": "markdown",
   "metadata": {},
   "source": [
    "It seems that for the PDF, Document Intelligence did not correctly identify this as a single table, but rather as three separate tables."
   ]
  },
  {
   "cell_type": "code",
   "execution_count": 14,
   "metadata": {},
   "outputs": [
    {
     "name": "stdout",
     "output_type": "stream",
     "text": [
      "AI Facts\n",
      "===\n",
      "\n",
      "\n",
      "# Fun Facts\n",
      "\n",
      "Artificial Intelligence (AI) has evolved dramatically from its inception, leading to fascinating developments and applications that stretch the boundaries of what we once thought possible. One of the most engaging aspects of AI is its application in creative fields. For instance, AI has been used to compose music, generate unique pieces of art, and even write poetry, demonstrating its ability to learn and mimic human creativity. These applications have not only provided new tools for artists and creators but have also sparked debates about the nature of creativity and whether it is a uniquely human trait.\n",
      "\n",
      "Another fun fact about AI is its ability to play and excel in complex games, a domain once believed to be the exclusive realm of human intelligence. AI systems like DeepMind's AlphaGo have defeated world champions in games like Go, which is known for its intricate strategy and depth. These achievements are not just about winning games; they represent significant advancements in AI's problem-solving and strategic planning capabilities. The algorithms developed for these purposes have broader applications, such as solving complex logistical problems and improving decision- making processes in business and science.\n",
      "\n",
      "\n",
      "# AI Facts\n",
      "\n",
      "|||\n",
      "| - | - |\n",
      "| Fact Category | Detail |\n",
      "| Definition | AI, or Artificial Intelligence, refers to the simulation of human intelligence in machines that are programmed to think and learn like humans. |\n",
      "| First AI Concept | The concept of artificial intelligence was first theorized by Alan Turing, a British mathematician, in 1950 through the Turing Test. |\n",
      "| First AI Program | The first AI program was developed by Allen Newell and Herbert A. Simon in 1955, which was called the Logic Theorist. |\n",
      "| Machine Learning | Machine learning is a subset of AI that involves the development of algorithms allowing computers to learn from and make decisions based on data. |\n",
      "\n",
      "|||\n",
      "| - | - |\n",
      "| Deep Learning | Deep learning is a subset of machine learning involving neural networks with many layers, enabling advanced pattern recognition. |\n",
      "| AI in Healthcare | AI applications in healthcare include diagnostics, personalized medicine, and robot-assisted surgery. |\n",
      "| AI in Autonomous Vehicles | AI enables autonomous vehicles to perceive their environment and make decisions, reducing the need for human intervention. |\n",
      "| Natural Language Processing (NLP) | NLP is a field of AI focused on the interaction between computers and humans through natural language. |\n",
      "| Ethics in AI | Ethical concerns in AI include privacy, bias, accountability, and the potential for job displacement. |\n",
      "| AI in Finance | AI is used in finance for algorithmic trading, fraud detection, and customer service through chatbots. |\n",
      "| Robotics | Robotics is a field related to AI, focusing on the design and manufacturing of robots that can perform tasks autonomously. |\n",
      "| AI in Gaming | AI enhances gaming experiences by enabling more complex and realistic NPC behaviors and game environments. |\n",
      "| AI in Education | AI can personalize learning experiences through adaptive learning systems and automate administrative tasks. |\n",
      "| AI in Entertainment | AI is used in entertainment for content recommendation algorithms, music composition, and visual effects. |\n",
      "| Quantum Computing and AI | Quantum computing has the potential to significantly increase the processing power available for AI tasks, leading to breakthroughs in complex problem-solving. |\n",
      "| Bias in AI | AI systems can exhibit bias if they are trained on biased data sets, leading to unfair outcomes. |\n",
      "\n",
      "|||\n",
      "| - | - |\n",
      "| AI and Job Creation | While AI can automate tasks, it also creates new job opportunities in AI development, supervision, and maintenance. |\n",
      "| AI in Agriculture | AI applications in agriculture include crop monitoring, predictive analysis for yield optimization, and automated machinery. |\n",
      "| AI and Climate Change | AI can analyze large datasets to model climate change impacts and optimize energy consumption patterns. |\n",
      "| AI Art and Creativity | AI is used to generate art, music, and literature, challenging traditional notions of creativity. |\n",
      "\n",
      "\n",
      "# Some More Fun Facts\n",
      "\n",
      "AI has also made unexpected discoveries and contributions to various scientific fields. For instance, AI algorithms have identified new patterns in data that were previously overlooked by human researchers, leading to new scientific discoveries. In the realm of astronomy, AI has helped identify new exoplanets and galaxies by analyzing vast amounts of data from telescopes and space missions. Similarly, in biology, AI has accelerated the discovery of new molecules and drugs by predicting their structures and interactions more efficiently than traditional methods.\n",
      "\n",
      "The relationship between AI and animals presents another intriguing aspect. Researchers have used AI to understand animal behavior and communication better. For example, AI has been employed to decode the complex language of dolphins and to track and predict the migration patterns of birds and other wildlife. These studies not only deepen our understanding of the natural world but also demonstrate AI's potential to bridge the communication gap between humans and other species. As AI continues to evolve, its applications expand into new and unexpected territories, promising to revolutionize our understanding of the world around us and beyond.\n",
      "\n"
     ]
    }
   ],
   "source": [
    "print(pdf_result['content'])"
   ]
  },
  {
   "cell_type": "markdown",
   "metadata": {},
   "source": [
    "### Table Merging\n",
    "\n",
    "Let's try to merge the tables using OpenAI GPT-4"
   ]
  },
  {
   "cell_type": "code",
   "execution_count": 15,
   "metadata": {},
   "outputs": [
    {
     "name": "stdout",
     "output_type": "stream",
     "text": [
      "yes\n"
     ]
    }
   ],
   "source": [
    "#### Let's try something \"hacky\"\n",
    "\n",
    "if len(pdf_result['content'].split('|\\n')) > 0: ## This is a hacky way to check if there is a Markdown table in the text\n",
    "    print('yes')\n"
   ]
  },
  {
   "cell_type": "markdown",
   "metadata": {},
   "source": [
    "#### First Step\n",
    "\n",
    "First try to establish the table boundaries"
   ]
  },
  {
   "cell_type": "code",
   "execution_count": 16,
   "metadata": {},
   "outputs": [
    {
     "name": "stdout",
     "output_type": "stream",
     "text": [
      "{\n",
      "    \"total_number_of_markdown_tables_located:\": 3,\n",
      "    \"table_first_and_last_rows_array\": [\n",
      "        {\n",
      "            \"first_row\": \"| Fact Category | Detail |\",\n",
      "            \"last_row\": \"| Machine Learning | Machine learning is a subset of AI that involves the development of algorithms allowing computers to learn from and make decisions based on data. |\"\n",
      "        },\n",
      "        {\n",
      "            \"first_row\": \"| Deep Learning | Deep learning is a subset of machine learning involving neural networks with many layers, enabling advanced pattern recognition. |\",\n",
      "            \"last_row\": \"| Bias in AI | AI systems can exhibit bias if they are trained on biased data sets, leading to unfair outcomes. |\"\n",
      "        },\n",
      "        {\n",
      "            \"first_row\": \"| AI and Job Creation | While AI can automate tasks, it also creates new job opportunities in AI development, supervision, and maintenance. |\",\n",
      "            \"last_row\": \"| AI Art and Creativity | AI is used to generate art, music, and literature, challenging traditional notions of creativity. |\"\n",
      "        }\n",
      "    ]\n",
      "}\n"
     ]
    }
   ],
   "source": [
    "## Experiment with prompting, to see if broken tables can be \"merged\" based on LLM's output\n",
    "## This is work in progress .. NOT YET COMPLETE\n",
    "\n",
    "\n",
    "prompt = \"\"\"\n",
    "You are a Markdown expert whose objective is to check whether Markdown tables have been split into two or more tables because of page breaks or because of the OCR extraction process. You are designed to output JSON.\n",
    "\n",
    "You are given the following Markdown text:\n",
    "## START OF MARKDOWN TEXT\n",
    "{text}\n",
    "## END OF MARKDOWN TEXT\n",
    "\n",
    "In the markdown text above, detect whether there are Markdown tables. If there are, you **MUST** then output the first row and the last row of each table. We define a Markdown table by having consecutive rows with no space between, with the each row separated from the next by '|\\n'. Do not separate Markdown table semantically. \n",
    "\n",
    "\n",
    "JSON OUTPUT FORMAT:\n",
    "You **MUST** output a JSON object with the following key-value pairs and following format:\n",
    "\n",
    "{{\n",
    "    \"total_number_of_markdown_tables_located:\": \"the total number of Markdown tables located\",,\n",
    "    \"table_first_and_last_rows_array\":\n",
    "    [\n",
    "        {{\n",
    "            \"first_row\": \"The first row in Markdown table format. Make sure that the last row of the first table is outputted verbatim word-for-word, including any leading or trailing spaces, and any leading or trailing pipes.\",\n",
    "            \"last_row\": \"The last row of the table in Markdown table format. Make sure that the first row of the second table is outputted verbatim word-for-word, including any leading or trailing spaces, and any leading or trailing pipes.\",\n",
    "        }}\n",
    "    ]\n",
    "}}\n",
    "\"\"\"\n",
    "\n",
    "p = prompt.format(text = pdf_result['content'])\n",
    "table_edges = ask_LLM_with_JSON(p, model_info=model_info)\n",
    "print(table_edges)\n",
    "\n"
   ]
  },
  {
   "cell_type": "markdown",
   "metadata": {},
   "source": [
    "#### Second Step\n",
    "\n",
    "Second, try to use the tables boundaries to determine whether the tables are split because of the pages, or OCR extraction, and if they are, try to merge"
   ]
  },
  {
   "cell_type": "code",
   "execution_count": 17,
   "metadata": {},
   "outputs": [
    {
     "name": "stdout",
     "output_type": "stream",
     "text": [
      "{\n",
      "    \"total_number_of_markdown_tables_located:\": 3,\n",
      "    \"num_of_tables_to_be_merged\": 2,\n",
      "    \"tables_to_be_merged\": [\n",
      "        {\n",
      "            \"first_table_last_row\": \"| Machine Learning | Machine learning is a subset of AI that involves the development of algorithms allowing computers to learn from and make decisions based on data. |\",\n",
      "            \"second_table_first_row\": \"| Deep Learning | Deep learning is a subset of machine learning involving neural networks with many layers, enabling advanced pattern recognition. |\",\n",
      "            \"dividing_string\": \"\"\n",
      "        },\n",
      "        {\n",
      "            \"first_table_last_row\": \"| Bias in AI | AI systems can exhibit bias if they are trained on biased data sets, leading to unfair outcomes. |\",\n",
      "            \"second_table_first_row\": \"| AI and Job Creation | While AI can automate tasks, it also creates new job opportunities in AI development, supervision, and maintenance. |\",\n",
      "            \"dividing_string\": \"\"\n",
      "        }\n",
      "    ]\n",
      "}\n"
     ]
    }
   ],
   "source": [
    "\n",
    "prompt = \"\"\"\n",
    "You are a Markdown expert whose objective is to check whether Markdown tables have been split into two or more tables because of page breaks or because of the OCR extraction process. You are designed to output JSON.\n",
    "\n",
    "You are given the following Markdown text:\n",
    "## START OF MARKDOWN TEXT\n",
    "{text}\n",
    "## END OF MARKDOWN TEXT\n",
    "\n",
    "The below are the edges that define the start and end of each Markdown table. Use the first and last row mentioned in the \"table_first_and_last_rows_array\" as the definition of a Markdown table:\n",
    "## START OF TABLE EDGES\n",
    "{table_edges}\n",
    "## END OF TABLE EDGES\n",
    "\n",
    "In the markdown text above, detect whether there are Markdown tables. If there are, you **MUST** follow the Chain of Thought below:\n",
    "    1. Locate every Markdown table in the text using the provided Table Edges, and write down the number of those tables in your scratchpad.\n",
    "    2. Work on every two consecutive Markdown tables in a pairwise manner. For every pair of consecutive Markdown tables, you **MUST** check if they have any text between them. If the two tables are immediately consecutive, but there is text between them and this text is a footnote or a page number, you can safely ignore it, and mark the two tables as consecutive in your scratchpad. If, however, there is valid text between the two tables, then you **MUST** mark the two tables as not consecutive in your scratchpad.\n",
    "    3. Write down the number of checks you have to perform. You will have to perform checks for consecutive tables pair-wise.\n",
    "\n",
    " After completing the above steps, you **MUST** then do the following for every two immediately consecutive Markdown table:\n",
    "    A. If the separated Markdown tables are immediately consecutive, then check the headers and the data type of the columns of each table to estimate if the two tables originated from the same table but got split into two because of the page break, or because of the OCR extraction process.\n",
    "    B. If you find that these two Markdown tables likely belong to the same original table, then output **EXACTLY** the full last row of the first table, and the first full row of the first table in Markdown table format. Also output the exact string of characters that exist between the two tables in the JSON output.\n",
    "    C. Repeat the above steps for **ALL** immediately consecutive Markdown tables located in your scratchpad, to match the number of checks in your scratchpad.\n",
    "\n",
    "**SUPER IMPORTANT**: We define a Markdown table by having consecutive rows with no space between, with the each row separated from the next by '|\\n'. Do not separate Markdown table semantically. \n",
    "\n",
    "\n",
    "JSON OUTPUT FORMAT:\n",
    "Remember that you **MUST** process every two immediately consecutive or consecutive Markdown tables. You **MUST** output a JSON object with the following key-value pairs and following format:\n",
    "\n",
    "{{\n",
    "    \"total_number_of_markdown_tables_located:\": \"the total number of Markdown tables located\",\n",
    "    \"num_of_tables_to_be_merged\": \"the number of tables to be merged\",\n",
    "    \"tables_to_be_merged\":\n",
    "    [\n",
    "        {{\n",
    "            \"first_table_last_row\": \"The last row of the first table in Markdown table format. Make sure that the last row of the first table is outputted verbatim word-for-word, including any leading or trailing spaces, and any leading or trailing pipes.\",\n",
    "            \"second_table_first_row\": \"The first row of the second table in Markdown table format. Make sure that the first row of the second table is outputted verbatim word-for-word, including any leading or trailing spaces, and any leading or trailing pipes.\",\n",
    "            \"dividing_string\": \"The exact string of characters that exist between the two tables. Make sure that the string is outputted verbatim word-for-word, including any leading or trailing spaces, and any leading or trailing pipes.\",\n",
    "        }}\n",
    "    ]\n",
    "}}\n",
    "\n",
    "\"\"\"\n",
    "\n",
    "p = prompt.format(text = pdf_result['content'], table_edges=table_edges)\n",
    "output = ask_LLM_with_JSON(p, model_info=model_info)\n",
    "print(output)\n",
    "\n",
    "\n"
   ]
  },
  {
   "cell_type": "code",
   "execution_count": 18,
   "metadata": {},
   "outputs": [
    {
     "name": "stdout",
     "output_type": "stream",
     "text": [
      "Row in first table found:  True\n",
      "Row in last table found:  True\n",
      "Row in first table found:  True\n",
      "Row in last table found:  True\n"
     ]
    },
    {
     "data": {
      "text/markdown": [
       "AI Facts\n",
       "===\n",
       "\n",
       "\n",
       "# Fun Facts\n",
       "\n",
       "Artificial Intelligence (AI) has evolved dramatically from its inception, leading to fascinating developments and applications that stretch the boundaries of what we once thought possible. One of the most engaging aspects of AI is its application in creative fields. For instance, AI has been used to compose music, generate unique pieces of art, and even write poetry, demonstrating its ability to learn and mimic human creativity. These applications have not only provided new tools for artists and creators but have also sparked debates about the nature of creativity and whether it is a uniquely human trait.\n",
       "\n",
       "Another fun fact about AI is its ability to play and excel in complex games, a domain once believed to be the exclusive realm of human intelligence. AI systems like DeepMind's AlphaGo have defeated world champions in games like Go, which is known for its intricate strategy and depth. These achievements are not just about winning games; they represent significant advancements in AI's problem-solving and strategic planning capabilities. The algorithms developed for these purposes have broader applications, such as solving complex logistical problems and improving decision- making processes in business and science.\n",
       "\n",
       "\n",
       "# AI Facts\n",
       "\n",
       "|||\n",
       "| - | - |\n",
       "| Fact Category | Detail |\n",
       "| Definition | AI, or Artificial Intelligence, refers to the simulation of human intelligence in machines that are programmed to think and learn like humans. |\n",
       "| First AI Concept | The concept of artificial intelligence was first theorized by Alan Turing, a British mathematician, in 1950 through the Turing Test. |\n",
       "| First AI Program | The first AI program was developed by Allen Newell and Herbert A. Simon in 1955, which was called the Logic Theorist. |\n",
       "| Machine Learning | Machine learning is a subset of AI that involves the development of algorithms allowing computers to learn from and make decisions based on data. |\n",
       "| Deep Learning | Deep learning is a subset of machine learning involving neural networks with many layers, enabling advanced pattern recognition. |\n",
       "| AI in Healthcare | AI applications in healthcare include diagnostics, personalized medicine, and robot-assisted surgery. |\n",
       "| AI in Autonomous Vehicles | AI enables autonomous vehicles to perceive their environment and make decisions, reducing the need for human intervention. |\n",
       "| Natural Language Processing (NLP) | NLP is a field of AI focused on the interaction between computers and humans through natural language. |\n",
       "| Ethics in AI | Ethical concerns in AI include privacy, bias, accountability, and the potential for job displacement. |\n",
       "| AI in Finance | AI is used in finance for algorithmic trading, fraud detection, and customer service through chatbots. |\n",
       "| Robotics | Robotics is a field related to AI, focusing on the design and manufacturing of robots that can perform tasks autonomously. |\n",
       "| AI in Gaming | AI enhances gaming experiences by enabling more complex and realistic NPC behaviors and game environments. |\n",
       "| AI in Education | AI can personalize learning experiences through adaptive learning systems and automate administrative tasks. |\n",
       "| AI in Entertainment | AI is used in entertainment for content recommendation algorithms, music composition, and visual effects. |\n",
       "| Quantum Computing and AI | Quantum computing has the potential to significantly increase the processing power available for AI tasks, leading to breakthroughs in complex problem-solving. |\n",
       "| Bias in AI | AI systems can exhibit bias if they are trained on biased data sets, leading to unfair outcomes. |\n",
       "| AI and Job Creation | While AI can automate tasks, it also creates new job opportunities in AI development, supervision, and maintenance. |\n",
       "| AI in Agriculture | AI applications in agriculture include crop monitoring, predictive analysis for yield optimization, and automated machinery. |\n",
       "| AI and Climate Change | AI can analyze large datasets to model climate change impacts and optimize energy consumption patterns. |\n",
       "| AI Art and Creativity | AI is used to generate art, music, and literature, challenging traditional notions of creativity. |\n",
       "\n",
       "\n",
       "# Some More Fun Facts\n",
       "\n",
       "AI has also made unexpected discoveries and contributions to various scientific fields. For instance, AI algorithms have identified new patterns in data that were previously overlooked by human researchers, leading to new scientific discoveries. In the realm of astronomy, AI has helped identify new exoplanets and galaxies by analyzing vast amounts of data from telescopes and space missions. Similarly, in biology, AI has accelerated the discovery of new molecules and drugs by predicting their structures and interactions more efficiently than traditional methods.\n",
       "\n",
       "The relationship between AI and animals presents another intriguing aspect. Researchers have used AI to understand animal behavior and communication better. For example, AI has been employed to decode the complex language of dolphins and to track and predict the migration patterns of birds and other wildlife. These studies not only deepen our understanding of the natural world but also demonstrate AI's potential to bridge the communication gap between humans and other species. As AI continues to evolve, its applications expand into new and unexpected territories, promising to revolutionize our understanding of the world around us and beyond.\n"
      ],
      "text/plain": [
       "<IPython.core.display.Markdown object>"
      ]
     },
     "execution_count": 18,
     "metadata": {},
     "output_type": "execute_result"
    }
   ],
   "source": [
    "import json\n",
    "import copy\n",
    "\n",
    "\n",
    "## Let's try to merge the tables\n",
    "findings = json.loads(output)\n",
    "pdf_content = copy.deepcopy(pdf_result['content'])\n",
    "\n",
    "\n",
    "for table in findings['tables_to_be_merged']:\n",
    "    first = table['first_table_last_row']\n",
    "    second = table['second_table_first_row']\n",
    "\n",
    "    print(\"Row in first table found: \", first in pdf_result['content'])\n",
    "    print(\"Row in last table found: \", second in pdf_result['content'])\n",
    "\n",
    "    for table in findings['tables_to_be_merged']:\n",
    "        first_table_last_row = table['first_table_last_row']\n",
    "        second_table_first_row = table['second_table_first_row']\n",
    "\n",
    "        first_part = pdf_content.split(first_table_last_row)[0]\n",
    "        second_part = pdf_content.split(second_table_first_row)[1]\n",
    "\n",
    "        pdf_content = first_part + first_table_last_row + '\\n' + second_table_first_row + second_part\n",
    "\n",
    "\n",
    "Markdown(pdf_content)\n",
    "\n"
   ]
  },
  {
   "cell_type": "code",
   "execution_count": 19,
   "metadata": {},
   "outputs": [
    {
     "name": "stdout",
     "output_type": "stream",
     "text": [
      "AI Facts\n",
      "===\n",
      "\n",
      "\n",
      "# Fun Facts\n",
      "\n",
      "Artificial Intelligence (AI) has evolved dramatically from its inception, leading to fascinating developments and applications that stretch the boundaries of what we once thought possible. One of the most engaging aspects of AI is its application in creative fields. For instance, AI has been used to compose music, generate unique pieces of art, and even write poetry, demonstrating its ability to learn and mimic human creativity. These applications have not only provided new tools for artists and creators but have also sparked debates about the nature of creativity and whether it is a uniquely human trait.\n",
      "\n",
      "Another fun fact about AI is its ability to play and excel in complex games, a domain once believed to be the exclusive realm of human intelligence. AI systems like DeepMind's AlphaGo have defeated world champions in games like Go, which is known for its intricate strategy and depth. These achievements are not just about winning games; they represent significant advancements in AI's problem-solving and strategic planning capabilities. The algorithms developed for these purposes have broader applications, such as solving complex logistical problems and improving decision- making processes in business and science.\n",
      "\n",
      "\n",
      "# AI Facts\n",
      "\n",
      "|||\n",
      "| - | - |\n",
      "| Fact Category | Detail |\n",
      "| Definition | AI, or Artificial Intelligence, refers to the simulation of human intelligence in machines that are programmed to think and learn like humans. |\n",
      "| First AI Concept | The concept of artificial intelligence was first theorized by Alan Turing, a British mathematician, in 1950 through the Turing Test. |\n",
      "| First AI Program | The first AI program was developed by Allen Newell and Herbert A. Simon in 1955, which was called the Logic Theorist. |\n",
      "| Machine Learning | Machine learning is a subset of AI that involves the development of algorithms allowing computers to learn from and make decisions based on data. |\n",
      "| Deep Learning | Deep learning is a subset of machine learning involving neural networks with many layers, enabling advanced pattern recognition. |\n",
      "| AI in Healthcare | AI applications in healthcare include diagnostics, personalized medicine, and robot-assisted surgery. |\n",
      "| AI in Autonomous Vehicles | AI enables autonomous vehicles to perceive their environment and make decisions, reducing the need for human intervention. |\n",
      "| Natural Language Processing (NLP) | NLP is a field of AI focused on the interaction between computers and humans through natural language. |\n",
      "| Ethics in AI | Ethical concerns in AI include privacy, bias, accountability, and the potential for job displacement. |\n",
      "| AI in Finance | AI is used in finance for algorithmic trading, fraud detection, and customer service through chatbots. |\n",
      "| Robotics | Robotics is a field related to AI, focusing on the design and manufacturing of robots that can perform tasks autonomously. |\n",
      "| AI in Gaming | AI enhances gaming experiences by enabling more complex and realistic NPC behaviors and game environments. |\n",
      "| AI in Education | AI can personalize learning experiences through adaptive learning systems and automate administrative tasks. |\n",
      "| AI in Entertainment | AI is used in entertainment for content recommendation algorithms, music composition, and visual effects. |\n",
      "| Quantum Computing and AI | Quantum computing has the potential to significantly increase the processing power available for AI tasks, leading to breakthroughs in complex problem-solving. |\n",
      "| Bias in AI | AI systems can exhibit bias if they are trained on biased data sets, leading to unfair outcomes. |\n",
      "| AI and Job Creation | While AI can automate tasks, it also creates new job opportunities in AI development, supervision, and maintenance. |\n",
      "| AI in Agriculture | AI applications in agriculture include crop monitoring, predictive analysis for yield optimization, and automated machinery. |\n",
      "| AI and Climate Change | AI can analyze large datasets to model climate change impacts and optimize energy consumption patterns. |\n",
      "| AI Art and Creativity | AI is used to generate art, music, and literature, challenging traditional notions of creativity. |\n",
      "\n",
      "\n",
      "# Some More Fun Facts\n",
      "\n",
      "AI has also made unexpected discoveries and contributions to various scientific fields. For instance, AI algorithms have identified new patterns in data that were previously overlooked by human researchers, leading to new scientific discoveries. In the realm of astronomy, AI has helped identify new exoplanets and galaxies by analyzing vast amounts of data from telescopes and space missions. Similarly, in biology, AI has accelerated the discovery of new molecules and drugs by predicting their structures and interactions more efficiently than traditional methods.\n",
      "\n",
      "The relationship between AI and animals presents another intriguing aspect. Researchers have used AI to understand animal behavior and communication better. For example, AI has been employed to decode the complex language of dolphins and to track and predict the migration patterns of birds and other wildlife. These studies not only deepen our understanding of the natural world but also demonstrate AI's potential to bridge the communication gap between humans and other species. As AI continues to evolve, its applications expand into new and unexpected territories, promising to revolutionize our understanding of the world around us and beyond.\n",
      "\n"
     ]
    }
   ],
   "source": [
    "print(pdf_content)"
   ]
  },
  {
   "cell_type": "markdown",
   "metadata": {},
   "source": [
    "### Using Regex to detect table boundaries\n",
    "\n",
    "Maybe an easier way is to use Regex to detect table boundaries, and then post-process to the correct format using GPT-4 if the table is not big. "
   ]
  },
  {
   "cell_type": "code",
   "execution_count": 36,
   "metadata": {},
   "outputs": [
    {
     "name": "stdout",
     "output_type": "stream",
     "text": [
      "1\n"
     ]
    },
    {
     "data": {
      "text/markdown": [
       "|||\n",
       "| - | - |\n",
       "| Fact Category | Detail |\n",
       "| Definition | AI, or Artificial Intelligence, refers to the simulation of human intelligence in machines that are programmed to think and learn like humans. |\n",
       "| First AI Concept | The concept of artificial intelligence was first theorized by Alan Turing, a British mathematician, in 1950 through the Turing Test. |\n",
       "| First AI Program | The first AI program was developed by Allen Newell and Herbert A. Simon in 1955, which was called the Logic Theorist. |\n",
       "| Machine Learning | Machine learning is a subset of AI that involves the development of algorithms allowing computers to learn from and make decisions based on data. |\n",
       "\n",
       "|||\n",
       "| - | - |\n",
       "| Deep Learning | Deep learning is a subset of machine learning involving neural networks with many layers, enabling advanced pattern recognition. |\n",
       "| AI in Healthcare | AI applications in healthcare include diagnostics, personalized medicine, and robot-assisted surgery. |\n",
       "| AI in Autonomous Vehicles | AI enables autonomous vehicles to perceive their environment and make decisions, reducing the need for human intervention. |\n",
       "| Natural Language Processing (NLP) | NLP is a field of AI focused on the interaction between computers and humans through natural language. |\n",
       "| Ethics in AI | Ethical concerns in AI include privacy, bias, accountability, and the potential for job displacement. |\n",
       "| AI in Finance | AI is used in finance for algorithmic trading, fraud detection, and customer service through chatbots. |\n",
       "| Robotics | Robotics is a field related to AI, focusing on the design and manufacturing of robots that can perform tasks autonomously. |\n",
       "| AI in Gaming | AI enhances gaming experiences by enabling more complex and realistic NPC behaviors and game environments. |\n",
       "| AI in Education | AI can personalize learning experiences through adaptive learning systems and automate administrative tasks. |\n",
       "| AI in Entertainment | AI is used in entertainment for content recommendation algorithms, music composition, and visual effects. |\n",
       "| Quantum Computing and AI | Quantum computing has the potential to significantly increase the processing power available for AI tasks, leading to breakthroughs in complex problem-solving. |\n",
       "| Bias in AI | AI systems can exhibit bias if they are trained on biased data sets, leading to unfair outcomes. |\n",
       "\n",
       "|||\n",
       "| - | - |\n",
       "| AI and Job Creation | While AI can automate tasks, it also creates new job opportunities in AI development, supervision, and maintenance. |\n",
       "| AI in Agriculture | AI applications in agriculture include crop monitoring, predictive analysis for yield optimization, and automated machinery. |\n",
       "| AI and Climate Change | AI can analyze large datasets to model climate change impacts and optimize energy consumption patterns. |\n",
       "| AI Art and Creativity | AI is used to generate art, music, and literature, challenging traditional notions of creativity. |\n",
       "\n",
       "\n"
      ],
      "text/plain": [
       "<IPython.core.display.Markdown object>"
      ]
     },
     "execution_count": 36,
     "metadata": {},
     "output_type": "execute_result"
    }
   ],
   "source": [
    "## Regex will extract all 3 tables as one contiguous table\n",
    "\n",
    "tables = extract_markdown_table(pdf_result['content'])\n",
    "\n",
    "print(len(tables))\n",
    "Markdown(tables[0][0])"
   ]
  },
  {
   "cell_type": "markdown",
   "metadata": {},
   "source": [
    "This time we artificially separate the same tables with some text. RegEx would detect 2 tables instead of one."
   ]
  },
  {
   "cell_type": "code",
   "execution_count": 37,
   "metadata": {},
   "outputs": [
    {
     "name": "stdout",
     "output_type": "stream",
     "text": [
      "2\n"
     ]
    },
    {
     "data": {
      "text/markdown": [
       "|||\n",
       "| - | - |\n",
       "| Fact Category | Detail |\n",
       "| Definition | AI, or Artificial Intelligence, refers to the simulation of human intelligence in machines that are programmed to think and learn like humans. |\n",
       "| First AI Concept | The concept of artificial intelligence was first theorized by Alan Turing, a British mathematician, in 1950 through the Turing Test. |\n",
       "| First AI Program | The first AI program was developed by Allen Newell and Herbert A. Simon in 1955, which was called the Logic Theorist. |\n",
       "| Machine Learning | Machine learning is a subset of AI that involves the development of algorithms allowing computers to learn from and make decisions based on data. |\n",
       "\n"
      ],
      "text/plain": [
       "<IPython.core.display.Markdown object>"
      ]
     },
     "execution_count": 37,
     "metadata": {},
     "output_type": "execute_result"
    }
   ],
   "source": [
    "cc = \"\"\"\n",
    "# AI Facts\n",
    "\n",
    "|||\n",
    "| - | - |\n",
    "| Fact Category | Detail |\n",
    "| Definition | AI, or Artificial Intelligence, refers to the simulation of human intelligence in machines that are programmed to think and learn like humans. |\n",
    "| First AI Concept | The concept of artificial intelligence was first theorized by Alan Turing, a British mathematician, in 1950 through the Turing Test. |\n",
    "| First AI Program | The first AI program was developed by Allen Newell and Herbert A. Simon in 1955, which was called the Logic Theorist. |\n",
    "| Machine Learning | Machine learning is a subset of AI that involves the development of algorithms allowing computers to learn from and make decisions based on data. |\n",
    "\n",
    "Another fun fact about AI is its ability to play and excel in complex games, a domain once believed to be the exclusive realm of human intelligence. AI systems like DeepMind's AlphaGo have defeated world champions in games like Go, which is known for its intricate strategy and depth. These achievements are not just about winning games; they represent significant advancements in AI's problem-solving and strategic planning capabilities. The algorithms developed for these purposes have broader applications, such as solving complex logistical problems and improving decision- making processes in business and science.\n",
    "\n",
    "|||\n",
    "| - | - |\n",
    "| Deep Learning | Deep learning is a subset of machine learning involving neural networks with many layers, enabling advanced pattern recognition. |\n",
    "| AI in Healthcare | AI applications in healthcare include diagnostics, personalized medicine, and robot-assisted surgery. |\n",
    "| AI in Autonomous Vehicles | AI enables autonomous vehicles to perceive their environment and make decisions, reducing the need for human intervention. |\n",
    "| Natural Language Processing (NLP) | NLP is a field of AI focused on the interaction between computers and humans through natural language. |\n",
    "| Ethics in AI | Ethical concerns in AI include privacy, bias, accountability, and the potential for job displacement. |\n",
    "| AI in Finance | AI is used in finance for algorithmic trading, fraud detection, and customer service through chatbots. |\n",
    "| Robotics | Robotics is a field related to AI, focusing on the design and manufacturing of robots that can perform tasks autonomously. |\n",
    "| AI in Gaming | AI enhances gaming experiences by enabling more complex and realistic NPC behaviors and game environments. |\n",
    "| AI in Education | AI can personalize learning experiences through adaptive learning systems and automate administrative tasks. |\n",
    "| AI in Entertainment | AI is used in entertainment for content recommendation algorithms, music composition, and visual effects. |\n",
    "| Quantum Computing and AI | Quantum computing has the potential to significantly increase the processing power available for AI tasks, leading to breakthroughs in complex problem-solving. |\n",
    "| Bias in AI | AI systems can exhibit bias if they are trained on biased data sets, leading to unfair outcomes. |\n",
    "\n",
    "\"\"\"\n",
    "\n",
    "\n",
    "tables = extract_markdown_table(cc)\n",
    "\n",
    "print(len(tables))\n",
    "Markdown(tables[0][0])\n"
   ]
  },
  {
   "cell_type": "code",
   "execution_count": null,
   "metadata": {},
   "outputs": [],
   "source": [
    "#### Change prompt and provide an example"
   ]
  },
  {
   "cell_type": "code",
   "execution_count": 20,
   "metadata": {},
   "outputs": [
    {
     "name": "stdout",
     "output_type": "stream",
     "text": [
      "{\n",
      "    \"Fact Category\": [\n",
      "        \"Definition\",\n",
      "        \"First AI Concept\",\n",
      "        \"First AI Program\",\n",
      "        \"Machine Learning\",\n",
      "        \"Deep Learning\",\n",
      "        \"AI in Healthcare\",\n",
      "        \"AI in Autonomous Vehicles\",\n",
      "        \"Natural Language Processing (NLP)\",\n",
      "        \"Ethics in AI\",\n",
      "        \"AI in Finance\",\n",
      "        \"Robotics\",\n",
      "        \"AI in Gaming\",\n",
      "        \"AI in Education\",\n",
      "        \"AI in Entertainment\",\n",
      "        \"Quantum Computing and AI\",\n",
      "        \"Bias in AI\",\n",
      "        \"AI and Job Creation\",\n",
      "        \"AI in Agriculture\",\n",
      "        \"AI and Climate Change\",\n",
      "        \"AI Art and Creativity\"\n",
      "    ],\n",
      "    \"Detail\": [\n",
      "        \"AI, or Artificial Intelligence, refers to the simulation of human intelligence in machines that are programmed to think and learn like humans.\",\n",
      "        \"The concept of artificial intelligence was first theorized by Alan Turing, a British mathematician, in 1950 through the Turing Test.\",\n",
      "        \"The first AI program was developed by Allen Newell and Herbert A. Simon in 1955, which was called the Logic Theorist.\",\n",
      "        \"Machine learning is a subset of AI that involves the development of algorithms allowing computers to learn from and make decisions based on data.\",\n",
      "        \"Deep learning is a subset of machine learning involving neural networks with many layers, enabling advanced pattern recognition.\",\n",
      "        \"AI applications in healthcare include diagnostics, personalized medicine, and robot-assisted surgery.\",\n",
      "        \"AI enables autonomous vehicles to perceive their environment and make decisions, reducing the need for human intervention.\",\n",
      "        \"NLP is a field of AI focused on the interaction between computers and humans through natural language.\",\n",
      "        \"Ethical concerns in AI include privacy, bias, accountability, and the potential for job displacement.\",\n",
      "        \"AI is used in finance for algorithmic trading, fraud detection, and customer service through chatbots.\",\n",
      "        \"Robotics is a field related to AI, focusing on the design and manufacturing of robots that can perform tasks autonomously.\",\n",
      "        \"AI enhances gaming experiences by enabling more complex and realistic NPC behaviors and game environments.\",\n",
      "        \"AI can personalize learning experiences through adaptive learning systems and automate administrative tasks.\",\n",
      "        \"AI is used in entertainment for content recommendation algorithms, music composition, and visual effects.\",\n",
      "        \"Quantum computing has the potential to significantly increase the processing power available for AI tasks, leading to breakthroughs in complex problem-solving.\",\n",
      "        \"AI systems can exhibit bias if they are trained on biased data sets, leading to unfair outcomes.\",\n",
      "        \"While AI can automate tasks, it also creates new job opportunities in AI development, supervision, and maintenance.\",\n",
      "        \"AI applications in agriculture include crop monitoring, predictive analysis for yield optimization, and automated machinery.\",\n",
      "        \"AI can analyze large datasets to model climate change impacts and optimize energy consumption patterns.\",\n",
      "        \"AI is used to generate art, music, and literature, challenging traditional notions of creativity.\"\n",
      "    ]\n",
      "}\n"
     ]
    }
   ],
   "source": [
    "## Experiment with prompting, to see if broken tables can be \"merged\" based on LLM's output\n",
    "## This is work in progress .. NOT YET COMPLETE\n",
    "\n",
    "prompt = \"\"\"\n",
    "You are a Markdown expert whose objective is to check whether Markdown tables have been split into two or more tables because of page breaks or because of the OCR extraction process. You are designed to output JSON.\n",
    "\n",
    "You are given the following Markdown text:\n",
    "## START OF MARKDOWN TEXT\n",
    "{text}\n",
    "## END OF MARKDOWN TEXT\n",
    "\n",
    "In the markdown text above, detect whether there are Markdown tables. If table is spanning across pages, you **MUST** combine table chunks from consecutive pages and create single table **BEFORE** output to JSON.\n",
    "\n",
    "## EXAMPLE\n",
    "Here is example of table that spans across pages:\n",
    "\n",
    "|||\n",
    "| - | - |\n",
    "| Column1 | Column2 | ColumnN |\n",
    "| Row1 Column1 value | Row1 Column2 value | Row1 ColumnN value |\n",
    "| Row2 Column1 value | Row2 Column2 value | Row2 ColumnN value |\n",
    "\n",
    "|||\n",
    "| - | - |\n",
    "| RowX Column1 value | RowX Column2 value | RowX ColumnN value |\n",
    "| RowY Column1 value | RowY Column2 value | RowY ColumnN value |\n",
    "\n",
    "## COMBINED TABLE\n",
    "Here result of combining table chunks from consecutive pages. First row is always the header row.\n",
    "\n",
    "| Column1 | Column2 | ColumnN |\n",
    "| Row1 Column1 value | Row1 Column2 value | Row1 ColumnN value |\n",
    "| Row2 Column1 value | Row2 Column2 value | Row2 ColumnN value |\n",
    "| RowX Column1 value | RowX Column2 value | RowX ColumnN value |\n",
    "| RowY Column1 value | RowY Column2 value | RowY ColumnN value |\n",
    "\n",
    "## JSON OUTPUT FORMAT:\n",
    "You **MUST** output a JSON object with the following key-value pairs and following format. Do **NOT* provide any other comments or unnecessary information in the JSON output:\n",
    "\n",
    "{{\n",
    "    \"Column1 Header\":\n",
    "        [\n",
    "                \"Row1 value\",\n",
    "                \"Row2 value\",\n",
    "                ...,\n",
    "                \"RowN value\"\n",
    "            }}\n",
    "        ],\n",
    "    \"Column2 Header\":\n",
    "        [\n",
    "                \"Row1 value\",\n",
    "                \"Row2 value\",\n",
    "                ...,\n",
    "                \"RowN value\"\n",
    "            }}\n",
    "        ],\n",
    "    ...,\n",
    "    \"ColumnN Header\":\n",
    "        [\n",
    "                \"Row1 value\",\n",
    "                \"Row2 value\",\n",
    "                ...,\n",
    "                \"RowN value\"\n",
    "            }}\n",
    "        ]\n",
    "}}\n",
    "\"\"\"\n",
    "\n",
    "p = prompt.format(text = pdf_result['content'])\n",
    "table_edges = ask_LLM_with_JSON(p, model_info=model_info)\n",
    "print(table_edges)"
   ]
  },
  {
   "cell_type": "code",
   "execution_count": 21,
   "metadata": {},
   "outputs": [
    {
     "data": {
      "text/html": [
       "<div>\n",
       "<style scoped>\n",
       "    .dataframe tbody tr th:only-of-type {\n",
       "        vertical-align: middle;\n",
       "    }\n",
       "\n",
       "    .dataframe tbody tr th {\n",
       "        vertical-align: top;\n",
       "    }\n",
       "\n",
       "    .dataframe thead th {\n",
       "        text-align: right;\n",
       "    }\n",
       "</style>\n",
       "<table border=\"1\" class=\"dataframe\">\n",
       "  <thead>\n",
       "    <tr style=\"text-align: right;\">\n",
       "      <th></th>\n",
       "      <th>Fact Category</th>\n",
       "      <th>Detail</th>\n",
       "    </tr>\n",
       "  </thead>\n",
       "  <tbody>\n",
       "    <tr>\n",
       "      <th>0</th>\n",
       "      <td>Definition</td>\n",
       "      <td>AI, or Artificial Intelligence, refers to the ...</td>\n",
       "    </tr>\n",
       "    <tr>\n",
       "      <th>1</th>\n",
       "      <td>First AI Concept</td>\n",
       "      <td>The concept of artificial intelligence was fir...</td>\n",
       "    </tr>\n",
       "    <tr>\n",
       "      <th>2</th>\n",
       "      <td>First AI Program</td>\n",
       "      <td>The first AI program was developed by Allen Ne...</td>\n",
       "    </tr>\n",
       "    <tr>\n",
       "      <th>3</th>\n",
       "      <td>Machine Learning</td>\n",
       "      <td>Machine learning is a subset of AI that involv...</td>\n",
       "    </tr>\n",
       "    <tr>\n",
       "      <th>4</th>\n",
       "      <td>Deep Learning</td>\n",
       "      <td>Deep learning is a subset of machine learning ...</td>\n",
       "    </tr>\n",
       "    <tr>\n",
       "      <th>5</th>\n",
       "      <td>AI in Healthcare</td>\n",
       "      <td>AI applications in healthcare include diagnost...</td>\n",
       "    </tr>\n",
       "    <tr>\n",
       "      <th>6</th>\n",
       "      <td>AI in Autonomous Vehicles</td>\n",
       "      <td>AI enables autonomous vehicles to perceive the...</td>\n",
       "    </tr>\n",
       "    <tr>\n",
       "      <th>7</th>\n",
       "      <td>Natural Language Processing (NLP)</td>\n",
       "      <td>NLP is a field of AI focused on the interactio...</td>\n",
       "    </tr>\n",
       "    <tr>\n",
       "      <th>8</th>\n",
       "      <td>Ethics in AI</td>\n",
       "      <td>Ethical concerns in AI include privacy, bias, ...</td>\n",
       "    </tr>\n",
       "    <tr>\n",
       "      <th>9</th>\n",
       "      <td>AI in Finance</td>\n",
       "      <td>AI is used in finance for algorithmic trading,...</td>\n",
       "    </tr>\n",
       "    <tr>\n",
       "      <th>10</th>\n",
       "      <td>Robotics</td>\n",
       "      <td>Robotics is a field related to AI, focusing on...</td>\n",
       "    </tr>\n",
       "    <tr>\n",
       "      <th>11</th>\n",
       "      <td>AI in Gaming</td>\n",
       "      <td>AI enhances gaming experiences by enabling mor...</td>\n",
       "    </tr>\n",
       "    <tr>\n",
       "      <th>12</th>\n",
       "      <td>AI in Education</td>\n",
       "      <td>AI can personalize learning experiences throug...</td>\n",
       "    </tr>\n",
       "    <tr>\n",
       "      <th>13</th>\n",
       "      <td>AI in Entertainment</td>\n",
       "      <td>AI is used in entertainment for content recomm...</td>\n",
       "    </tr>\n",
       "    <tr>\n",
       "      <th>14</th>\n",
       "      <td>Quantum Computing and AI</td>\n",
       "      <td>Quantum computing has the potential to signifi...</td>\n",
       "    </tr>\n",
       "    <tr>\n",
       "      <th>15</th>\n",
       "      <td>Bias in AI</td>\n",
       "      <td>AI systems can exhibit bias if they are traine...</td>\n",
       "    </tr>\n",
       "    <tr>\n",
       "      <th>16</th>\n",
       "      <td>AI and Job Creation</td>\n",
       "      <td>While AI can automate tasks, it also creates n...</td>\n",
       "    </tr>\n",
       "    <tr>\n",
       "      <th>17</th>\n",
       "      <td>AI in Agriculture</td>\n",
       "      <td>AI applications in agriculture include crop mo...</td>\n",
       "    </tr>\n",
       "    <tr>\n",
       "      <th>18</th>\n",
       "      <td>AI and Climate Change</td>\n",
       "      <td>AI can analyze large datasets to model climate...</td>\n",
       "    </tr>\n",
       "    <tr>\n",
       "      <th>19</th>\n",
       "      <td>AI Art and Creativity</td>\n",
       "      <td>AI is used to generate art, music, and literat...</td>\n",
       "    </tr>\n",
       "  </tbody>\n",
       "</table>\n",
       "</div>"
      ],
      "text/plain": [
       "                        Fact Category  \\\n",
       "0                          Definition   \n",
       "1                    First AI Concept   \n",
       "2                    First AI Program   \n",
       "3                    Machine Learning   \n",
       "4                       Deep Learning   \n",
       "5                    AI in Healthcare   \n",
       "6           AI in Autonomous Vehicles   \n",
       "7   Natural Language Processing (NLP)   \n",
       "8                        Ethics in AI   \n",
       "9                       AI in Finance   \n",
       "10                           Robotics   \n",
       "11                       AI in Gaming   \n",
       "12                    AI in Education   \n",
       "13                AI in Entertainment   \n",
       "14           Quantum Computing and AI   \n",
       "15                         Bias in AI   \n",
       "16                AI and Job Creation   \n",
       "17                  AI in Agriculture   \n",
       "18              AI and Climate Change   \n",
       "19              AI Art and Creativity   \n",
       "\n",
       "                                               Detail  \n",
       "0   AI, or Artificial Intelligence, refers to the ...  \n",
       "1   The concept of artificial intelligence was fir...  \n",
       "2   The first AI program was developed by Allen Ne...  \n",
       "3   Machine learning is a subset of AI that involv...  \n",
       "4   Deep learning is a subset of machine learning ...  \n",
       "5   AI applications in healthcare include diagnost...  \n",
       "6   AI enables autonomous vehicles to perceive the...  \n",
       "7   NLP is a field of AI focused on the interactio...  \n",
       "8   Ethical concerns in AI include privacy, bias, ...  \n",
       "9   AI is used in finance for algorithmic trading,...  \n",
       "10  Robotics is a field related to AI, focusing on...  \n",
       "11  AI enhances gaming experiences by enabling mor...  \n",
       "12  AI can personalize learning experiences throug...  \n",
       "13  AI is used in entertainment for content recomm...  \n",
       "14  Quantum computing has the potential to signifi...  \n",
       "15  AI systems can exhibit bias if they are traine...  \n",
       "16  While AI can automate tasks, it also creates n...  \n",
       "17  AI applications in agriculture include crop mo...  \n",
       "18  AI can analyze large datasets to model climate...  \n",
       "19  AI is used to generate art, music, and literat...  "
      ]
     },
     "metadata": {},
     "output_type": "display_data"
    }
   ],
   "source": [
    "import pandas as pd\n",
    "import json\n",
    "\n",
    "# Parse the JSON string\n",
    "data = json.loads(table_edges)\n",
    "\n",
    "# Create DataFrame\n",
    "df = pd.DataFrame(data)\n",
    "\n",
    "# Display the DataFrame\n",
    "display(df)\n"
   ]
  },
  {
   "cell_type": "markdown",
   "metadata": {},
   "source": [
    "#### Lets try with different PDF file"
   ]
  },
  {
   "cell_type": "code",
   "execution_count": 22,
   "metadata": {},
   "outputs": [
    {
     "data": {
      "text/markdown": [
       "<!-- PageHeader=\"Margie's Travel Presents ...\" -->\n",
       "\n",
       "London\n",
       "===\n",
       "\n",
       "London is the capital and most populous city of England and the United Kingdom. Standing on the River Thames in the south east of the island of Great Britain, London has been a major settlement for two millennia. It was founded by the Romans, who named it Londinium. London's ancient core, the City of London, largely retains its 1.12-square-\n",
       "<figure>\n",
       "\n",
       "![](figures/0)\n",
       "\n",
       "<!-- FigureContent=\"Tower Bridge\" -->\n",
       "\n",
       "</figure>\n",
       "\n",
       " mile medieval boundaries. Since at least the 19th century, London has also referred to the metropolis around this core, historically split between Middlesex, Essex, Surrey, Kent, and Hertfordshire, which today largely makes up Greater London, governed by the Mayor of London and the London Assembly.\n",
       "\n",
       "<figure>\n",
       "\n",
       "![](figures/1)\n",
       "\n",
       "<!-- FigureContent=\"Fountains in Trafalgar Square\" -->\n",
       "\n",
       "</figure>\n",
       "\n",
       "\n",
       "Mostly popular for: Leisure, Outdoors, Historical, Arts & Culture\n",
       "\n",
       "Best time to visit: Jun-Aug Averag Precipitation: 1.9 in Average Temperature: 56-67°F\n",
       "\n",
       "\n",
       "# London Hotels\n",
       "\n",
       "Margie's Travel offers the following accommodation options in London:\n",
       "\n",
       "The Buckingham Hotel Comfortable hotel close to major sights like Buckingham Palace, Regent's Park, and Trafalgar Square.\n",
       "\n",
       "The City Hotel Luxury rooms in the city, within walking distance of Tower Bridge and the Tower of London ..\n",
       "\n",
       "The Kensington Hotel Budget accommodation near Earl's Court.\n",
       "\n",
       "To book your trip to London, visit www.margiestravel.com\n",
       "\n",
       "| Category | Information |\n",
       "| - | - |\n",
       "| Country | United Kingdom |\n",
       "| Capital Of | England |\n",
       "| Currency | Pound Sterling (GBP) |\n",
       "| Population (2021 census) | Approximately 8.8 million |\n",
       "| Famous For | Historical landmarks, museums, cultural diversity |\n"
      ],
      "text/plain": [
       "<IPython.core.display.Markdown object>"
      ]
     },
     "execution_count": 22,
     "metadata": {},
     "output_type": "execute_result"
    }
   ],
   "source": [
    "path = r\"sample_data/1_London_Brochure.pdf\"\n",
    "pdf_result = analyze_document(path)\n",
    "Markdown(pdf_result['content'])"
   ]
  },
  {
   "cell_type": "code",
   "execution_count": 23,
   "metadata": {},
   "outputs": [
    {
     "name": "stdout",
     "output_type": "stream",
     "text": [
      "{\n",
      "    \"Category\": [\n",
      "        \"Country\",\n",
      "        \"Capital Of\",\n",
      "        \"Currency\",\n",
      "        \"Population (2021 census)\",\n",
      "        \"Famous For\"\n",
      "    ],\n",
      "    \"Information\": [\n",
      "        \"United Kingdom\",\n",
      "        \"England\",\n",
      "        \"Pound Sterling (GBP)\",\n",
      "        \"Approximately 8.8 million\",\n",
      "        \"Historical landmarks, museums, cultural diversity\"\n",
      "    ]\n",
      "}\n"
     ]
    }
   ],
   "source": [
    "## Experiment with prompting, to see if broken tables can be \"merged\" based on LLM's output\n",
    "## This is work in progress .. NOT YET COMPLETE\n",
    "\n",
    "prompt = \"\"\"\n",
    "You are a Markdown expert whose objective is to check whether Markdown tables have been split into two or more tables because of page breaks or because of the OCR extraction process. You are designed to output JSON.\n",
    "\n",
    "You are given the following Markdown text:\n",
    "## START OF MARKDOWN TEXT\n",
    "{text}\n",
    "## END OF MARKDOWN TEXT\n",
    "\n",
    "In the markdown text above, detect whether there are Markdown tables. If table is spanning across pages, you **MUST** combine table chunks from consecutive pages and create single table **BEFORE** output to JSON.\n",
    "\n",
    "## EXAMPLE\n",
    "Here is example of table that spans across pages:\n",
    "\n",
    "|||\n",
    "| - | - |\n",
    "| Column1 | Column2 | ColumnN |\n",
    "| Row1 Column1 value | Row1 Column2 value | Row1 ColumnN value |\n",
    "| Row2 Column1 value | Row2 Column2 value | Row2 ColumnN value |\n",
    "\n",
    "|||\n",
    "| - | - |\n",
    "| RowX Column1 value | RowX Column2 value | RowX ColumnN value |\n",
    "| RowY Column1 value | RowY Column2 value | RowY ColumnN value |\n",
    "\n",
    "## COMBINED TABLE\n",
    "Here result of combining table chunks from consecutive pages. First row is always the header row.\n",
    "\n",
    "| Column1 | Column2 | ColumnN |\n",
    "| Row1 Column1 value | Row1 Column2 value | Row1 ColumnN value |\n",
    "| Row2 Column1 value | Row2 Column2 value | Row2 ColumnN value |\n",
    "| RowX Column1 value | RowX Column2 value | RowX ColumnN value |\n",
    "| RowY Column1 value | RowY Column2 value | RowY ColumnN value |\n",
    "\n",
    "## JSON OUTPUT FORMAT:\n",
    "You **MUST** output a JSON object with the following key-value pairs and following format. Do **NOT* provide any other comments or unnecessary information in the JSON output:\n",
    "\n",
    "{{\n",
    "    \"Column1 Header\":\n",
    "        [\n",
    "                \"Row1 value\",\n",
    "                \"Row2 value\",\n",
    "                ...,\n",
    "                \"RowN value\"\n",
    "            }}\n",
    "        ],\n",
    "    \"Column2 Header\":\n",
    "        [\n",
    "                \"Row1 value\",\n",
    "                \"Row2 value\",\n",
    "                ...,\n",
    "                \"RowN value\"\n",
    "            }}\n",
    "        ],\n",
    "    ...,\n",
    "    \"ColumnN Header\":\n",
    "        [\n",
    "                \"Row1 value\",\n",
    "                \"Row2 value\",\n",
    "                ...,\n",
    "                \"RowN value\"\n",
    "            }}\n",
    "        ]\n",
    "}}\n",
    "\"\"\"\n",
    "\n",
    "p = prompt.format(text = pdf_result['content'])\n",
    "table_edges = ask_LLM_with_JSON(p, model_info=model_info)\n",
    "print(table_edges)"
   ]
  },
  {
   "cell_type": "code",
   "execution_count": 24,
   "metadata": {},
   "outputs": [
    {
     "data": {
      "text/html": [
       "<div>\n",
       "<style scoped>\n",
       "    .dataframe tbody tr th:only-of-type {\n",
       "        vertical-align: middle;\n",
       "    }\n",
       "\n",
       "    .dataframe tbody tr th {\n",
       "        vertical-align: top;\n",
       "    }\n",
       "\n",
       "    .dataframe thead th {\n",
       "        text-align: right;\n",
       "    }\n",
       "</style>\n",
       "<table border=\"1\" class=\"dataframe\">\n",
       "  <thead>\n",
       "    <tr style=\"text-align: right;\">\n",
       "      <th></th>\n",
       "      <th>Category</th>\n",
       "      <th>Information</th>\n",
       "    </tr>\n",
       "  </thead>\n",
       "  <tbody>\n",
       "    <tr>\n",
       "      <th>0</th>\n",
       "      <td>Country</td>\n",
       "      <td>United Kingdom</td>\n",
       "    </tr>\n",
       "    <tr>\n",
       "      <th>1</th>\n",
       "      <td>Capital Of</td>\n",
       "      <td>England</td>\n",
       "    </tr>\n",
       "    <tr>\n",
       "      <th>2</th>\n",
       "      <td>Currency</td>\n",
       "      <td>Pound Sterling (GBP)</td>\n",
       "    </tr>\n",
       "    <tr>\n",
       "      <th>3</th>\n",
       "      <td>Population (2021 census)</td>\n",
       "      <td>Approximately 8.8 million</td>\n",
       "    </tr>\n",
       "    <tr>\n",
       "      <th>4</th>\n",
       "      <td>Famous For</td>\n",
       "      <td>Historical landmarks, museums, cultural diversity</td>\n",
       "    </tr>\n",
       "  </tbody>\n",
       "</table>\n",
       "</div>"
      ],
      "text/plain": [
       "                   Category                                        Information\n",
       "0                   Country                                     United Kingdom\n",
       "1                Capital Of                                            England\n",
       "2                  Currency                               Pound Sterling (GBP)\n",
       "3  Population (2021 census)                          Approximately 8.8 million\n",
       "4                Famous For  Historical landmarks, museums, cultural diversity"
      ]
     },
     "metadata": {},
     "output_type": "display_data"
    }
   ],
   "source": [
    "import pandas as pd\n",
    "import json\n",
    "\n",
    "# Parse the JSON string\n",
    "data = json.loads(table_edges)\n",
    "\n",
    "# Create DataFrame\n",
    "df = pd.DataFrame(data)\n",
    "\n",
    "# Display the DataFrame\n",
    "display(df)\n"
   ]
  }
 ],
 "metadata": {
  "kernelspec": {
   "display_name": "mmdoc",
   "language": "python",
   "name": "python3"
  },
  "language_info": {
   "codemirror_mode": {
    "name": "ipython",
    "version": 3
   },
   "file_extension": ".py",
   "mimetype": "text/x-python",
   "name": "python",
   "nbconvert_exporter": "python",
   "pygments_lexer": "ipython3",
   "version": "3.10.13"
  }
 },
 "nbformat": 4,
 "nbformat_minor": 2
}
