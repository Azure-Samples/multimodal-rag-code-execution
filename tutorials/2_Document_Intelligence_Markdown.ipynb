{
 "cells": [
  {
   "cell_type": "markdown",
   "metadata": {},
   "source": [
    "# Document Intelligence with Markdown\n",
    "\n",
    "In this notebook we will experiment with Document Intelligence and its Markdown output. We will try reading documents and experiment whether Document Intelligence can manage advanced actions, such as reading multi-page tables. \n"
   ]
  },
  {
   "cell_type": "markdown",
   "metadata": {},
   "source": [
    "### Python Imports\n"
   ]
  },
  {
   "cell_type": "code",
   "execution_count": null,
   "metadata": {},
   "outputs": [],
   "source": [
    "%load_ext autoreload\n",
    "%autoreload 2\n",
    "\n",
    "\n",
    "import sys\n",
    "sys.path.append('..\\\\code')\n",
    "\n",
    "\n",
    "import os\n",
    "from dotenv import load_dotenv\n",
    "load_dotenv()\n",
    "\n",
    "from IPython.display import display, Markdown, HTML\n",
    "from PIL import Image\n",
    "from doc_utils import *\n",
    "\n",
    "\n",
    "def show_img(img_path, width = None):\n",
    "    if width is not None:\n",
    "        display(HTML(f'<img src=\"{img_path}\" width={width}>'))\n",
    "    else:\n",
    "        display(Image.open(img_path))\n"
   ]
  },
  {
   "cell_type": "markdown",
   "metadata": {},
   "source": [
    "### Make sure we have the OpenAI Models information\n",
    "\n",
    "We will need the GPT-4-Turbo and GPT-4-Vision models for this notebook.\n",
    "\n",
    "When running the below cell, the values should reflect the OpenAI reource you have created in the `.env` file."
   ]
  },
  {
   "cell_type": "code",
   "execution_count": null,
   "metadata": {},
   "outputs": [],
   "source": [
    "model_info = {\n",
    "        'AZURE_OPENAI_RESOURCE': os.environ.get('AZURE_OPENAI_RESOURCE'),\n",
    "        'AZURE_OPENAI_KEY': os.environ.get('AZURE_OPENAI_KEY'),\n",
    "        'AZURE_OPENAI_MODEL_VISION': os.environ.get('AZURE_OPENAI_MODEL_VISION'),\n",
    "        'AZURE_OPENAI_MODEL': os.environ.get('AZURE_OPENAI_MODEL'),\n",
    "}"
   ]
  },
  {
   "cell_type": "markdown",
   "metadata": {},
   "source": [
    "### Experimenting with Document Intelligence"
   ]
  },
  {
   "cell_type": "markdown",
   "metadata": {},
   "source": [
    "First make sure to install the right version of Document Intelligence"
   ]
  },
  {
   "cell_type": "code",
   "execution_count": null,
   "metadata": {},
   "outputs": [],
   "source": [
    "## This version corresponds to API Version 2024-02-29-preview\n",
    "## Visit: https://learn.microsoft.com/en-us/python/api/overview/azure/ai-documentintelligence-readme?view=azure-python-preview\n",
    "\n",
    "%pip install azure-ai-documentintelligence>=1.0.0b2"
   ]
  },
  {
   "cell_type": "markdown",
   "metadata": {},
   "source": [
    "Defining a helper function"
   ]
  },
  {
   "cell_type": "code",
   "execution_count": null,
   "metadata": {},
   "outputs": [],
   "source": [
    "from azure.core.credentials import AzureKeyCredential\n",
    "from azure.ai.documentintelligence import DocumentIntelligenceClient\n",
    "from azure.ai.documentintelligence.models import AnalyzeResult\n",
    "from azure.ai.documentintelligence.models import AnalyzeDocumentRequest, ContentFormat\n",
    "\n",
    "endpoint = os.environ[\"DI_ENDPOINT\"]\n",
    "key = os.environ[\"DI_KEY\"]\n",
    "\n",
    "def analyze_document(path):\n",
    "    document_intelligence_client = DocumentIntelligenceClient(endpoint=endpoint, credential=AzureKeyCredential(key))\n",
    "\n",
    "    with open(path, \"rb\") as f:\n",
    "        poller = document_intelligence_client.begin_analyze_document(\n",
    "            \"prebuilt-layout\", analyze_request=f, output_content_format=ContentFormat.MARKDOWN, content_type=\"application/octet-stream\"\n",
    "        )\n",
    "    result: AnalyzeResult = poller.result()\n",
    "    \n",
    "    return result\n",
    "\n"
   ]
  },
  {
   "cell_type": "markdown",
   "metadata": {},
   "source": [
    "#### Reading in Sample Documents"
   ]
  },
  {
   "cell_type": "code",
   "execution_count": null,
   "metadata": {},
   "outputs": [],
   "source": [
    "path = r\"sample_data/1_London_Brochure.docx\"\n",
    "london_docx_result = analyze_document(path)\n",
    "Markdown(london_docx_result['content'])"
   ]
  },
  {
   "cell_type": "code",
   "execution_count": null,
   "metadata": {},
   "outputs": [],
   "source": [
    "path = r\"sample_data/1_London_Brochure.pdf\"\n",
    "london_pdf_result = analyze_document(path)\n",
    "Markdown(london_pdf_result['content'])"
   ]
  },
  {
   "cell_type": "markdown",
   "metadata": {},
   "source": [
    "### Figures\n",
    "\n",
    "For the same document, Figures are detected for the PDF version, and not for the Docx version"
   ]
  },
  {
   "cell_type": "code",
   "execution_count": null,
   "metadata": {},
   "outputs": [],
   "source": [
    "london_pdf_result.keys()"
   ]
  },
  {
   "cell_type": "code",
   "execution_count": null,
   "metadata": {},
   "outputs": [],
   "source": [
    "london_docx_result.keys()"
   ]
  },
  {
   "cell_type": "code",
   "execution_count": null,
   "metadata": {},
   "outputs": [],
   "source": [
    "london_pdf_result['figures']"
   ]
  },
  {
   "cell_type": "code",
   "execution_count": null,
   "metadata": {},
   "outputs": [],
   "source": [
    "from PIL import Image\n",
    "\n",
    "def get_dpi(image):\n",
    "    try:\n",
    "        dpi = image.info['dpi']\n",
    "        print(\"DPI\", dpi)\n",
    "    except KeyError:\n",
    "        dpi = (300, 300)\n",
    "    return dpi\n",
    "\n",
    "def polygon_to_bbox(polygon):\n",
    "    xs = polygon[::2]  # Extract all x coordinates\n",
    "    ys = polygon[1::2]  # Extract all y coordinates\n",
    "    left = min(xs)\n",
    "    top = min(ys)\n",
    "    right = max(xs)\n",
    "    bottom = max(ys)\n",
    "    return (left, top, right, bottom)\n",
    "\n",
    "\n",
    "def inches_to_pixels(inches, dpi):\n",
    "    dpi_x, dpi_y = dpi\n",
    "    return [int(inches[i] * dpi_x if i % 2 == 0 else inches[i] * dpi_y) for i in range(len(inches))]\n",
    "\n",
    "polygon = [2.7496, 2.5964, 7.1241, 2.597, 7.1249, 5.0656, 2.7505, 5.0645]\n",
    "\n",
    "\n",
    "def extract_figure(image_path, polygon):\n",
    "    bbox_in_inches = polygon_to_bbox(polygon)\n",
    "\n",
    "    # Load the image\n",
    "    image = Image.open(image_path)\n",
    "\n",
    "    filename = os.path.splitext(os.path.basename(image_path))[0].strip()\n",
    "    extension = os.path.splitext(os.path.basename(image_path))[1].strip()\n",
    "    crop_name = os.path.join(os.path.dirname(image_path), f\"{filename}_{generate_uuid_from_string(str(polygon))}{extension}\")\n",
    "    print(f\"Cropped image will be saved under name: {crop_name}\")\n",
    "\n",
    "    # Get DPI from the image\n",
    "    dpi = get_dpi(image)\n",
    "\n",
    "    # Convert the bounding box to pixels using the image's DPI\n",
    "    bbox_in_pixels = inches_to_pixels(bbox_in_inches, dpi)\n",
    "    print(\"bbox_in_pixels\", bbox_in_pixels)\n",
    "\n",
    "    # Crop the image\n",
    "    cropped_image = image.crop(bbox_in_pixels)\n",
    "    cropped_image.save(crop_name)  \n",
    "    show_img(crop_name, 400)\n",
    "\n",
    "for bounding in london_pdf_result['figures']:\n",
    "    polygon = bounding['boundingRegions'][0]['polygon']\n",
    "    extract_figure(png_files[0], polygon)"
   ]
  },
  {
   "cell_type": "markdown",
   "metadata": {},
   "source": [
    "### Document Intelligence with MS Word documents (docx)\n",
    "\n",
    "Another sample document .."
   ]
  },
  {
   "cell_type": "code",
   "execution_count": null,
   "metadata": {},
   "outputs": [],
   "source": [
    "path = r\"sample_data/2_ai_facts.docx\"\n",
    "docx_result = analyze_document(path)\n",
    "Markdown(docx_result['content'])"
   ]
  },
  {
   "cell_type": "code",
   "execution_count": null,
   "metadata": {},
   "outputs": [],
   "source": [
    "print(docx_result['content'])"
   ]
  },
  {
   "cell_type": "markdown",
   "metadata": {},
   "source": [
    "### Document Intelligence with PDF Documents\n",
    "\n",
    "Notice the broken table over 3 pages, which gives 3 tables"
   ]
  },
  {
   "cell_type": "code",
   "execution_count": null,
   "metadata": {},
   "outputs": [],
   "source": [
    "path = r\"sample_data/2_ai_facts.pdf\"\n",
    "pdf_result = analyze_document(path)\n",
    "Markdown(pdf_result['content'])"
   ]
  },
  {
   "cell_type": "markdown",
   "metadata": {},
   "source": [
    "It seems that for the PDF, Document Intelligence did not correctly identify this as a single table, but rather as three separate tables."
   ]
  },
  {
   "cell_type": "code",
   "execution_count": null,
   "metadata": {},
   "outputs": [],
   "source": [
    "print(pdf_result['content'])"
   ]
  },
  {
   "cell_type": "markdown",
   "metadata": {},
   "source": [
    "### Table Merging\n",
    "\n",
    "Let's try to merge the tables using OpenAI GPT-4"
   ]
  },
  {
   "cell_type": "code",
   "execution_count": null,
   "metadata": {},
   "outputs": [],
   "source": [
    "#### Let's try something \"hacky\"\n",
    "\n",
    "if len(pdf_result['content'].split('|\\n')) > 0: ## This is a hacky way to check if there is a Markdown table in the text\n",
    "    print('yes')\n"
   ]
  },
  {
   "cell_type": "markdown",
   "metadata": {},
   "source": [
    "#### First Step\n",
    "\n",
    "First try to establish the table boundaries"
   ]
  },
  {
   "cell_type": "code",
   "execution_count": null,
   "metadata": {},
   "outputs": [],
   "source": [
    "## Experiment with prompting, to see if broken tables can be \"merged\" based on LLM's output\n",
    "## This is work in progress .. NOT YET COMPLETE\n",
    "\n",
    "\n",
    "prompt = \"\"\"\n",
    "You are a Markdown expert whose objective is to check whether Markdown tables have been split into two or more tables because of page breaks or because of the OCR extraction process. You are designed to output JSON.\n",
    "\n",
    "You are given the following Markdown text:\n",
    "## START OF MARKDOWN TEXT\n",
    "{text}\n",
    "## END OF MARKDOWN TEXT\n",
    "\n",
    "In the markdown text above, detect whether there are Markdown tables. If there are, you **MUST** then output the first row and the last row of each table. We define a Markdown table by having consecutive rows with no space between, with the each row separated from the next by '|\\n'. Do not separate Markdown table semantically. \n",
    "\n",
    "\n",
    "JSON OUTPUT FORMAT:\n",
    "You **MUST** output a JSON object with the following key-value pairs and following format:\n",
    "\n",
    "{{\n",
    "    \"total_number_of_markdown_tables_located:\": \"the total number of Markdown tables located\",,\n",
    "    \"table_first_and_last_rows_array\":\n",
    "    [\n",
    "        {{\n",
    "            \"first_row\": \"The first row in Markdown table format. Make sure that the last row of the first table is outputted verbatim word-for-word, including any leading or trailing spaces, and any leading or trailing pipes.\",\n",
    "            \"last_row\": \"The last row of the table in Markdown table format. Make sure that the first row of the second table is outputted verbatim word-for-word, including any leading or trailing spaces, and any leading or trailing pipes.\",\n",
    "        }}\n",
    "    ]\n",
    "}}\n",
    "\"\"\"\n",
    "\n",
    "p = prompt.format(text = pdf_result['content'])\n",
    "table_edges = ask_LLM_with_JSON(p, model_info=model_info)\n",
    "print(table_edges)\n",
    "\n"
   ]
  },
  {
   "cell_type": "markdown",
   "metadata": {},
   "source": [
    "#### Second Step\n",
    "\n",
    "Second, try to use the tables boundaries to determine whether the tables are split because of the pages, or OCR extraction, and if they are, try to merge"
   ]
  },
  {
   "cell_type": "code",
   "execution_count": null,
   "metadata": {},
   "outputs": [],
   "source": [
    "\n",
    "prompt = \"\"\"\n",
    "You are a Markdown expert whose objective is to check whether Markdown tables have been split into two or more tables because of page breaks or because of the OCR extraction process. You are designed to output JSON.\n",
    "\n",
    "You are given the following Markdown text:\n",
    "## START OF MARKDOWN TEXT\n",
    "{text}\n",
    "## END OF MARKDOWN TEXT\n",
    "\n",
    "The below are the edges that define the start and end of each Markdown table. Use the first and last row mentioned in the \"table_first_and_last_rows_array\" as the definition of a Markdown table:\n",
    "## START OF TABLE EDGES\n",
    "{table_edges}\n",
    "## END OF TABLE EDGES\n",
    "\n",
    "In the markdown text above, detect whether there are Markdown tables. If there are, you **MUST** follow the Chain of Thought below:\n",
    "    1. Locate every Markdown table in the text using the provided Table Edges, and write down the number of those tables in your scratchpad.\n",
    "    2. Work on every two consecutive Markdown tables in a pairwise manner. For every pair of consecutive Markdown tables, you **MUST** check if they have any text between them. If the two tables are immediately consecutive, but there is text between them and this text is a footnote or a page number, you can safely ignore it, and mark the two tables as consecutive in your scratchpad. If, however, there is valid text between the two tables, then you **MUST** mark the two tables as not consecutive in your scratchpad.\n",
    "    3. Write down the number of checks you have to perform. You will have to perform checks for consecutive tables pair-wise.\n",
    "\n",
    " After completing the above steps, you **MUST** then do the following for every two immediately consecutive Markdown table:\n",
    "    A. If the separated Markdown tables are immediately consecutive, then check the headers and the data type of the columns of each table to estimate if the two tables originated from the same table but got split into two because of the page break, or because of the OCR extraction process.\n",
    "    B. If you find that these two Markdown tables likely belong to the same original table, then output **EXACTLY** the full last row of the first table, and the first full row of the first table in Markdown table format. Also output the exact string of characters that exist between the two tables in the JSON output.\n",
    "    C. Repeat the above steps for **ALL** immediately consecutive Markdown tables located in your scratchpad, to match the number of checks in your scratchpad.\n",
    "\n",
    "**SUPER IMPORTANT**: We define a Markdown table by having consecutive rows with no space between, with the each row separated from the next by '|\\n'. Do not separate Markdown table semantically. \n",
    "\n",
    "\n",
    "JSON OUTPUT FORMAT:\n",
    "Remember that you **MUST** process every two immediately consecutive or consecutive Markdown tables. You **MUST** output a JSON object with the following key-value pairs and following format:\n",
    "\n",
    "{{\n",
    "    \"total_number_of_markdown_tables_located:\": \"the total number of Markdown tables located\",\n",
    "    \"num_of_tables_to_be_merged\": \"the number of tables to be merged\",\n",
    "    \"tables_to_be_merged\":\n",
    "    [\n",
    "        {{\n",
    "            \"first_table_last_row\": \"The last row of the first table in Markdown table format. Make sure that the last row of the first table is outputted verbatim word-for-word, including any leading or trailing spaces, and any leading or trailing pipes.\",\n",
    "            \"second_table_first_row\": \"The first row of the second table in Markdown table format. Make sure that the first row of the second table is outputted verbatim word-for-word, including any leading or trailing spaces, and any leading or trailing pipes.\",\n",
    "            \"dividing_string\": \"The exact string of characters that exist between the two tables. Make sure that the string is outputted verbatim word-for-word, including any leading or trailing spaces, and any leading or trailing pipes.\",\n",
    "        }}\n",
    "    ]\n",
    "}}\n",
    "\n",
    "\"\"\"\n",
    "\n",
    "p = prompt.format(text = pdf_result['content'], table_edges=table_edges)\n",
    "output = ask_LLM_with_JSON(p, model_info=model_info)\n",
    "print(output)\n",
    "\n",
    "\n"
   ]
  },
  {
   "cell_type": "code",
   "execution_count": null,
   "metadata": {},
   "outputs": [],
   "source": [
    "import json\n",
    "import copy\n",
    "\n",
    "\n",
    "## Let's try to merge the tables\n",
    "findings = json.loads(output)\n",
    "pdf_content = copy.deepcopy(pdf_result['content'])\n",
    "\n",
    "\n",
    "for table in findings['tables_to_be_merged']:\n",
    "    first = table['first_table_last_row']\n",
    "    second = table['second_table_first_row']\n",
    "\n",
    "    print(\"Row in first table found: \", first in pdf_result['content'])\n",
    "    print(\"Row in last table found: \", second in pdf_result['content'])\n",
    "\n",
    "    for table in findings['tables_to_be_merged']:\n",
    "        first_table_last_row = table['first_table_last_row']\n",
    "        second_table_first_row = table['second_table_first_row']\n",
    "\n",
    "        first_part = pdf_content.split(first_table_last_row)[0]\n",
    "        second_part = pdf_content.split(second_table_first_row)[1]\n",
    "\n",
    "        pdf_content = first_part + first_table_last_row + '\\n' + second_table_first_row + second_part\n",
    "\n",
    "\n",
    "Markdown(pdf_content)\n",
    "\n"
   ]
  },
  {
   "cell_type": "code",
   "execution_count": null,
   "metadata": {},
   "outputs": [],
   "source": [
    "print(pdf_content)"
   ]
  },
  {
   "cell_type": "markdown",
   "metadata": {},
   "source": [
    "#### Change prompt and provide an example"
   ]
  },
  {
   "cell_type": "code",
   "execution_count": null,
   "metadata": {},
   "outputs": [],
   "source": [
    "## Experiment with prompting, to see if broken tables can be \"merged\" based on LLM's output\n",
    "## This is work in progress .. NOT YET COMPLETE\n",
    "\n",
    "prompt = \"\"\"\n",
    "You are a Markdown expert whose objective is to check whether Markdown tables have been split into two or more tables because of page breaks or because of the OCR extraction process. You are designed to output JSON.\n",
    "\n",
    "You are given the following Markdown text:\n",
    "## START OF MARKDOWN TEXT\n",
    "{text}\n",
    "## END OF MARKDOWN TEXT\n",
    "\n",
    "In the markdown text above, detect whether there are Markdown tables. If table is spanning across pages, you **MUST** combine table chunks from consecutive pages and create single table **BEFORE** output to JSON.\n",
    "\n",
    "## EXAMPLE\n",
    "Here is example of table that spans across pages:\n",
    "\n",
    "|||\n",
    "| - | - |\n",
    "| Column1 | Column2 | ColumnN |\n",
    "| Row1 Column1 value | Row1 Column2 value | Row1 ColumnN value |\n",
    "| Row2 Column1 value | Row2 Column2 value | Row2 ColumnN value |\n",
    "\n",
    "|||\n",
    "| - | - |\n",
    "| RowX Column1 value | RowX Column2 value | RowX ColumnN value |\n",
    "| RowY Column1 value | RowY Column2 value | RowY ColumnN value |\n",
    "\n",
    "## COMBINED TABLE\n",
    "Here result of combining table chunks from consecutive pages. First row is always the header row.\n",
    "\n",
    "| Column1 | Column2 | ColumnN |\n",
    "| Row1 Column1 value | Row1 Column2 value | Row1 ColumnN value |\n",
    "| Row2 Column1 value | Row2 Column2 value | Row2 ColumnN value |\n",
    "| RowX Column1 value | RowX Column2 value | RowX ColumnN value |\n",
    "| RowY Column1 value | RowY Column2 value | RowY ColumnN value |\n",
    "\n",
    "## JSON OUTPUT FORMAT:\n",
    "You **MUST** output a JSON object with the following key-value pairs and following format. Do **NOT* provide any other comments or unnecessary information in the JSON output:\n",
    "\n",
    "{{\n",
    "    \"Column1 Header\":\n",
    "        [\n",
    "                \"Row1 value\",\n",
    "                \"Row2 value\",\n",
    "                ...,\n",
    "                \"RowN value\"\n",
    "            }}\n",
    "        ],\n",
    "    \"Column2 Header\":\n",
    "        [\n",
    "                \"Row1 value\",\n",
    "                \"Row2 value\",\n",
    "                ...,\n",
    "                \"RowN value\"\n",
    "            }}\n",
    "        ],\n",
    "    ...,\n",
    "    \"ColumnN Header\":\n",
    "        [\n",
    "                \"Row1 value\",\n",
    "                \"Row2 value\",\n",
    "                ...,\n",
    "                \"RowN value\"\n",
    "            }}\n",
    "        ]\n",
    "}}\n",
    "\"\"\"\n",
    "\n",
    "p = prompt.format(text = pdf_result['content'])\n",
    "table_edges = ask_LLM_with_JSON(p, model_info=model_info)\n",
    "print(table_edges)"
   ]
  },
  {
   "cell_type": "code",
   "execution_count": null,
   "metadata": {},
   "outputs": [],
   "source": [
    "import pandas as pd\n",
    "import json\n",
    "\n",
    "# Parse the JSON string\n",
    "data = json.loads(table_edges)\n",
    "\n",
    "# Create DataFrame\n",
    "df = pd.DataFrame(data)\n",
    "\n",
    "# Display the DataFrame\n",
    "display(df)\n"
   ]
  },
  {
   "cell_type": "markdown",
   "metadata": {},
   "source": [
    "#### Lets try with different PDF file"
   ]
  },
  {
   "cell_type": "code",
   "execution_count": null,
   "metadata": {},
   "outputs": [],
   "source": [
    "path = r\"sample_data/1_London_Brochure.pdf\"\n",
    "pdf_result = analyze_document(path)\n",
    "Markdown(pdf_result['content'])"
   ]
  },
  {
   "cell_type": "code",
   "execution_count": null,
   "metadata": {},
   "outputs": [],
   "source": [
    "## Experiment with prompting, to see if broken tables can be \"merged\" based on LLM's output\n",
    "## This is work in progress .. NOT YET COMPLETE\n",
    "\n",
    "prompt = \"\"\"\n",
    "You are a Markdown expert whose objective is to check whether Markdown tables have been split into two or more tables because of page breaks or because of the OCR extraction process. You are designed to output JSON.\n",
    "\n",
    "You are given the following Markdown text:\n",
    "## START OF MARKDOWN TEXT\n",
    "{text}\n",
    "## END OF MARKDOWN TEXT\n",
    "\n",
    "In the markdown text above, detect whether there are Markdown tables. If table is spanning across pages, you **MUST** combine table chunks from consecutive pages and create single table **BEFORE** output to JSON.\n",
    "\n",
    "## EXAMPLE\n",
    "Here is example of table that spans across pages:\n",
    "\n",
    "|||\n",
    "| - | - |\n",
    "| Column1 | Column2 | ColumnN |\n",
    "| Row1 Column1 value | Row1 Column2 value | Row1 ColumnN value |\n",
    "| Row2 Column1 value | Row2 Column2 value | Row2 ColumnN value |\n",
    "\n",
    "|||\n",
    "| - | - |\n",
    "| RowX Column1 value | RowX Column2 value | RowX ColumnN value |\n",
    "| RowY Column1 value | RowY Column2 value | RowY ColumnN value |\n",
    "\n",
    "## COMBINED TABLE\n",
    "Here result of combining table chunks from consecutive pages. First row is always the header row.\n",
    "\n",
    "| Column1 | Column2 | ColumnN |\n",
    "| Row1 Column1 value | Row1 Column2 value | Row1 ColumnN value |\n",
    "| Row2 Column1 value | Row2 Column2 value | Row2 ColumnN value |\n",
    "| RowX Column1 value | RowX Column2 value | RowX ColumnN value |\n",
    "| RowY Column1 value | RowY Column2 value | RowY ColumnN value |\n",
    "\n",
    "## JSON OUTPUT FORMAT:\n",
    "You **MUST** output a JSON object with the following key-value pairs and following format. Do **NOT* provide any other comments or unnecessary information in the JSON output:\n",
    "\n",
    "{{\n",
    "    \"Column1 Header\":\n",
    "        [\n",
    "                \"Row1 value\",\n",
    "                \"Row2 value\",\n",
    "                ...,\n",
    "                \"RowN value\"\n",
    "            }}\n",
    "        ],\n",
    "    \"Column2 Header\":\n",
    "        [\n",
    "                \"Row1 value\",\n",
    "                \"Row2 value\",\n",
    "                ...,\n",
    "                \"RowN value\"\n",
    "            }}\n",
    "        ],\n",
    "    ...,\n",
    "    \"ColumnN Header\":\n",
    "        [\n",
    "                \"Row1 value\",\n",
    "                \"Row2 value\",\n",
    "                ...,\n",
    "                \"RowN value\"\n",
    "            }}\n",
    "        ]\n",
    "}}\n",
    "\"\"\"\n",
    "\n",
    "p = prompt.format(text = pdf_result['content'])\n",
    "table_edges = ask_LLM_with_JSON(p, model_info=model_info)\n",
    "print(table_edges)"
   ]
  },
  {
   "cell_type": "code",
   "execution_count": null,
   "metadata": {},
   "outputs": [],
   "source": [
    "import pandas as pd\n",
    "import json\n",
    "\n",
    "# Parse the JSON string\n",
    "data = json.loads(table_edges)\n",
    "\n",
    "# Create DataFrame\n",
    "df = pd.DataFrame(data)\n",
    "\n",
    "# Display the DataFrame\n",
    "display(df)\n"
   ]
  },
  {
   "cell_type": "code",
   "execution_count": null,
   "metadata": {},
   "outputs": [],
   "source": []
  }
 ],
 "metadata": {
  "kernelspec": {
   "display_name": "mmdoc",
   "language": "python",
   "name": "python3"
  },
  "language_info": {
   "codemirror_mode": {
    "name": "ipython",
    "version": 3
   },
   "file_extension": ".py",
   "mimetype": "text/x-python",
   "name": "python",
   "nbconvert_exporter": "python",
   "pygments_lexer": "ipython3",
   "version": "3.8.12"
  }
 },
 "nbformat": 4,
 "nbformat_minor": 2
}
